{
  "cells": [
    {
      "cell_type": "markdown",
      "metadata": {
        "id": "view-in-github",
        "colab_type": "text"
      },
      "source": [
        "<a href=\"https://colab.research.google.com/github/Baeltor/PCD/blob/main/Sesi%C3%B3n_1_%C2%A1Hola_Mundo!.ipynb\" target=\"_parent\"><img src=\"https://colab.research.google.com/assets/colab-badge.svg\" alt=\"Open In Colab\"/></a>"
      ]
    },
    {
      "cell_type": "markdown",
      "metadata": {
        "id": "Ddne3rN5UsI4"
      },
      "source": [
        "<h1><center>Capacitación Python</center></h1>\n",
        "\n",
        "Escribir programas (o programar) es una actividad muy creativa y gratificante.\n",
        "Puedes escribir programas por muchas razones, que pueden ir desde mantenerte\n",
        "activo resolviendo un problema de análisis de datos complejo hasta hacerlo por\n",
        "pura diversión ayudando a otros a resolver un enigma.\n",
        "\n",
        "En nuestra vida diaria estamos rodeados de computadoras, desde equipos portátiles\n",
        "(laptops) hasta teléfonos móviles (celulares). Podemos pensar en esas computadoras como nuestros “asistentes personales”, que pueden ocuparse de muchas tareas\n",
        "por nosotros. El hardware en los equipos que usamos cada día está diseñado esencialmente para hacernos la misma pregunta de forma constante, “¿Qué quieres\n",
        "que haga ahora?”\n",
        "\n",
        "Nuestros equipos son rápidos y tienen grandes cantidades de memoria. Podrían\n",
        "resultarnos muy útiles si tan solo supiéramos qué idioma utilizar para explicarle\n",
        "a la computadora qué es lo que queremos que “haga ahora”. Si conociéramos ese\n",
        "idioma, podríamos pedirle al aparato que realizase en nuestro lugar, por ejemplo,\n",
        "tareas repetitivas. Precisamente el tipo de cosas que las computadoras saben hacer\n",
        "mejor suelen ser el tipo de cosas que las personas encontramos pesadas y aburridas.\n",
        "\n",
        "\n",
        "Por ejemplo, mira los primeros tres párrafos de cualquier capitulo de un libro y digame cuál es la palabra que más se repite, y cuántas veces se ha utilizado. Aunque seas capaz de leer\n",
        "y comprender las palabras en pocos segundos, contarlas te resultará casi imposible,\n",
        "porque la mente humana no fue diseñada para resolver ese tipo de problemas. Para\n",
        "una computadora es justo al revés, leer y comprender texto de un trozo de papel\n",
        "le sería difícil, pero contar las palabras y decirte cuántas veces se ha repetido la\n",
        "más utilizada le resulta muy sencillo."
      ]
    },
    {
      "cell_type": "markdown",
      "metadata": {
        "id": "ma0tGEljoq5M"
      },
      "source": [
        "# __Estructuras de control__\n",
        "\n",
        "El objetivo de este Notebook es presentar algunos conceptos sobre las estructuras de control de flujo en Python. Se desarrollará los siguientes temas:\n",
        "\n",
        "\n",
        "*   Flujo de datos (entrada y salida)\n",
        "*   Tipos de datos\n",
        "*   Manipulación de expresiones aritméticas\n",
        "*   Condicionales\n",
        "*   Ciclos\n",
        "\n",
        "**Es importante mencionar que este Notebook no presenta una revisión exhaustiva sobre los temas mencionados. Para más información se recomienda consultar la documentación oficial.**\n",
        "\n",
        "$$h^2 = a^2 +b^2 \\text{ si } a=\\frac{x}{y}$$"
      ]
    },
    {
      "cell_type": "markdown",
      "metadata": {
        "id": "cG69MpmDUsI_"
      },
      "source": [
        "### ¿Qué es un programa?\n",
        "Podemos definir un programa, en su forma más básica, como una secuencia de\n",
        "declaraciones o sentencias que han sido diseñadas para hacer algo. Incluso nuestro\n",
        "sencillo script “hola.py” es un programa. Es un programa de una sola línea y no\n",
        "resulta particularmente útil, pero si nos ajustamos estrictamente a la definición, se\n",
        "trata de un programa en Python.\n",
        "Tal vez resulte más fácil comprender qué es un programa pensando en un problema\n",
        "que pudiera ser resuelto a través de un programa, y luego estudiando cómo sería\n",
        "el programa que solucionaría ese problema.\n",
        "Supongamos que estás haciendo una investigación de computación o informática social en mensajes de Facebook, y te interesa conocer cual es la palabra más utilizada\n",
        "en un conjunto de mensajes. Podrías imprimir el flujo de mensajes de Facebook y\n",
        "revisar con atención el texto, buscando la palabra más común, pero sería un proceso largo y muy propenso a errores. Sería más inteligente escribir un programa\n",
        "en Python para encargarse de la tarea con rapidez y precisión, y así poder emplear\n",
        "el fin de semana en hacer otras cosas más divertidas."
      ]
    },
    {
      "cell_type": "markdown",
      "metadata": {
        "id": "ZnyRxmwopIsc"
      },
      "source": [
        "## __Flujo de datos (entrada y salida)__\n",
        "\n",
        "Mi primer programa en Python."
      ]
    },
    {
      "cell_type": "code",
      "execution_count": 1,
      "metadata": {
        "id": "CJOh1YbNpEMA",
        "colab": {
          "base_uri": "https://localhost:8080/"
        },
        "outputId": "bd839ade-9f48-4796-afe0-62acbcb803a6"
      },
      "outputs": [
        {
          "output_type": "stream",
          "name": "stdout",
          "text": [
            "Hola Mundo\n"
          ]
        }
      ],
      "source": [
        "print(\"Hola Mundo\")"
      ]
    },
    {
      "cell_type": "code",
      "execution_count": 5,
      "metadata": {
        "id": "wNispSD2UsJC",
        "colab": {
          "base_uri": "https://localhost:8080/"
        },
        "outputId": "45e5e3f5-e63e-4bc3-e4a1-e0917b8f536f"
      },
      "outputs": [
        {
          "output_type": "stream",
          "name": "stdout",
          "text": [
            "Hola Mundo\n"
          ]
        }
      ],
      "source": [
        "mundo = \"Mundo\"\n",
        "print('Hola', mundo)"
      ]
    },
    {
      "cell_type": "markdown",
      "metadata": {
        "id": "9Bbx7gMBqRgQ"
      },
      "source": [
        "Recibir datos del usuario (función `input()`)"
      ]
    },
    {
      "cell_type": "code",
      "source": [
        "numero_años = 15\n",
        "#numero años =15"
      ],
      "metadata": {
        "id": "ySxy5SAyVbPg"
      },
      "execution_count": 6,
      "outputs": []
    },
    {
      "cell_type": "code",
      "source": [
        "type(numero_años)"
      ],
      "metadata": {
        "colab": {
          "base_uri": "https://localhost:8080/"
        },
        "id": "Rt-LKOv_VmQf",
        "outputId": "90f4dd54-d54c-4438-893f-6336742546c0"
      },
      "execution_count": 7,
      "outputs": [
        {
          "output_type": "execute_result",
          "data": {
            "text/plain": [
              "int"
            ]
          },
          "metadata": {},
          "execution_count": 7
        }
      ]
    },
    {
      "cell_type": "code",
      "execution_count": 8,
      "metadata": {
        "id": "C7r9h5DqomBc",
        "colab": {
          "base_uri": "https://localhost:8080/"
        },
        "outputId": "9eb55369-9070-468c-e06f-63bf0b5c2e88"
      },
      "outputs": [
        {
          "output_type": "stream",
          "name": "stdout",
          "text": [
            "Ingrese su nombre: Sergio\n",
            "Hola, Sergio esto es otra cadena 12345\n",
            "Hola, Sergio, tienes 15 años\n",
            "Hola, Sergio, tienes 15 años\n"
          ]
        }
      ],
      "source": [
        "entrada = input(\"Ingrese su nombre: \")\n",
        "print(\"Hola,\", entrada, \"esto es otra cadena\", 12345)\n",
        "print(f\"Hola, {entrada}, tienes {numero_años} años\")\n",
        "print(\"Hola, {}, tienes {} años\".format(entrada, numero_años))"
      ]
    },
    {
      "cell_type": "code",
      "source": [
        "# prompt: genera un script donde pida un nombre y la fecha de nacimiento y realice un saludo mencionando el nombre y la edad\n",
        "\n",
        "# Get the user's name.\n",
        "name = input(\"What is your name? \")\n",
        "\n",
        "# Get the user's birth year.\n",
        "birth_year = int(input(\"What year were you born? \"))\n",
        "\n",
        "# Calculate the user's age.\n",
        "age = 2024 - birth_year\n",
        "\n",
        "# Print a greeting.\n",
        "print(f\"Hello, {name}! You are {age} years old.\")\n"
      ],
      "metadata": {
        "colab": {
          "base_uri": "https://localhost:8080/"
        },
        "id": "X5eLOyAlWky9",
        "outputId": "181408cb-d28e-4694-c3fe-e54fc1c037d1"
      },
      "execution_count": 9,
      "outputs": [
        {
          "output_type": "stream",
          "name": "stdout",
          "text": [
            "What is your name? David\n",
            "What year were you born? 1998\n",
            "Hello, David! You are 26 years old.\n"
          ]
        }
      ]
    },
    {
      "cell_type": "markdown",
      "metadata": {
        "id": "lGlZobuKv0-D"
      },
      "source": [
        "### __Comentarios__\n",
        "\n",
        "Python nos permite agregar comentarios para documentar nuestro código. Los comentarios no serán tenidos en cuenta por el interprete. Podemos tener comentarios de una única línea utilizando el símbolo `#`"
      ]
    },
    {
      "cell_type": "code",
      "execution_count": 10,
      "metadata": {
        "id": "_g-2bcUpxOcx",
        "colab": {
          "base_uri": "https://localhost:8080/"
        },
        "outputId": "981461e2-c88c-469b-eef5-b82dd7175998"
      },
      "outputs": [
        {
          "output_type": "stream",
          "name": "stdout",
          "text": [
            "aaaaaaaaaaaaaaaaaaaa\n"
          ]
        }
      ],
      "source": [
        "b = 'aa'   # Esto es un comentarios de una línea\n",
        "print(b * 10)\n",
        "# Este es otro comentario en Python.\n",
        "# Es posible tener tantos comentarios de una única línea como se requiera"
      ]
    },
    {
      "cell_type": "markdown",
      "metadata": {
        "id": "3Jcu3jt2x3lv"
      },
      "source": [
        "También es posible crear comentarios de múltiples líneas utilizando tres comillas simples `'''` o tres comillas dobles `\"\"\"`"
      ]
    },
    {
      "cell_type": "code",
      "execution_count": 15,
      "metadata": {
        "id": "gTcoPOo3yTL7",
        "colab": {
          "base_uri": "https://localhost:8080/"
        },
        "outputId": "57fe4a69-e4d4-4e0e-d299-e7f8e910c7a3"
      },
      "outputs": [
        {
          "output_type": "stream",
          "name": "stdout",
          "text": [
            "Este es un comentario multilínea.\n",
            "Podemos 'a' escribir tantas líneas queramos \n",
            "comillas doles citando una comilla sencilla 'a'\n",
            "comillas sencillas citando una comilla doble \"a\"\n"
          ]
        },
        {
          "output_type": "execute_result",
          "data": {
            "text/plain": [
              "3"
            ]
          },
          "metadata": {},
          "execution_count": 15
        }
      ],
      "source": [
        "print('''Este es un comentario multilínea.\n",
        "Podemos 'a' escribir tantas líneas queramos ''')\n",
        "print(\"comillas doles citando una comilla sencilla 'a'\")\n",
        "print('comillas sencillas citando una comilla doble \"a\"')\n",
        "#print('en comillas sencillas no puedo citar una comilla sencilla 'a'')\n",
        "\"\"\"Este \"b\" es un comentario multilínea.\n",
        "Podemos escribir tantas líneas queramos \"\"\"\n",
        "\n",
        "b = 3\n",
        "b\n",
        "#print(b * 5)\n",
        "\n",
        "#'''También podemos hacer \"w\", 'B'comentarios multilíneas con comillas simples.'''\n",
        "#\"\"\"También podemos hacer comentarios multilíneas con comillas simples.\"\"\"\n",
        "#'''También podemos hacer \"w\", 'B' comentarios multilíneas con comillas simples.'''"
      ]
    },
    {
      "cell_type": "markdown",
      "metadata": {
        "id": "jBGFlA-965lW"
      },
      "source": [
        "Podemos combinar las comillas simples y las dobles según lo necesitemos:"
      ]
    },
    {
      "cell_type": "code",
      "execution_count": null,
      "metadata": {
        "id": "ZSDx77gG6-qU",
        "colab": {
          "base_uri": "https://localhost:8080/",
          "height": 35
        },
        "outputId": "5dc25737-5970-4346-9b45-856a1a5a2466"
      },
      "outputs": [
        {
          "output_type": "execute_result",
          "data": {
            "text/plain": [
              "'Este es un comentario en el cual \"existen\" comillas dobles'"
            ],
            "application/vnd.google.colaboratory.intrinsic+json": {
              "type": "string"
            }
          },
          "metadata": {},
          "execution_count": 23
        }
      ],
      "source": [
        "'''Este es un comentario en el cual \"existen\" comillas dobles'''\n",
        "\"\"\"Este es un comentario en el cual \"existen\" comillas dobles\"\"\""
      ]
    },
    {
      "cell_type": "code",
      "source": [
        "def mi_funcion():\n",
        "    return ':)'"
      ],
      "metadata": {
        "id": "QEu7SMvyXcFN"
      },
      "execution_count": 16,
      "outputs": []
    },
    {
      "cell_type": "code",
      "source": [
        "mi_funcion()"
      ],
      "metadata": {
        "colab": {
          "base_uri": "https://localhost:8080/",
          "height": 36
        },
        "id": "D1DC7r1OXiCJ",
        "outputId": "a62d8cea-1cb5-4fca-cfec-5427c1b176e8"
      },
      "execution_count": 18,
      "outputs": [
        {
          "output_type": "execute_result",
          "data": {
            "text/plain": [
              "':)'"
            ],
            "application/vnd.google.colaboratory.intrinsic+json": {
              "type": "string"
            }
          },
          "metadata": {},
          "execution_count": 18
        }
      ]
    },
    {
      "cell_type": "markdown",
      "metadata": {
        "id": "egyeuAL92bB2"
      },
      "source": [
        "### __`CamelCase` y `snake_case`__\n",
        "\n",
        "Python combina los estilos `snake_case` y `CamelCase` en su sintaxis:\n",
        "\n",
        "*   __snake_case:__ letras_minusculas_separadas_por_underscore `my_variable`, `my_function`, `my_module`\n",
        "*   __CameCase:__ Primera letra de cada palabra Mayuscúla `ClassName`, `methodName`, `myVariable`.\n",
        "\n",
        "* __Constantes__: TODO_EN_MAYUSCULA `PI = 3.1415`, `ALL_UPPERCASE = True`\n",
        "\n",
        "\n",
        "Para la declaración de variables, funciones, clases, etc. es una buena práctica seguir las recomendaciones [PEP8](https://realpython.com/python-pep8/#naming-styles). En general, usaremos CamelCase para los nombres de las clases y snake_case para todo lo demás\n",
        "\n",
        "![imagen.png](data:image/png;base64,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)"
      ]
    },
    {
      "cell_type": "markdown",
      "metadata": {
        "id": "-Dhxe-Rfqiy4"
      },
      "source": [
        "## __Tipos de datos__\n",
        "\n",
        "Python nos permite declarar variables con los siguientes tipos de datos:\n",
        "\n",
        "\n",
        "![dataTypes(1).png](data:image/png;base64,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)\n",
        "\n",
        "Por el momento solo nos concentratermos en los tipos de datos numéricos (`integer` y `float`) booleanos `(boolean)` y cadenas de caracteres (`string`)\n",
        "\n"
      ]
    },
    {
      "cell_type": "code",
      "source": [
        "var_dic = {'key_0': 1, 'Edad': 28, 'Nombre': 'Juan', 'Peso y talla': [50, 175], 'dicc': {'key_1': 0}}"
      ],
      "metadata": {
        "id": "Zl3IrJp7YnmT"
      },
      "execution_count": 21,
      "outputs": []
    },
    {
      "cell_type": "code",
      "source": [
        "var_dic"
      ],
      "metadata": {
        "colab": {
          "base_uri": "https://localhost:8080/"
        },
        "id": "Z2_9sCghY8mM",
        "outputId": "45f61673-7d55-4aa5-c939-064adddc2d82"
      },
      "execution_count": 22,
      "outputs": [
        {
          "output_type": "execute_result",
          "data": {
            "text/plain": [
              "{'key_0': 1,\n",
              " 'Edad': 28,\n",
              " 'Nombre': 'Juan',\n",
              " 'Peso y talla': [50, 175],\n",
              " 'dicc': {'key_1': 0}}"
            ]
          },
          "metadata": {},
          "execution_count": 22
        }
      ]
    },
    {
      "cell_type": "code",
      "source": [
        "print(type(True))\n",
        "print(type(False))"
      ],
      "metadata": {
        "colab": {
          "base_uri": "https://localhost:8080/"
        },
        "id": "l-2xd1FKZPji",
        "outputId": "a6b253ef-4cf4-4f96-d66a-e2681fd51c78"
      },
      "execution_count": 26,
      "outputs": [
        {
          "output_type": "stream",
          "name": "stdout",
          "text": [
            "<class 'bool'>\n",
            "<class 'bool'>\n"
          ]
        }
      ]
    },
    {
      "cell_type": "code",
      "source": [
        "set([1,2,2,1,3,3])"
      ],
      "metadata": {
        "colab": {
          "base_uri": "https://localhost:8080/"
        },
        "id": "-CC3xBOaZke_",
        "outputId": "877fec81-aca3-4935-adfd-7a5b290c6cb8"
      },
      "execution_count": 28,
      "outputs": [
        {
          "output_type": "execute_result",
          "data": {
            "text/plain": [
              "{1, 2, 3}"
            ]
          },
          "metadata": {},
          "execution_count": 28
        }
      ]
    },
    {
      "cell_type": "code",
      "source": [
        "{1,2,2,1,3,3}"
      ],
      "metadata": {
        "colab": {
          "base_uri": "https://localhost:8080/"
        },
        "id": "cJyZiaHOZsGI",
        "outputId": "a5489440-f446-442b-a4d5-a76e5aaf985d"
      },
      "execution_count": 29,
      "outputs": [
        {
          "output_type": "execute_result",
          "data": {
            "text/plain": [
              "{1, 2, 3}"
            ]
          },
          "metadata": {},
          "execution_count": 29
        }
      ]
    },
    {
      "cell_type": "code",
      "source": [
        "[1,2,2,1,3,3]"
      ],
      "metadata": {
        "colab": {
          "base_uri": "https://localhost:8080/"
        },
        "id": "V_QcSrWEZ9B2",
        "outputId": "14db0154-f7dd-45cd-ee39-3d0e1abb21fb"
      },
      "execution_count": 30,
      "outputs": [
        {
          "output_type": "execute_result",
          "data": {
            "text/plain": [
              "[1, 2, 2, 1, 3, 3]"
            ]
          },
          "metadata": {},
          "execution_count": 30
        }
      ]
    },
    {
      "cell_type": "code",
      "source": [
        "(1,2,2,1,3,3)"
      ],
      "metadata": {
        "colab": {
          "base_uri": "https://localhost:8080/"
        },
        "id": "I8BlytfWaFZ9",
        "outputId": "fc331d7d-ec32-43b7-afee-fa1756fa424f"
      },
      "execution_count": 31,
      "outputs": [
        {
          "output_type": "execute_result",
          "data": {
            "text/plain": [
              "(1, 2, 2, 1, 3, 3)"
            ]
          },
          "metadata": {},
          "execution_count": 31
        }
      ]
    },
    {
      "cell_type": "code",
      "execution_count": 32,
      "metadata": {
        "id": "-QipZGnTqhWk",
        "colab": {
          "base_uri": "https://localhost:8080/"
        },
        "outputId": "b0f05b0e-fb4c-480f-ce5d-86da1c8e1073"
      },
      "outputs": [
        {
          "output_type": "stream",
          "name": "stdout",
          "text": [
            "<class 'str'>\n",
            "<class 'float'>\n",
            "<class 'int'>\n",
            "<class 'bool'>\n",
            "<class 'dict'>\n",
            "<class 'list'>\n",
            "<class 'set'>\n",
            "<class 'tuple'>\n"
          ]
        }
      ],
      "source": [
        "print(type(\"Una cadena\"))\n",
        "print(type(2.33))\n",
        "print(type(111))\n",
        "print(type(True))\n",
        "print(type({\"key_1\":0}))\n",
        "print(type([1,2,3,4]))\n",
        "print(type({1,2,3,4}))\n",
        "print(type((1,2)))"
      ]
    },
    {
      "cell_type": "markdown",
      "metadata": {
        "id": "2FQD-C3fi-T8"
      },
      "source": [
        "### Variables\n",
        "Una de las características más potentes de un lenguaje de programación es la\n",
        "capacidad de manipular variables. Una variable es un nombre que se refiere a un\n",
        "valor."
      ]
    },
    {
      "cell_type": "code",
      "execution_count": 33,
      "metadata": {
        "id": "r5AG6_a-i-T8",
        "colab": {
          "base_uri": "https://localhost:8080/"
        },
        "outputId": "da7b0e4d-43a1-43c7-cf52-cc122dc2ce8a"
      },
      "outputs": [
        {
          "output_type": "stream",
          "name": "stdout",
          "text": [
            "Estamos aprendiendo Python <class 'str'>\n",
            "2021 <class 'int'>\n",
            "3.1415 <class 'float'>\n"
          ]
        }
      ],
      "source": [
        "mensaje = \"Estamos aprendiendo Python\"\n",
        "print(mensaje, type(mensaje))\n",
        "mensaje = 2021\n",
        "print(mensaje, type(mensaje))\n",
        "mensaje = 3.1415\n",
        "print(mensaje, type(mensaje))\n"
      ]
    },
    {
      "cell_type": "markdown",
      "metadata": {
        "id": "CCze0fjBi-T9"
      },
      "source": [
        "Este ejemplo hace tres asignaciones. La primera asigna una cadena a una variable\n",
        "nueva llamada mensaje; la segunda asigna el entero 2021 a n; la tercera asigna el\n",
        "valor (aproximado) de π a pi.\n",
        "Para mostrar el valor de una variable, se puede usar la sentencia print:\n"
      ]
    },
    {
      "cell_type": "code",
      "execution_count": 36,
      "metadata": {
        "id": "stNEIy-Gi-T9",
        "colab": {
          "base_uri": "https://localhost:8080/"
        },
        "outputId": "6bc3c2bb-21bd-4b57-ff09-53404a099c49"
      },
      "outputs": [
        {
          "output_type": "stream",
          "name": "stdout",
          "text": [
            "3.1415 <class 'float'>\n"
          ]
        }
      ],
      "source": [
        "print(mensaje, type(mensaje))\n",
        "#print(n, type(n))\n",
        "#print(pi, type(pi))"
      ]
    },
    {
      "cell_type": "markdown",
      "metadata": {
        "id": "bgWj2Uzgi-T-"
      },
      "source": [
        "## Nombres de variables y palabras claves\n",
        "\n",
        "Los programadores generalmente eligen nombres para sus variables que tengan\n",
        "sentido y documentan para qué se usa esa variable.\n",
        "Los nombres de las variables pueden ser arbitrariamente largos. Pueden contener\n",
        "tanto letras como números, pero no pueden comenzar con un número. Se pueden\n",
        "usar letras mayúsculas, pero es buena idea comenzar los nombres de las variables\n",
        "con una letras minúscula."
      ]
    },
    {
      "cell_type": "code",
      "execution_count": 37,
      "metadata": {
        "id": "gKEwQBW4i-T-",
        "colab": {
          "base_uri": "https://localhost:8080/",
          "height": 106
        },
        "outputId": "872db246-072f-458e-9aec-c4b4d89cffa7"
      },
      "outputs": [
        {
          "output_type": "error",
          "ename": "SyntaxError",
          "evalue": "invalid decimal literal (<ipython-input-37-7fa92066e6d3>, line 1)",
          "traceback": [
            "\u001b[0;36m  File \u001b[0;32m\"<ipython-input-37-7fa92066e6d3>\"\u001b[0;36m, line \u001b[0;32m1\u001b[0m\n\u001b[0;31m    79numero = 25\u001b[0m\n\u001b[0m     ^\u001b[0m\n\u001b[0;31mSyntaxError\u001b[0m\u001b[0;31m:\u001b[0m invalid decimal literal\n"
          ]
        }
      ],
      "source": [
        "79numero = 25"
      ]
    },
    {
      "cell_type": "code",
      "source": [
        "var25 = 25"
      ],
      "metadata": {
        "id": "e0xCKGRGau5S"
      },
      "execution_count": 39,
      "outputs": []
    },
    {
      "cell_type": "code",
      "execution_count": 41,
      "metadata": {
        "id": "ml5xxeadi-T-",
        "colab": {
          "base_uri": "https://localhost:8080/",
          "height": 106
        },
        "outputId": "306f48fa-0c2f-4619-e16e-0b5443c5d640"
      },
      "outputs": [
        {
          "output_type": "error",
          "ename": "SyntaxError",
          "evalue": "cannot assign to expression here. Maybe you meant '==' instead of '='? (<ipython-input-41-0eb942171946>, line 1)",
          "traceback": [
            "\u001b[0;36m  File \u001b[0;32m\"<ipython-input-41-0eb942171946>\"\u001b[0;36m, line \u001b[0;32m1\u001b[0m\n\u001b[0;31m    a@1 = 25\u001b[0m\n\u001b[0m    ^\u001b[0m\n\u001b[0;31mSyntaxError\u001b[0m\u001b[0;31m:\u001b[0m cannot assign to expression here. Maybe you meant '==' instead of '='?\n"
          ]
        }
      ],
      "source": [
        "numero@ = 25"
      ]
    },
    {
      "cell_type": "code",
      "execution_count": 42,
      "metadata": {
        "id": "clPXLCd9i-T-",
        "colab": {
          "base_uri": "https://localhost:8080/",
          "height": 106
        },
        "outputId": "fa6fda5a-8eaf-4db1-bfac-a123f602715c"
      },
      "outputs": [
        {
          "output_type": "error",
          "ename": "SyntaxError",
          "evalue": "invalid syntax (<ipython-input-42-e7cdbfb88d3e>, line 1)",
          "traceback": [
            "\u001b[0;36m  File \u001b[0;32m\"<ipython-input-42-e7cdbfb88d3e>\"\u001b[0;36m, line \u001b[0;32m1\u001b[0m\n\u001b[0;31m    class = 25\u001b[0m\n\u001b[0m          ^\u001b[0m\n\u001b[0;31mSyntaxError\u001b[0m\u001b[0;31m:\u001b[0m invalid syntax\n"
          ]
        }
      ],
      "source": [
        "class = 25"
      ]
    },
    {
      "cell_type": "markdown",
      "metadata": {
        "id": "eSIzqY7EUsJQ"
      },
      "source": [
        "## Palabras resevadas\n",
        "\n",
        "![image.png](data:image/png;base64,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)![image-2.png](attachment:image-2.png)\n",
        "\n",
        "Fuente: https://s3.amazonaws.com/media-p.slid.es/uploads/732583/images/5358524/Screen_Shot_2018-10-13_at_01.22.24.png"
      ]
    },
    {
      "cell_type": "code",
      "execution_count": 43,
      "metadata": {
        "id": "Nn21AlgZUsJQ",
        "colab": {
          "base_uri": "https://localhost:8080/"
        },
        "outputId": "18953f29-86e1-423d-ea07-500666674a31"
      },
      "outputs": [
        {
          "output_type": "stream",
          "name": "stdout",
          "text": [
            "3 3 4\n",
            "<class 'int'> <class 'int'> <class 'int'>\n"
          ]
        }
      ],
      "source": [
        "a=3\n",
        "b=a\n",
        "c=b+1\n",
        "print(a,b,c)\n",
        "print(type(a),type(b),type(c))"
      ]
    },
    {
      "cell_type": "markdown",
      "metadata": {
        "id": "zFQ-uYgorEE7"
      },
      "source": [
        "Un ejemplo simple utilizando la función `input()`"
      ]
    },
    {
      "cell_type": "code",
      "execution_count": 45,
      "metadata": {
        "id": "TQt76Q-8rGKf",
        "colab": {
          "base_uri": "https://localhost:8080/",
          "height": 228
        },
        "outputId": "a1982957-86a2-4000-8710-7dba08f22b27"
      },
      "outputs": [
        {
          "name": "stdout",
          "output_type": "stream",
          "text": [
            "Ingrese el primer número: 5.6\n",
            "Ingrese el segundo número: dos\n"
          ]
        },
        {
          "output_type": "error",
          "ename": "ValueError",
          "evalue": "invalid literal for int() with base 10: 'dos'",
          "traceback": [
            "\u001b[0;31m---------------------------------------------------------------------------\u001b[0m",
            "\u001b[0;31mValueError\u001b[0m                                Traceback (most recent call last)",
            "\u001b[0;32m<ipython-input-45-02a985c45a21>\u001b[0m in \u001b[0;36m<cell line: 2>\u001b[0;34m()\u001b[0m\n\u001b[1;32m      1\u001b[0m \u001b[0ma\u001b[0m \u001b[0;34m=\u001b[0m \u001b[0mfloat\u001b[0m\u001b[0;34m(\u001b[0m\u001b[0minput\u001b[0m\u001b[0;34m(\u001b[0m\u001b[0;34m\"Ingrese el primer número: \"\u001b[0m\u001b[0;34m)\u001b[0m\u001b[0;34m)\u001b[0m\u001b[0;34m\u001b[0m\u001b[0;34m\u001b[0m\u001b[0m\n\u001b[0;32m----> 2\u001b[0;31m \u001b[0mb\u001b[0m \u001b[0;34m=\u001b[0m \u001b[0mint\u001b[0m\u001b[0;34m(\u001b[0m\u001b[0minput\u001b[0m\u001b[0;34m(\u001b[0m\u001b[0;34m\"Ingrese el segundo número: \"\u001b[0m\u001b[0;34m)\u001b[0m\u001b[0;34m)\u001b[0m\u001b[0;34m\u001b[0m\u001b[0;34m\u001b[0m\u001b[0m\n\u001b[0m\u001b[1;32m      3\u001b[0m \u001b[0;34m\u001b[0m\u001b[0m\n\u001b[1;32m      4\u001b[0m \u001b[0mprint\u001b[0m\u001b[0;34m(\u001b[0m\u001b[0;34mf\"El resutlado de la suma : {a + b}\"\u001b[0m\u001b[0;34m)\u001b[0m\u001b[0;34m\u001b[0m\u001b[0;34m\u001b[0m\u001b[0m\n",
            "\u001b[0;31mValueError\u001b[0m: invalid literal for int() with base 10: 'dos'"
          ]
        }
      ],
      "source": [
        "a = float(input(\"Ingrese el primer número: \"))\n",
        "b = int(input(\"Ingrese el segundo número: \"))\n",
        "\n",
        "print(f\"El resutlado de la suma : {a + b}\")"
      ]
    },
    {
      "cell_type": "markdown",
      "metadata": {
        "id": "RW12My61rWbW"
      },
      "source": [
        "### __Tipado__\n",
        "Python en es lenguaje de programación con:\n",
        "\n",
        "*   __Tipado dinámico__: una variable puede cambiar su tipo en tiempo de ejecución."
      ]
    },
    {
      "cell_type": "code",
      "execution_count": 46,
      "metadata": {
        "colab": {
          "base_uri": "https://localhost:8080/"
        },
        "id": "BIMUtSWcrWHd",
        "outputId": "377c9cec-a8fb-4052-810b-7bbc98c41c8b"
      },
      "outputs": [
        {
          "output_type": "stream",
          "name": "stdout",
          "text": [
            "5 <class 'int'>\n",
            "Hola mundo <class 'str'>\n"
          ]
        }
      ],
      "source": [
        "a = 5\n",
        "print(a, type(a))\n",
        "a = \"Hola mundo\"\n",
        "print(a, type(a))"
      ]
    },
    {
      "cell_type": "markdown",
      "metadata": {
        "id": "gjOC3e8BssIb"
      },
      "source": [
        "*   __Fuertemente tipado__: no permite realizar operaciones entre tipos de datos incompatibles."
      ]
    },
    {
      "cell_type": "code",
      "execution_count": 56,
      "metadata": {
        "colab": {
          "base_uri": "https://localhost:8080/"
        },
        "id": "--6HjFlWsrp_",
        "outputId": "da6c2f0c-ea26-4e23-c227-d8a9341754f3"
      },
      "outputs": [
        {
          "output_type": "stream",
          "name": "stdout",
          "text": [
            "['5', '4', '5', '4', '5', '4']\n"
          ]
        }
      ],
      "source": [
        "a = [\"5\", \"4\"]\n",
        "b = 3 #[\"7\", 4]\n",
        "print(a * b)  # ¡Error!"
      ]
    },
    {
      "cell_type": "code",
      "source": [
        "a = 2\n",
        "b = \"7a\"\n",
        "print(a * b)"
      ],
      "metadata": {
        "colab": {
          "base_uri": "https://localhost:8080/"
        },
        "id": "z4ToVfIBcwAv",
        "outputId": "42c040df-9368-4e7e-d6c1-51ae91a2296d"
      },
      "execution_count": 58,
      "outputs": [
        {
          "output_type": "stream",
          "name": "stdout",
          "text": [
            "7a7a\n"
          ]
        }
      ]
    },
    {
      "cell_type": "markdown",
      "metadata": {
        "id": "Rt-BREen8-5l"
      },
      "source": [
        "Para realizar operaciones entre distintos datos se debe realizar la conversión de manera explicita"
      ]
    },
    {
      "cell_type": "code",
      "execution_count": 59,
      "metadata": {
        "id": "wsLs-Z8Qtd2O",
        "colab": {
          "base_uri": "https://localhost:8080/",
          "height": 141
        },
        "outputId": "4d844e2d-cd57-402a-f109-4b1254fc8035"
      },
      "outputs": [
        {
          "output_type": "error",
          "ename": "ValueError",
          "evalue": "invalid literal for int() with base 10: '7a'",
          "traceback": [
            "\u001b[0;31m---------------------------------------------------------------------------\u001b[0m",
            "\u001b[0;31mValueError\u001b[0m                                Traceback (most recent call last)",
            "\u001b[0;32m<ipython-input-59-70d6ec22298e>\u001b[0m in \u001b[0;36m<cell line: 1>\u001b[0;34m()\u001b[0m\n\u001b[0;32m----> 1\u001b[0;31m \u001b[0mprint\u001b[0m\u001b[0;34m(\u001b[0m\u001b[0ma\u001b[0m \u001b[0;34m+\u001b[0m \u001b[0mint\u001b[0m\u001b[0;34m(\u001b[0m\u001b[0mb\u001b[0m\u001b[0;34m)\u001b[0m\u001b[0;34m)\u001b[0m\u001b[0;34m\u001b[0m\u001b[0;34m\u001b[0m\u001b[0m\n\u001b[0m",
            "\u001b[0;31mValueError\u001b[0m: invalid literal for int() with base 10: '7a'"
          ]
        }
      ],
      "source": [
        "print(a + int(b))"
      ]
    },
    {
      "cell_type": "markdown",
      "metadata": {
        "id": "UZS8DRMLuC6r"
      },
      "source": [
        "### __Anotaciones__\n",
        "A pesar de ser un lenguaje de tipado dinámico, Python soporta (de forma opcional) un sistema de tipos estáticos usando *anotaciones*. Para esto usamos la siguiente sintaxis `<variale> : <tipo de dato> = <valor>`\n",
        "\n"
      ]
    },
    {
      "cell_type": "code",
      "execution_count": 60,
      "metadata": {
        "id": "8gtDxc72ubk2"
      },
      "outputs": [],
      "source": [
        "a : int = 10\n",
        "b : float = 3.14\n",
        "c : bool = False\n",
        "d : str = 'Hola Mundo'"
      ]
    },
    {
      "cell_type": "markdown",
      "metadata": {
        "id": "Wj_LoW5PvarO"
      },
      "source": [
        "Debido a que el tipado estático es opcional el interprete no generará un error si una variable cambia su tipo en tiempo de ejecución"
      ]
    },
    {
      "cell_type": "code",
      "execution_count": 62,
      "metadata": {
        "colab": {
          "base_uri": "https://localhost:8080/"
        },
        "id": "RbLt0sCIuhSG",
        "outputId": "c2bd883d-656c-4c9a-8e2f-2c002ec659d9"
      },
      "outputs": [
        {
          "output_type": "stream",
          "name": "stdout",
          "text": [
            "5 <class 'int'>\n",
            "Hola mundo <class 'str'>\n"
          ]
        }
      ],
      "source": [
        "a: int = 5\n",
        "print(a, type(a))\n",
        "a = \"Hola mundo\" # Esto no arroja ningún error durante la ejecución.\n",
        "print(a, type(a))"
      ]
    },
    {
      "cell_type": "markdown",
      "metadata": {
        "id": "LWX1ZtWavRa4"
      },
      "source": [
        "También podemos crear variables sin inicializar"
      ]
    },
    {
      "cell_type": "code",
      "execution_count": 63,
      "metadata": {
        "id": "XnEgp0Be9sqa"
      },
      "outputs": [],
      "source": [
        "mensaje : str"
      ]
    },
    {
      "cell_type": "markdown",
      "metadata": {
        "id": "hZmf-NfE9uFo"
      },
      "source": [
        "Al realizar este tipo de declaraciones debemos tener cuidado. Podríamos llegar a pensar que la variable `mensaje` comienza con una cadena vacia, sin embargo para el interprete la variable no se encuentra definida"
      ]
    },
    {
      "cell_type": "code",
      "execution_count": 64,
      "metadata": {
        "colab": {
          "base_uri": "https://localhost:8080/"
        },
        "id": "MDCPwnPg-CQg",
        "outputId": "86982fee-891d-4f3c-a5d8-ef952ac52453"
      },
      "outputs": [
        {
          "output_type": "stream",
          "name": "stdout",
          "text": [
            "3.1415\n"
          ]
        }
      ],
      "source": [
        "mensaje : str\n",
        "print(mensaje)"
      ]
    },
    {
      "cell_type": "markdown",
      "metadata": {
        "id": "Q1bslMtf-dJY"
      },
      "source": [
        "Podemos generar anotaciones para colecciones, funciones y clases. Esto se revisará durante las próximas sesiones."
      ]
    },
    {
      "cell_type": "markdown",
      "metadata": {
        "id": "l_nALqOR_KOg"
      },
      "source": [
        "### __Conversión entre tipos de datos__\n",
        "\n",
        "Podemos realizar conversiones entre diferentes tipos de datos utilizando las funciones incorporadas disponibles en Python"
      ]
    },
    {
      "cell_type": "code",
      "execution_count": 65,
      "metadata": {
        "colab": {
          "base_uri": "https://localhost:8080/"
        },
        "id": "GK-zB0Yr_Sq4",
        "outputId": "06cb6619-3444-4445-fcd5-ebb8bba9798b"
      },
      "outputs": [
        {
          "output_type": "stream",
          "name": "stdout",
          "text": [
            "Ingrese un número: 25\n",
            "25 <class 'str'>\n",
            "25.0 <class 'float'>\n",
            "25 <class 'int'>\n",
            "True <class 'bool'>\n"
          ]
        }
      ],
      "source": [
        "entrada = input(\"Ingrese un número: \")\n",
        "print(entrada, type(entrada))\n",
        "entrada = float(entrada)\n",
        "print(entrada, type(entrada))\n",
        "entrada = int(entrada)\n",
        "print(entrada, type(entrada))\n",
        "entrada = bool(entrada)\n",
        "print(entrada, type(entrada))"
      ]
    },
    {
      "cell_type": "code",
      "source": [
        "bool(0)"
      ],
      "metadata": {
        "colab": {
          "base_uri": "https://localhost:8080/"
        },
        "id": "2PCXMHLLd53V",
        "outputId": "85885a32-5043-4a6d-e8df-610c1f1f7c95"
      },
      "execution_count": 66,
      "outputs": [
        {
          "output_type": "execute_result",
          "data": {
            "text/plain": [
              "False"
            ]
          },
          "metadata": {},
          "execution_count": 66
        }
      ]
    },
    {
      "cell_type": "code",
      "source": [
        "print(bool(0), bool(5), bool(-1.2), bool(0.0), bool(0.0000000000000001))"
      ],
      "metadata": {
        "colab": {
          "base_uri": "https://localhost:8080/"
        },
        "id": "OaL1dp8kVoOl",
        "outputId": "76b895de-e55b-4358-ab61-6d5642f8175e"
      },
      "execution_count": 70,
      "outputs": [
        {
          "output_type": "stream",
          "name": "stdout",
          "text": [
            "False True True False True\n"
          ]
        }
      ]
    },
    {
      "cell_type": "code",
      "source": [
        "print(bool('0'), bool('5'), bool('-1.2'), bool('sdasd'), bool(''))"
      ],
      "metadata": {
        "colab": {
          "base_uri": "https://localhost:8080/"
        },
        "id": "-d-LxoM7dMil",
        "outputId": "26a79f57-649b-482c-9efb-8b9867fd693b"
      },
      "execution_count": 74,
      "outputs": [
        {
          "output_type": "stream",
          "name": "stdout",
          "text": [
            "True True True True False\n"
          ]
        }
      ]
    },
    {
      "cell_type": "markdown",
      "metadata": {
        "id": "5n5uyffU_k1G"
      },
      "source": [
        "También podemos ejecutar funciones de manera anidada:"
      ]
    },
    {
      "cell_type": "code",
      "execution_count": 75,
      "metadata": {
        "colab": {
          "base_uri": "https://localhost:8080/"
        },
        "id": "0t52Ac1U_jnT",
        "outputId": "6c2a00e6-32d9-4b2b-eb6e-c636bc15f1b3"
      },
      "outputs": [
        {
          "output_type": "stream",
          "name": "stdout",
          "text": [
            "Ingrese el primer número: 5\n",
            "Ingrese el segundo número: 2.5\n",
            "El resutlado de la suma: 7.5\n"
          ]
        }
      ],
      "source": [
        "a = int(input(\"Ingrese el primer número: \"))\n",
        "b = float(input(\"Ingrese el segundo número: \"))\n",
        "\n",
        "print(f\"El resutlado de la suma: {a + b}\")"
      ]
    },
    {
      "cell_type": "markdown",
      "metadata": {
        "id": "GOc3A7-sk4dk"
      },
      "source": [
        "## __Manipulación de Expresiones__\n",
        "\n",
        "Podemos generar expresiones ariméticas y expresiones lógicas."
      ]
    },
    {
      "cell_type": "markdown",
      "metadata": {
        "id": "syXbbGr5AdxG"
      },
      "source": [
        "### __Expresiones aritméticas__\n",
        "\n",
        "Python cuenta con la siguente sintaxis para realizar operaciones aritméticas"
      ]
    },
    {
      "cell_type": "code",
      "execution_count": 76,
      "metadata": {
        "id": "jkVYZKieBGuz",
        "colab": {
          "base_uri": "https://localhost:8080/"
        },
        "outputId": "2498aa03-6478-41de-e096-90173cd5a480"
      },
      "outputs": [
        {
          "output_type": "stream",
          "name": "stdout",
          "text": [
            "12\n",
            "-8\n",
            "20\n",
            "0.2\n",
            "0\n",
            "1024\n",
            "1.0717734625362931\n",
            "0\n"
          ]
        }
      ],
      "source": [
        "a : int = 2\n",
        "b : int = 10\n",
        "\n",
        "suma = a + b\n",
        "print(suma)\n",
        "resta = a - b\n",
        "print(resta)\n",
        "producto = a * b\n",
        "print(producto)\n",
        "division = a / b\n",
        "print(division)\n",
        "division_entera = a // b\n",
        "print(division_entera)\n",
        "potencia = a ** b\n",
        "print(potencia)\n",
        "radicacion = a ** (1 / b)\n",
        "print(radicacion)\n",
        "modulo = b % 2\n",
        "print(modulo)"
      ]
    },
    {
      "cell_type": "markdown",
      "metadata": {
        "id": "kLmzJkyeBSVu"
      },
      "source": [
        "Jearquía de las operaciones ariméticas\n",
        "\n",
        "*   Signos de agrupación\n",
        "*   Potencias y raices\n",
        "*   Multiplicación y división\n",
        "*   sumas y restas\n"
      ]
    },
    {
      "cell_type": "code",
      "source": [
        "a=6/2*3-1\n",
        "a"
      ],
      "metadata": {
        "colab": {
          "base_uri": "https://localhost:8080/"
        },
        "id": "W6oUke1WWoTn",
        "outputId": "59941844-41c8-4f62-9275-4fc5b2f8e005"
      },
      "execution_count": 77,
      "outputs": [
        {
          "output_type": "execute_result",
          "data": {
            "text/plain": [
              "8.0"
            ]
          },
          "metadata": {},
          "execution_count": 77
        }
      ]
    },
    {
      "cell_type": "code",
      "source": [
        "a = 2*3/2+1\n",
        "'asdd'\n",
        "a"
      ],
      "metadata": {
        "colab": {
          "base_uri": "https://localhost:8080/"
        },
        "id": "clwMTIToe_vv",
        "outputId": "12fbc005-927e-475b-cf92-904d2fbc6093"
      },
      "execution_count": 80,
      "outputs": [
        {
          "output_type": "execute_result",
          "data": {
            "text/plain": [
              "4.0"
            ]
          },
          "metadata": {},
          "execution_count": 80
        }
      ]
    },
    {
      "cell_type": "markdown",
      "metadata": {
        "id": "2m42LHT7bxT5"
      },
      "source": [
        "###   __Operadores de asignación__\n",
        "\n",
        "Podemos realizar los siguientes operadores para realizar asignaciones a una variable\n"
      ]
    },
    {
      "cell_type": "code",
      "execution_count": 81,
      "metadata": {
        "id": "Y-dU4djQlk1o",
        "colab": {
          "base_uri": "https://localhost:8080/"
        },
        "outputId": "a9548260-a514-4ad5-c564-73444fb300fe"
      },
      "outputs": [
        {
          "output_type": "execute_result",
          "data": {
            "text/plain": [
              "0.0"
            ]
          },
          "metadata": {},
          "execution_count": 81
        }
      ],
      "source": [
        "x = 125 \t# x = 5\n",
        "x += 3 \t# x = x + 3\n",
        "x -= 3 \t# x = x - 3\n",
        "x *= 3 \t# x = x * 3\n",
        "x /= 3 \t# x = x / 3\n",
        "x %= 3 \t# x = x % 3\n",
        "x //= 3 # x = x // 3\n",
        "x **= 3 # x = x ** 3\n",
        "x"
      ]
    },
    {
      "cell_type": "markdown",
      "source": [
        "$$\\frac{(4+1)^2}{3}$$"
      ],
      "metadata": {
        "id": "x9XslG3MYDhi"
      }
    },
    {
      "cell_type": "code",
      "source": [
        "x=((4+1)**2)/3\n",
        "x"
      ],
      "metadata": {
        "colab": {
          "base_uri": "https://localhost:8080/"
        },
        "id": "xSnDyWSqYM-d",
        "outputId": "7fbd8a65-3ed7-4eab-c4de-36a08aaf2011"
      },
      "execution_count": 82,
      "outputs": [
        {
          "output_type": "execute_result",
          "data": {
            "text/plain": [
              "8.333333333333334"
            ]
          },
          "metadata": {},
          "execution_count": 82
        }
      ]
    },
    {
      "cell_type": "markdown",
      "metadata": {
        "id": "TCnYJ1XMllbs"
      },
      "source": [
        "### __Expresiones booleanas__\n",
        "\n",
        "Podemos definir una expresión lógica como una proposición que tendrá un valor de verdad: cierto o falso. Para construir proposiciones podemos utilizar los operadores $\\le, ≥, =, \\lt, \\gt, \\neq$."
      ]
    },
    {
      "cell_type": "code",
      "execution_count": 86,
      "metadata": {
        "colab": {
          "base_uri": "https://localhost:8080/"
        },
        "id": "dtq9CxOKobrG",
        "outputId": "64a8f459-53ca-4a40-84aa-564b014e510e"
      },
      "outputs": [
        {
          "output_type": "stream",
          "name": "stdout",
          "text": [
            "5\n",
            "False\n",
            "False\n",
            "True\n",
            "True\n",
            "False\n",
            "True\n"
          ]
        }
      ],
      "source": [
        "a=5\n",
        "print(a)\n",
        "print(a < 3)\n",
        "print(a <= 3)\n",
        "print(a >= 3)\n",
        "print(a > 3)\n",
        "print(a == 3)\n",
        "print(a != 3)\n"
      ]
    },
    {
      "cell_type": "markdown",
      "metadata": {
        "id": "E38j-TJdlCf6"
      },
      "source": [
        "También podemos generar condiciones más complejas utilizando las operadores lógicas `and`,` or` y `not`"
      ]
    },
    {
      "cell_type": "code",
      "source": [
        "c = 2 == 2.0\n",
        "c"
      ],
      "metadata": {
        "colab": {
          "base_uri": "https://localhost:8080/"
        },
        "id": "b6EQepLkZD-8",
        "outputId": "308f4d24-13d9-409d-ca52-065988e7af68"
      },
      "execution_count": 88,
      "outputs": [
        {
          "output_type": "execute_result",
          "data": {
            "text/plain": [
              "True"
            ]
          },
          "metadata": {},
          "execution_count": 88
        }
      ]
    },
    {
      "cell_type": "code",
      "execution_count": 89,
      "metadata": {
        "colab": {
          "base_uri": "https://localhost:8080/"
        },
        "id": "sP7HhqBNl0uF",
        "outputId": "e72ac254-2556-4494-81fb-4e82dc5e9b68"
      },
      "outputs": [
        {
          "output_type": "stream",
          "name": "stdout",
          "text": [
            "False\n",
            "True\n",
            "True\n",
            "False\n",
            "True\n"
          ]
        }
      ],
      "source": [
        "a = 0 > 3 # False\n",
        "b = 5 >= 2 # True\n",
        "c = 2 == 2.0 # True\n",
        "# operaciones logicas: and, or, not\n",
        "print(a and b and c)\n",
        "print(a or b or c)\n",
        "print(not(a))\n",
        "print(not(b))\n",
        "print(not(a and b and c))"
      ]
    },
    {
      "cell_type": "markdown",
      "metadata": {
        "id": "dtSm3oWao8jD"
      },
      "source": [
        "Todos los tipos de datos tiene un equivalente en booleano. Este idea está relacionada con los valores que python considera `Falsy`\n"
      ]
    },
    {
      "cell_type": "code",
      "execution_count": 90,
      "metadata": {
        "colab": {
          "base_uri": "https://localhost:8080/"
        },
        "id": "sAsLaFkHpXEL",
        "outputId": "b0b1b966-6a2a-41b1-fabb-d9aff57b7fe4"
      },
      "outputs": [
        {
          "output_type": "stream",
          "name": "stdout",
          "text": [
            "0 -> boolean: False\n",
            "None -> boolean: False\n",
            "'' -> boolean: False\n",
            "[] -> boolean: False\n",
            "{} -> boolean: False\n"
          ]
        }
      ],
      "source": [
        "falsy_values = (0, False, None, '', [], {})\n",
        "\n",
        "print('0 -> boolean:', bool(0))\n",
        "print('None -> boolean:', bool(None))\n",
        "print(\"'' -> boolean:\", bool(''))\n",
        "print('[] -> boolean:', bool([]))\n",
        "print('{} -> boolean:', bool([]))"
      ]
    },
    {
      "cell_type": "code",
      "source": [
        "def constate_50():\n",
        "    return 50"
      ],
      "metadata": {
        "id": "CpqbPSPke8aM"
      },
      "execution_count": 91,
      "outputs": []
    },
    {
      "cell_type": "code",
      "source": [
        "global CTE_50"
      ],
      "metadata": {
        "id": "qKVOTS8ofEhg"
      },
      "execution_count": 100,
      "outputs": []
    },
    {
      "cell_type": "code",
      "source": [
        "CTE_50 = 50"
      ],
      "metadata": {
        "id": "dx2mCWQofttF"
      },
      "execution_count": 101,
      "outputs": []
    },
    {
      "cell_type": "code",
      "source": [
        "CTE_50 = 40"
      ],
      "metadata": {
        "id": "hUIdu3kAfxSn"
      },
      "execution_count": 103,
      "outputs": []
    },
    {
      "cell_type": "code",
      "source": [
        "constate_50 = 40"
      ],
      "metadata": {
        "id": "-FmMMO7mfHpI"
      },
      "execution_count": 93,
      "outputs": []
    },
    {
      "cell_type": "markdown",
      "metadata": {
        "id": "FzA7vCjuq960"
      },
      "source": [
        "###  **Ejercicio 1: Indice de masa muscular.**\n",
        "Construir un algoritmo  que permita calcular el IMC teniendo en cuenta que:\n",
        "\n",
        "$IMC=\\frac{Peso(Kg)}{Altura^2(m)}$\n",
        "\n",
        "¿Qué variables solicitaría del usuario?\n",
        "\n",
        "- Si un usuario le comenta que su IMC es de $22.3$ y su estatura es de $1.64 m$, ¿Cómo estimaría el peso del usuario?\n",
        "\n",
        "- Si un usuario le comenta que su IMC es de  $25$  y su peso es de  $78 kg$ , ¿Cómo estimaría la estatura del usuario?"
      ]
    },
    {
      "cell_type": "code",
      "execution_count": null,
      "metadata": {
        "colab": {
          "base_uri": "https://localhost:8080/"
        },
        "id": "JmzkCEehbQRK",
        "outputId": "80e6c0b6-dfcc-40fb-fa30-74102b027361"
      },
      "outputs": [
        {
          "output_type": "stream",
          "name": "stdout",
          "text": [
            "Ingrese el peso: 60\n",
            "Ingrese la altura 1.65\n",
            "El indice de masa corporal es 22.03856749311295\n"
          ]
        }
      ],
      "source": [
        "# Solución propuesta\n",
        "\n",
        "P = float(input(\"Ingrese el peso: \"))\n",
        "A = float(input(\"Ingrese la altura \"))\n",
        "IMC = (P/A**2)\n",
        "print(f\"El indice de masa corporal es {IMC}\")\n"
      ]
    },
    {
      "cell_type": "code",
      "source": [
        "peso = float(input(\"Ingrese peso: \"))\n",
        "talla = float(input(\"Ingrese talla: \"))\n",
        "\n",
        "print(f\"IMC: {peso / talla**2}\")"
      ],
      "metadata": {
        "colab": {
          "base_uri": "https://localhost:8080/"
        },
        "id": "FpNih0I7ddxB",
        "outputId": "0d16b857-3d99-45e6-a2d7-57824bdd1b31"
      },
      "execution_count": null,
      "outputs": [
        {
          "output_type": "stream",
          "name": "stdout",
          "text": [
            "Ingrese peso: 60\n",
            "Ingrese talla: 165\n",
            "IMC: 0.0022038567493112946\n"
          ]
        }
      ]
    },
    {
      "cell_type": "code",
      "source": [
        "peso = int (input(\"ingrese su peso en KG \"))\n",
        "altura =float (input(\"ingrese la altura en CM \"))\n",
        "altura = altura/100\n",
        "#print (altura)\n",
        "imc = peso / (altura**2)\n",
        "print(round(imc,2))"
      ],
      "metadata": {
        "colab": {
          "base_uri": "https://localhost:8080/"
        },
        "id": "H7xQtl6ShUgc",
        "outputId": "1f7a47cb-273e-4e53-dcad-bc82a4368187"
      },
      "execution_count": null,
      "outputs": [
        {
          "output_type": "stream",
          "name": "stdout",
          "text": [
            "ingrese su peso en KG 60\n",
            "ingrese la altura en CM 165\n",
            "22.04\n"
          ]
        }
      ]
    },
    {
      "cell_type": "code",
      "source": [
        "a=3\n",
        "b=1.4\n",
        "c='caracter'\n",
        "print(type(a),type(b),type(c))"
      ],
      "metadata": {
        "colab": {
          "base_uri": "https://localhost:8080/"
        },
        "id": "y14bEA5He1_x",
        "outputId": "6dfd4e23-7d2e-406e-b6b8-fd898f49b4dd"
      },
      "execution_count": null,
      "outputs": [
        {
          "output_type": "stream",
          "name": "stdout",
          "text": [
            "<class 'int'> <class 'float'> <class 'str'>\n"
          ]
        }
      ]
    },
    {
      "cell_type": "markdown",
      "metadata": {
        "id": "Vk0XJ58tQAyW"
      },
      "source": [
        " ### **Ejercicio 2: Cantidad de centros de atención**\n",
        "\n",
        "Suponga que una eps tiene centros de salud de 3 tipos:\n",
        "\n",
        "- Tipo A: Atiende una pobración de 6530 personas\n",
        "\n",
        "- Tipo B: Atiende una población de 8324 personas\n",
        "\n",
        "- Tipo C: Atiende una población de 11450 personas\n",
        "\n",
        "Escriba un programa que le pregunte al usuario dos combinaciones de tipos de eps, compare entre esas dos combinaciones y establezca cuál de estas es la que mayor cantidad de usuarios impacta.\n",
        "\n",
        "Ej:\n",
        "\n",
        "**Entrada:**\n",
        "\n",
        "Combinación 1: 1 centro de tipo C.\n",
        "\n",
        "Combinación 2: 2 centros de tipo A.\n",
        "\n",
        "**salida:**\n",
        "\n",
        "La combinación 2 impacta más usuarios."
      ]
    },
    {
      "cell_type": "code",
      "source": [
        "def comb():\n",
        "    \"\"\"\n",
        "    input : No requiere variables de ingreso\n",
        "    output: 3 valores que son solicitados al usaurio\n",
        "    procesamiento: input de valores y formateo en números enteros de estos\n",
        "    \"\"\"\n",
        "    a = input('Ingrese la cantidad de centros tipo A: ')\n",
        "    b = input('Ingrese la cantidad de centros tipo B: ')\n",
        "    c = input('Ingrese la cantidad de centros tipo C: ')\n",
        "    return int(a), int(b), int(c)\n",
        "\n",
        "def fuc_comparacion():\n",
        "    print('Ingrese los valores de la eps 1')\n",
        "    a1, b1, c1 = comb()\n",
        "    print('Ingrese los valores de la eps 2')\n",
        "    a2, b2, c2 = comb()\n",
        "    imp1 = 6530*a1 + 8324*b1 +11450*c1\n",
        "    imp2 = 6530*a2 + 8324*b2 +11450*c2\n",
        "    if imp1 > imp2:\n",
        "        return print('La combinación 1 es más efectiva')\n",
        "    else:\n",
        "        return print('La combinación 2 es más efectiva')\n"
      ],
      "metadata": {
        "id": "9PLTFwBRnYeA"
      },
      "execution_count": null,
      "outputs": []
    },
    {
      "cell_type": "code",
      "source": [
        "help(comb)"
      ],
      "metadata": {
        "colab": {
          "base_uri": "https://localhost:8080/"
        },
        "id": "_EjckY_3pbOu",
        "outputId": "4a361286-ac8e-4444-fd6a-b6ec5b6ba3c4"
      },
      "execution_count": null,
      "outputs": [
        {
          "output_type": "stream",
          "name": "stdout",
          "text": [
            "Help on function comb in module __main__:\n",
            "\n",
            "comb()\n",
            "    input : No requiere variables de ingreso\n",
            "    output: 3 valores que son solicitados al usaurio\n",
            "    procesamiento: input de valores y formateo en números enteros de estos\n",
            "\n"
          ]
        }
      ]
    },
    {
      "cell_type": "code",
      "source": [
        "fuc_comparacion()"
      ],
      "metadata": {
        "colab": {
          "base_uri": "https://localhost:8080/"
        },
        "id": "dvDV5y4eo1As",
        "outputId": "223984d6-c12d-42f0-9b18-99f236ddd6d7"
      },
      "execution_count": null,
      "outputs": [
        {
          "output_type": "stream",
          "name": "stdout",
          "text": [
            "Ingrese los valores de la eps 1\n",
            "Ingrese la cantidad de centros tipo A: 0\n",
            "Ingrese la cantidad de centros tipo B: 0\n",
            "Ingrese la cantidad de centros tipo C: 1\n",
            "Ingrese los valores de la eps 2\n",
            "Ingrese la cantidad de centros tipo A: 2\n",
            "Ingrese la cantidad de centros tipo B: 0\n",
            "Ingrese la cantidad de centros tipo C: 0\n",
            "La combinación 2 es más efectiva\n"
          ]
        }
      ]
    },
    {
      "cell_type": "code",
      "execution_count": null,
      "metadata": {
        "id": "LN2-8a9IH4PF",
        "colab": {
          "base_uri": "https://localhost:8080/"
        },
        "outputId": "3de92e2d-0170-4b56-a896-f7874108cf79"
      },
      "outputs": [
        {
          "output_type": "stream",
          "name": "stdout",
          "text": [
            "21384 19774\n"
          ]
        }
      ],
      "source": [
        "# Solución propuesta\n",
        "\n",
        "''' Dos centros de salud de tipo A y una de tipo B. Una segunda combinación como una de tipo B y una de tipo C'''\n",
        "\n",
        "combinacion_1=2*6530+1*8324\n",
        "combinación_2=1*8324+1*11450\n",
        "\n",
        "print(combinacion_1, combinación_2)\n"
      ]
    },
    {
      "cell_type": "code",
      "source": [
        "print (\"Ingrese dos combinaciones de EPS\")\n",
        "a = input(\"Ingrese A , B, C segun desee el tipo de centro de la primera combinación\")\n",
        "a.upper()\n",
        "b = input(\"Ingrese la cantidad de la primera combinación\")\n",
        "c = input(\"Ingrese A , B, C segun desee el tipo de centro de la segunda combinación\")\n",
        "d = input(\"Ingrese la cantidad de la segunda combinación\")\n",
        "if a=='A' : a=6530\n",
        "if a=='B' : a=8324\n",
        "if a=='C' : a=11450\n",
        "if c=='A' : c=6530\n",
        "if c=='B' : c=8324\n",
        "if c=='C' : c=11450\n",
        "Combinación_1= a * b\n",
        "Combinación_2= c * d\n",
        "if Combinación_1 > Combinación_2 : print(\"La combinación 1 impacta mas usuarios\")\n",
        "else : print(\"La combinación 2 impacta mas usuarios\")"
      ],
      "metadata": {
        "colab": {
          "base_uri": "https://localhost:8080/"
        },
        "id": "xg-4U-aaLuJu",
        "outputId": "c0b8fb26-cc58-4f89-ef40-9bc8075774d1"
      },
      "execution_count": null,
      "outputs": [
        {
          "output_type": "stream",
          "name": "stdout",
          "text": [
            "Ingrese dos combinaciones de EPS\n",
            "Ingrese A , B, C segun desee el tipo de centro de la primera combinaciónA\n",
            "Ingrese la cantidad de la primera combinación3\n",
            "Ingrese A , B, C segun desee el tipo de centro de la segunda combinaciónB\n",
            "Ingrese la cantidad de la segunda combinación2\n",
            "La combinación 1 impacta mas usuarios\n"
          ]
        }
      ]
    },
    {
      "cell_type": "code",
      "source": [
        "print('Ingresar la combinación 1')\n",
        "a=int(input('Ingresa la cantidad de sedes de tipo A: '))\n",
        "b=int(input('Ingresa la cantidad de sedes de tipo B: '))\n",
        "c=int(input('Ingresa la cantidad de sedes de tipo C: '))\n",
        "print('Ingresar la combinación 2')\n",
        "a2=int(input('Ingresa la cantidad de sedes de tipo A: '))\n",
        "b2=int(input('Ingresa la cantidad de sedes de tipo B: '))\n",
        "c2=int(input('Ingresa la cantidad de sedes de tipo C: '))\n",
        "\n",
        "combinacion_1=a*6530+b*8324+c*11450\n",
        "combinación_2=a2*6530+b2*8324+c2*11450\n",
        "\n",
        "if Combinación_1 > Combinación_2 : print(\"La combinación 1 impacta mas usuarios\")\n",
        "else : print(\"La combinación 2 impacta mas usuarios\")\n"
      ],
      "metadata": {
        "colab": {
          "base_uri": "https://localhost:8080/"
        },
        "id": "viFakRDoMOCO",
        "outputId": "e78cd430-aafa-40ed-9c88-d3968a6b6ef3"
      },
      "execution_count": null,
      "outputs": [
        {
          "output_type": "stream",
          "name": "stdout",
          "text": [
            "Ingresar la combinación 1\n",
            "Ingresa la cantidad de sedes de tipo A: 2\n",
            "Ingresa la cantidad de sedes de tipo B: 1\n",
            "Ingresa la cantidad de sedes de tipo C: 0\n",
            "Ingresar la combinación 2\n",
            "Ingresa la cantidad de sedes de tipo A: 0\n",
            "Ingresa la cantidad de sedes de tipo B: 1\n",
            "Ingresa la cantidad de sedes de tipo C: 1\n",
            "La combinación 1 impacta mas usuarios\n"
          ]
        }
      ]
    },
    {
      "cell_type": "markdown",
      "metadata": {
        "id": "p0hM5zMOH4ES"
      },
      "source": [
        "###  **Ejercicio 3: Costos de envío.**\n",
        "\n",
        "Una persona compró 3 productos en diferentes países. Los valores de envío en cada país varían de la siguiente forma: el primero tiene un costo del 15% sobre el valor original del producto. El segundo tiene un costo del 18% sobre el valor original del producto. El tercero tiene un costo del 12%  sobre el valor original del producto. Se necesita construir un programa que solicite al usuario el valor original de cada producto e imprima:\n",
        "\n",
        "* El valor total de los tres productos incluyendo los costos de envío (se debe sumar el valor de todos los productos con sus incrementos).\n",
        "* El promedio de los tres productos antes y después de realizar los incrementos\n"
      ]
    },
    {
      "cell_type": "code",
      "execution_count": null,
      "metadata": {
        "id": "CIAX8iRXH03U"
      },
      "outputs": [],
      "source": [
        "# solución propuesta"
      ]
    },
    {
      "cell_type": "markdown",
      "metadata": {
        "id": "4moX5U5Crsyb"
      },
      "source": [
        "###  **Ejercicio 4: Estado.**\n",
        "\n",
        "Teniendo en cuenta los siguientes valores considerados como normales. Escriba un programa que solicite cada dato a un paciente partícular y muestre si el paciente esta en rangos normales o no.\n",
        "\n",
        "|Variable|Rango|Status|\n",
        "|---|---|---|\n",
        "|IMC|22,1 - 24,9| Normal|\n",
        "|Frecuencia Cardíaca|<70|Muy buena|\n",
        "|Presión Arterial|80 - 120|Normal|\n",
        "|Saturación de oxigeno|>95|Normal|\n"
      ]
    },
    {
      "cell_type": "code",
      "execution_count": null,
      "metadata": {
        "id": "ljWEpW4X4M5r",
        "colab": {
          "base_uri": "https://localhost:8080/"
        },
        "outputId": "90451460-7428-4512-95c3-f026b8f2b733"
      },
      "outputs": [
        {
          "output_type": "stream",
          "name": "stdout",
          "text": [
            "Ingrese los siguientes valores asociados a su estado de salud\n",
            "Ingrese su IMC: 20.5\n",
            "Ingrese su frecuencia cardiaca: 70\n",
            "Ingrese su presión diastólica: 85\n",
            "Ingrese su saturación de oxigeno: 98\n",
            "Su índice de masa corporal es 20.5 y no se encuentra en rangos normales\n",
            "Su frecuencia cardíaca es 70.0, puede estar en rangos normales o no\n",
            "Su presión distólica es 85.0 y se encuentra en rangos normales\n",
            "Su saturación de oxigeno es 98.0 y se encuentra en rangos normales\n"
          ]
        }
      ],
      "source": [
        "# solución propuesta\n",
        "print('Ingrese los siguientes valores asociados a su estado de salud')\n",
        "imc=float(input('Ingrese su IMC: '))\n",
        "fc=float(input('Ingrese su frecuencia cardiaca: '))\n",
        "p=float(input('Ingrese su presión diastólica: '))\n",
        "o=float(input('Ingrese su saturación de oxigeno: '))\n",
        "\n",
        "if 21.1<imc<24.9:\n",
        "  print(f'Su índice de masa corporal es {imc} y se encuentra en rangos normales')\n",
        "else:\n",
        "  print(f'Su índice de masa corporal es {imc} y no se encuentra en rangos normales')\n",
        "\n",
        "if fc<70:\n",
        "  print(f'Su frecuencia cardíaca es {fc} y es muy buena')\n",
        "else:\n",
        "  print(f'Su frecuencia cardíaca es {fc}, puede estar en rangos normales o no')\n",
        "\n",
        "if 80<p<100:\n",
        "  print(f'Su presión distólica es {p} y se encuentra en rangos normales')\n",
        "else:\n",
        "  print(f'Su presión distólica es {p}, no se encuentra en rangos normales')\n",
        "\n",
        "if o>95:\n",
        "  print(f'Su saturación de oxigeno es {o} y se encuentra en rangos normales')\n",
        "else:\n",
        "  print(f'Su saturación de oxigeno es {o}, no se encuentra en rangos normales')"
      ]
    },
    {
      "cell_type": "markdown",
      "metadata": {
        "id": "B1D2oSUkgxsx"
      },
      "source": [
        "###  **Ejercicio 5: Pacientes.**\n",
        "\n",
        "Tres médicos de la misma especialidad atienden cada uno un número especifico de pacientes. Para facilitar la asignación del siguiente control, se tiene en cuenta un criterio partícular, se toma la cantidad total de pacientes atendidos y se dividen en números iguales, los cuales se reparten entre los diferentes médicos antes mencionados. Los que no quedan en ninguno de estos grupos, se asignaran a una lista de prorizados.\n",
        "\n",
        "Escriba un programa que permita ingresar el número de pacientes atendidos por cada médico y devuelva la cantidad de pacientes en la lista de priorizados.\n",
        "\n",
        "**Ej:** Si en conjunto atienten 91 pacientes, para el siguiente control, de estos cada uno atenderá 30 y 1 estará en lista de priorizados.\n"
      ]
    },
    {
      "cell_type": "code",
      "execution_count": null,
      "metadata": {
        "id": "hJ8VhWWbgyVd",
        "colab": {
          "base_uri": "https://localhost:8080/"
        },
        "outputId": "4422141a-8976-4ccf-9492-745b8d5e3e06"
      },
      "outputs": [
        {
          "output_type": "stream",
          "name": "stdout",
          "text": [
            "Ingrese la cantidad de pacientes atendidos por el médico 1: 20\n",
            "Ingrese la cantidad de pacientes atendidos por el médico 2: 22\n",
            "Ingrese la cantidad de pacientes atendidos por el médico 3: 23\n",
            "Cada médico atenderá 21 pacientes y 2 estarán en lista de priorizados\n"
          ]
        }
      ],
      "source": [
        "# solución propuesta\n",
        "a=int(input('Ingrese la cantidad de pacientes atendidos por el médico 1: '))\n",
        "b=int(input('Ingrese la cantidad de pacientes atendidos por el médico 2: '))\n",
        "c=int(input('Ingrese la cantidad de pacientes atendidos por el médico 3: '))\n",
        "\n",
        "y=(a+b+c)%3\n",
        "x=(a+b+c)//3\n",
        "\n",
        "print(f'Cada médico atenderá {x} pacientes y {y} estarán en lista de priorizados')"
      ]
    },
    {
      "cell_type": "code",
      "execution_count": null,
      "metadata": {
        "id": "0C8x0BkCUsJa"
      },
      "outputs": [],
      "source": []
    }
  ],
  "metadata": {
    "colab": {
      "provenance": [],
      "include_colab_link": true
    },
    "kernelspec": {
      "display_name": "Python 3 (ipykernel)",
      "language": "python",
      "name": "python3"
    },
    "language_info": {
      "codemirror_mode": {
        "name": "ipython",
        "version": 3
      },
      "file_extension": ".py",
      "mimetype": "text/x-python",
      "name": "python",
      "nbconvert_exporter": "python",
      "pygments_lexer": "ipython3",
      "version": "3.9.12"
    }
  },
  "nbformat": 4,
  "nbformat_minor": 0
}