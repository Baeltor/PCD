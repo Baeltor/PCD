{
  "nbformat": 4,
  "nbformat_minor": 0,
  "metadata": {
    "colab": {
      "provenance": [],
      "authorship_tag": "ABX9TyOGMSMphkTy0nLF2PaDTBYD",
      "include_colab_link": true
    },
    "kernelspec": {
      "name": "python3",
      "display_name": "Python 3"
    },
    "language_info": {
      "name": "python"
    }
  },
  "cells": [
    {
      "cell_type": "markdown",
      "metadata": {
        "id": "view-in-github",
        "colab_type": "text"
      },
      "source": [
        "<a href=\"https://colab.research.google.com/github/Baeltor/PCD/blob/prog/NotebooksMLII/Redes_neuronales_detecci%C3%B3n_de_fraude.ipynb\" target=\"_parent\"><img src=\"https://colab.research.google.com/assets/colab-badge.svg\" alt=\"Open In Colab\"/></a>"
      ]
    },
    {
      "cell_type": "code",
      "source": [
        "import pandas as pd\n",
        "import numpy as np\n",
        "import matplotlib.pyplot as plt\n",
        "import seaborn as sns\n",
        "import warnings\n",
        "warnings.filterwarnings('ignore')\n",
        "import os\n",
        "import zipfile\n",
        "import csv"
      ],
      "metadata": {
        "id": "TinCpWxpRp9H"
      },
      "execution_count": 13,
      "outputs": []
    },
    {
      "cell_type": "markdown",
      "source": [
        "### Importación de datos\n",
        "\n",
        "* Cómo dataframe"
      ],
      "metadata": {
        "id": "3KrJM4YISWk5"
      }
    },
    {
      "cell_type": "code",
      "execution_count": 14,
      "metadata": {
        "colab": {
          "base_uri": "https://localhost:8080/"
        },
        "id": "HZK-O5ciRlFY",
        "outputId": "5ace08d8-d443-433e-ff52-cd6b19a8a5aa"
      },
      "outputs": [
        {
          "output_type": "stream",
          "name": "stdout",
          "text": [
            "Warning: Looks like you're using an outdated `kagglehub` version, please consider updating (latest version: 0.3.3)\n",
            "Path to dataset files: /root/.cache/kagglehub/datasets/mlg-ulb/creditcardfraud/versions/3\n"
          ]
        }
      ],
      "source": [
        "import kagglehub\n",
        "\n",
        "# Download latest version\n",
        "path = kagglehub.dataset_download(\"mlg-ulb/creditcardfraud\")\n",
        "\n",
        "print(\"Path to dataset files:\", path)"
      ]
    },
    {
      "cell_type": "code",
      "source": [
        "os.listdir(path)"
      ],
      "metadata": {
        "colab": {
          "base_uri": "https://localhost:8080/"
        },
        "id": "DQZ0mUTURpeY",
        "outputId": "0a14cdf8-ba43-4b28-d510-5ee2ed6a2cf9"
      },
      "execution_count": 15,
      "outputs": [
        {
          "output_type": "execute_result",
          "data": {
            "text/plain": [
              "['creditcard.csv']"
            ]
          },
          "metadata": {},
          "execution_count": 15
        }
      ]
    },
    {
      "cell_type": "code",
      "source": [
        "df = pd.read_csv(path + '/creditcard.csv')"
      ],
      "metadata": {
        "id": "WIQYKoSrRvWu"
      },
      "execution_count": 16,
      "outputs": []
    },
    {
      "cell_type": "code",
      "source": [
        "df.head()"
      ],
      "metadata": {
        "colab": {
          "base_uri": "https://localhost:8080/",
          "height": 255
        },
        "id": "uf7zH297RxPl",
        "outputId": "27a48362-b1a5-4158-99e8-bee9db10bbb2"
      },
      "execution_count": 17,
      "outputs": [
        {
          "output_type": "execute_result",
          "data": {
            "text/plain": [
              "   Time        V1        V2        V3        V4        V5        V6        V7  \\\n",
              "0   0.0 -1.359807 -0.072781  2.536347  1.378155 -0.338321  0.462388  0.239599   \n",
              "1   0.0  1.191857  0.266151  0.166480  0.448154  0.060018 -0.082361 -0.078803   \n",
              "2   1.0 -1.358354 -1.340163  1.773209  0.379780 -0.503198  1.800499  0.791461   \n",
              "3   1.0 -0.966272 -0.185226  1.792993 -0.863291 -0.010309  1.247203  0.237609   \n",
              "4   2.0 -1.158233  0.877737  1.548718  0.403034 -0.407193  0.095921  0.592941   \n",
              "\n",
              "         V8        V9  ...       V21       V22       V23       V24       V25  \\\n",
              "0  0.098698  0.363787  ... -0.018307  0.277838 -0.110474  0.066928  0.128539   \n",
              "1  0.085102 -0.255425  ... -0.225775 -0.638672  0.101288 -0.339846  0.167170   \n",
              "2  0.247676 -1.514654  ...  0.247998  0.771679  0.909412 -0.689281 -0.327642   \n",
              "3  0.377436 -1.387024  ... -0.108300  0.005274 -0.190321 -1.175575  0.647376   \n",
              "4 -0.270533  0.817739  ... -0.009431  0.798278 -0.137458  0.141267 -0.206010   \n",
              "\n",
              "        V26       V27       V28  Amount  Class  \n",
              "0 -0.189115  0.133558 -0.021053  149.62      0  \n",
              "1  0.125895 -0.008983  0.014724    2.69      0  \n",
              "2 -0.139097 -0.055353 -0.059752  378.66      0  \n",
              "3 -0.221929  0.062723  0.061458  123.50      0  \n",
              "4  0.502292  0.219422  0.215153   69.99      0  \n",
              "\n",
              "[5 rows x 31 columns]"
            ],
            "text/html": [
              "\n",
              "  <div id=\"df-79a131cf-1ffd-4664-b4c9-263c4caa3c6f\" class=\"colab-df-container\">\n",
              "    <div>\n",
              "<style scoped>\n",
              "    .dataframe tbody tr th:only-of-type {\n",
              "        vertical-align: middle;\n",
              "    }\n",
              "\n",
              "    .dataframe tbody tr th {\n",
              "        vertical-align: top;\n",
              "    }\n",
              "\n",
              "    .dataframe thead th {\n",
              "        text-align: right;\n",
              "    }\n",
              "</style>\n",
              "<table border=\"1\" class=\"dataframe\">\n",
              "  <thead>\n",
              "    <tr style=\"text-align: right;\">\n",
              "      <th></th>\n",
              "      <th>Time</th>\n",
              "      <th>V1</th>\n",
              "      <th>V2</th>\n",
              "      <th>V3</th>\n",
              "      <th>V4</th>\n",
              "      <th>V5</th>\n",
              "      <th>V6</th>\n",
              "      <th>V7</th>\n",
              "      <th>V8</th>\n",
              "      <th>V9</th>\n",
              "      <th>...</th>\n",
              "      <th>V21</th>\n",
              "      <th>V22</th>\n",
              "      <th>V23</th>\n",
              "      <th>V24</th>\n",
              "      <th>V25</th>\n",
              "      <th>V26</th>\n",
              "      <th>V27</th>\n",
              "      <th>V28</th>\n",
              "      <th>Amount</th>\n",
              "      <th>Class</th>\n",
              "    </tr>\n",
              "  </thead>\n",
              "  <tbody>\n",
              "    <tr>\n",
              "      <th>0</th>\n",
              "      <td>0.0</td>\n",
              "      <td>-1.359807</td>\n",
              "      <td>-0.072781</td>\n",
              "      <td>2.536347</td>\n",
              "      <td>1.378155</td>\n",
              "      <td>-0.338321</td>\n",
              "      <td>0.462388</td>\n",
              "      <td>0.239599</td>\n",
              "      <td>0.098698</td>\n",
              "      <td>0.363787</td>\n",
              "      <td>...</td>\n",
              "      <td>-0.018307</td>\n",
              "      <td>0.277838</td>\n",
              "      <td>-0.110474</td>\n",
              "      <td>0.066928</td>\n",
              "      <td>0.128539</td>\n",
              "      <td>-0.189115</td>\n",
              "      <td>0.133558</td>\n",
              "      <td>-0.021053</td>\n",
              "      <td>149.62</td>\n",
              "      <td>0</td>\n",
              "    </tr>\n",
              "    <tr>\n",
              "      <th>1</th>\n",
              "      <td>0.0</td>\n",
              "      <td>1.191857</td>\n",
              "      <td>0.266151</td>\n",
              "      <td>0.166480</td>\n",
              "      <td>0.448154</td>\n",
              "      <td>0.060018</td>\n",
              "      <td>-0.082361</td>\n",
              "      <td>-0.078803</td>\n",
              "      <td>0.085102</td>\n",
              "      <td>-0.255425</td>\n",
              "      <td>...</td>\n",
              "      <td>-0.225775</td>\n",
              "      <td>-0.638672</td>\n",
              "      <td>0.101288</td>\n",
              "      <td>-0.339846</td>\n",
              "      <td>0.167170</td>\n",
              "      <td>0.125895</td>\n",
              "      <td>-0.008983</td>\n",
              "      <td>0.014724</td>\n",
              "      <td>2.69</td>\n",
              "      <td>0</td>\n",
              "    </tr>\n",
              "    <tr>\n",
              "      <th>2</th>\n",
              "      <td>1.0</td>\n",
              "      <td>-1.358354</td>\n",
              "      <td>-1.340163</td>\n",
              "      <td>1.773209</td>\n",
              "      <td>0.379780</td>\n",
              "      <td>-0.503198</td>\n",
              "      <td>1.800499</td>\n",
              "      <td>0.791461</td>\n",
              "      <td>0.247676</td>\n",
              "      <td>-1.514654</td>\n",
              "      <td>...</td>\n",
              "      <td>0.247998</td>\n",
              "      <td>0.771679</td>\n",
              "      <td>0.909412</td>\n",
              "      <td>-0.689281</td>\n",
              "      <td>-0.327642</td>\n",
              "      <td>-0.139097</td>\n",
              "      <td>-0.055353</td>\n",
              "      <td>-0.059752</td>\n",
              "      <td>378.66</td>\n",
              "      <td>0</td>\n",
              "    </tr>\n",
              "    <tr>\n",
              "      <th>3</th>\n",
              "      <td>1.0</td>\n",
              "      <td>-0.966272</td>\n",
              "      <td>-0.185226</td>\n",
              "      <td>1.792993</td>\n",
              "      <td>-0.863291</td>\n",
              "      <td>-0.010309</td>\n",
              "      <td>1.247203</td>\n",
              "      <td>0.237609</td>\n",
              "      <td>0.377436</td>\n",
              "      <td>-1.387024</td>\n",
              "      <td>...</td>\n",
              "      <td>-0.108300</td>\n",
              "      <td>0.005274</td>\n",
              "      <td>-0.190321</td>\n",
              "      <td>-1.175575</td>\n",
              "      <td>0.647376</td>\n",
              "      <td>-0.221929</td>\n",
              "      <td>0.062723</td>\n",
              "      <td>0.061458</td>\n",
              "      <td>123.50</td>\n",
              "      <td>0</td>\n",
              "    </tr>\n",
              "    <tr>\n",
              "      <th>4</th>\n",
              "      <td>2.0</td>\n",
              "      <td>-1.158233</td>\n",
              "      <td>0.877737</td>\n",
              "      <td>1.548718</td>\n",
              "      <td>0.403034</td>\n",
              "      <td>-0.407193</td>\n",
              "      <td>0.095921</td>\n",
              "      <td>0.592941</td>\n",
              "      <td>-0.270533</td>\n",
              "      <td>0.817739</td>\n",
              "      <td>...</td>\n",
              "      <td>-0.009431</td>\n",
              "      <td>0.798278</td>\n",
              "      <td>-0.137458</td>\n",
              "      <td>0.141267</td>\n",
              "      <td>-0.206010</td>\n",
              "      <td>0.502292</td>\n",
              "      <td>0.219422</td>\n",
              "      <td>0.215153</td>\n",
              "      <td>69.99</td>\n",
              "      <td>0</td>\n",
              "    </tr>\n",
              "  </tbody>\n",
              "</table>\n",
              "<p>5 rows × 31 columns</p>\n",
              "</div>\n",
              "    <div class=\"colab-df-buttons\">\n",
              "\n",
              "  <div class=\"colab-df-container\">\n",
              "    <button class=\"colab-df-convert\" onclick=\"convertToInteractive('df-79a131cf-1ffd-4664-b4c9-263c4caa3c6f')\"\n",
              "            title=\"Convert this dataframe to an interactive table.\"\n",
              "            style=\"display:none;\">\n",
              "\n",
              "  <svg xmlns=\"http://www.w3.org/2000/svg\" height=\"24px\" viewBox=\"0 -960 960 960\">\n",
              "    <path d=\"M120-120v-720h720v720H120Zm60-500h600v-160H180v160Zm220 220h160v-160H400v160Zm0 220h160v-160H400v160ZM180-400h160v-160H180v160Zm440 0h160v-160H620v160ZM180-180h160v-160H180v160Zm440 0h160v-160H620v160Z\"/>\n",
              "  </svg>\n",
              "    </button>\n",
              "\n",
              "  <style>\n",
              "    .colab-df-container {\n",
              "      display:flex;\n",
              "      gap: 12px;\n",
              "    }\n",
              "\n",
              "    .colab-df-convert {\n",
              "      background-color: #E8F0FE;\n",
              "      border: none;\n",
              "      border-radius: 50%;\n",
              "      cursor: pointer;\n",
              "      display: none;\n",
              "      fill: #1967D2;\n",
              "      height: 32px;\n",
              "      padding: 0 0 0 0;\n",
              "      width: 32px;\n",
              "    }\n",
              "\n",
              "    .colab-df-convert:hover {\n",
              "      background-color: #E2EBFA;\n",
              "      box-shadow: 0px 1px 2px rgba(60, 64, 67, 0.3), 0px 1px 3px 1px rgba(60, 64, 67, 0.15);\n",
              "      fill: #174EA6;\n",
              "    }\n",
              "\n",
              "    .colab-df-buttons div {\n",
              "      margin-bottom: 4px;\n",
              "    }\n",
              "\n",
              "    [theme=dark] .colab-df-convert {\n",
              "      background-color: #3B4455;\n",
              "      fill: #D2E3FC;\n",
              "    }\n",
              "\n",
              "    [theme=dark] .colab-df-convert:hover {\n",
              "      background-color: #434B5C;\n",
              "      box-shadow: 0px 1px 3px 1px rgba(0, 0, 0, 0.15);\n",
              "      filter: drop-shadow(0px 1px 2px rgba(0, 0, 0, 0.3));\n",
              "      fill: #FFFFFF;\n",
              "    }\n",
              "  </style>\n",
              "\n",
              "    <script>\n",
              "      const buttonEl =\n",
              "        document.querySelector('#df-79a131cf-1ffd-4664-b4c9-263c4caa3c6f button.colab-df-convert');\n",
              "      buttonEl.style.display =\n",
              "        google.colab.kernel.accessAllowed ? 'block' : 'none';\n",
              "\n",
              "      async function convertToInteractive(key) {\n",
              "        const element = document.querySelector('#df-79a131cf-1ffd-4664-b4c9-263c4caa3c6f');\n",
              "        const dataTable =\n",
              "          await google.colab.kernel.invokeFunction('convertToInteractive',\n",
              "                                                    [key], {});\n",
              "        if (!dataTable) return;\n",
              "\n",
              "        const docLinkHtml = 'Like what you see? Visit the ' +\n",
              "          '<a target=\"_blank\" href=https://colab.research.google.com/notebooks/data_table.ipynb>data table notebook</a>'\n",
              "          + ' to learn more about interactive tables.';\n",
              "        element.innerHTML = '';\n",
              "        dataTable['output_type'] = 'display_data';\n",
              "        await google.colab.output.renderOutput(dataTable, element);\n",
              "        const docLink = document.createElement('div');\n",
              "        docLink.innerHTML = docLinkHtml;\n",
              "        element.appendChild(docLink);\n",
              "      }\n",
              "    </script>\n",
              "  </div>\n",
              "\n",
              "\n",
              "<div id=\"df-23e9badd-ee14-4e00-9dcd-abb5f3364fad\">\n",
              "  <button class=\"colab-df-quickchart\" onclick=\"quickchart('df-23e9badd-ee14-4e00-9dcd-abb5f3364fad')\"\n",
              "            title=\"Suggest charts\"\n",
              "            style=\"display:none;\">\n",
              "\n",
              "<svg xmlns=\"http://www.w3.org/2000/svg\" height=\"24px\"viewBox=\"0 0 24 24\"\n",
              "     width=\"24px\">\n",
              "    <g>\n",
              "        <path d=\"M19 3H5c-1.1 0-2 .9-2 2v14c0 1.1.9 2 2 2h14c1.1 0 2-.9 2-2V5c0-1.1-.9-2-2-2zM9 17H7v-7h2v7zm4 0h-2V7h2v10zm4 0h-2v-4h2v4z\"/>\n",
              "    </g>\n",
              "</svg>\n",
              "  </button>\n",
              "\n",
              "<style>\n",
              "  .colab-df-quickchart {\n",
              "      --bg-color: #E8F0FE;\n",
              "      --fill-color: #1967D2;\n",
              "      --hover-bg-color: #E2EBFA;\n",
              "      --hover-fill-color: #174EA6;\n",
              "      --disabled-fill-color: #AAA;\n",
              "      --disabled-bg-color: #DDD;\n",
              "  }\n",
              "\n",
              "  [theme=dark] .colab-df-quickchart {\n",
              "      --bg-color: #3B4455;\n",
              "      --fill-color: #D2E3FC;\n",
              "      --hover-bg-color: #434B5C;\n",
              "      --hover-fill-color: #FFFFFF;\n",
              "      --disabled-bg-color: #3B4455;\n",
              "      --disabled-fill-color: #666;\n",
              "  }\n",
              "\n",
              "  .colab-df-quickchart {\n",
              "    background-color: var(--bg-color);\n",
              "    border: none;\n",
              "    border-radius: 50%;\n",
              "    cursor: pointer;\n",
              "    display: none;\n",
              "    fill: var(--fill-color);\n",
              "    height: 32px;\n",
              "    padding: 0;\n",
              "    width: 32px;\n",
              "  }\n",
              "\n",
              "  .colab-df-quickchart:hover {\n",
              "    background-color: var(--hover-bg-color);\n",
              "    box-shadow: 0 1px 2px rgba(60, 64, 67, 0.3), 0 1px 3px 1px rgba(60, 64, 67, 0.15);\n",
              "    fill: var(--button-hover-fill-color);\n",
              "  }\n",
              "\n",
              "  .colab-df-quickchart-complete:disabled,\n",
              "  .colab-df-quickchart-complete:disabled:hover {\n",
              "    background-color: var(--disabled-bg-color);\n",
              "    fill: var(--disabled-fill-color);\n",
              "    box-shadow: none;\n",
              "  }\n",
              "\n",
              "  .colab-df-spinner {\n",
              "    border: 2px solid var(--fill-color);\n",
              "    border-color: transparent;\n",
              "    border-bottom-color: var(--fill-color);\n",
              "    animation:\n",
              "      spin 1s steps(1) infinite;\n",
              "  }\n",
              "\n",
              "  @keyframes spin {\n",
              "    0% {\n",
              "      border-color: transparent;\n",
              "      border-bottom-color: var(--fill-color);\n",
              "      border-left-color: var(--fill-color);\n",
              "    }\n",
              "    20% {\n",
              "      border-color: transparent;\n",
              "      border-left-color: var(--fill-color);\n",
              "      border-top-color: var(--fill-color);\n",
              "    }\n",
              "    30% {\n",
              "      border-color: transparent;\n",
              "      border-left-color: var(--fill-color);\n",
              "      border-top-color: var(--fill-color);\n",
              "      border-right-color: var(--fill-color);\n",
              "    }\n",
              "    40% {\n",
              "      border-color: transparent;\n",
              "      border-right-color: var(--fill-color);\n",
              "      border-top-color: var(--fill-color);\n",
              "    }\n",
              "    60% {\n",
              "      border-color: transparent;\n",
              "      border-right-color: var(--fill-color);\n",
              "    }\n",
              "    80% {\n",
              "      border-color: transparent;\n",
              "      border-right-color: var(--fill-color);\n",
              "      border-bottom-color: var(--fill-color);\n",
              "    }\n",
              "    90% {\n",
              "      border-color: transparent;\n",
              "      border-bottom-color: var(--fill-color);\n",
              "    }\n",
              "  }\n",
              "</style>\n",
              "\n",
              "  <script>\n",
              "    async function quickchart(key) {\n",
              "      const quickchartButtonEl =\n",
              "        document.querySelector('#' + key + ' button');\n",
              "      quickchartButtonEl.disabled = true;  // To prevent multiple clicks.\n",
              "      quickchartButtonEl.classList.add('colab-df-spinner');\n",
              "      try {\n",
              "        const charts = await google.colab.kernel.invokeFunction(\n",
              "            'suggestCharts', [key], {});\n",
              "      } catch (error) {\n",
              "        console.error('Error during call to suggestCharts:', error);\n",
              "      }\n",
              "      quickchartButtonEl.classList.remove('colab-df-spinner');\n",
              "      quickchartButtonEl.classList.add('colab-df-quickchart-complete');\n",
              "    }\n",
              "    (() => {\n",
              "      let quickchartButtonEl =\n",
              "        document.querySelector('#df-23e9badd-ee14-4e00-9dcd-abb5f3364fad button');\n",
              "      quickchartButtonEl.style.display =\n",
              "        google.colab.kernel.accessAllowed ? 'block' : 'none';\n",
              "    })();\n",
              "  </script>\n",
              "</div>\n",
              "\n",
              "    </div>\n",
              "  </div>\n"
            ],
            "application/vnd.google.colaboratory.intrinsic+json": {
              "type": "dataframe",
              "variable_name": "df"
            }
          },
          "metadata": {},
          "execution_count": 17
        }
      ]
    },
    {
      "cell_type": "code",
      "source": [
        "df['Class'].value_counts(normalize=True)"
      ],
      "metadata": {
        "colab": {
          "base_uri": "https://localhost:8080/",
          "height": 178
        },
        "id": "cs0yTdbSggLa",
        "outputId": "e53c7a18-3f7d-4576-ba6d-4ad872c002bb"
      },
      "execution_count": 19,
      "outputs": [
        {
          "output_type": "execute_result",
          "data": {
            "text/plain": [
              "Class\n",
              "0    0.998273\n",
              "1    0.001727\n",
              "Name: proportion, dtype: float64"
            ],
            "text/html": [
              "<div>\n",
              "<style scoped>\n",
              "    .dataframe tbody tr th:only-of-type {\n",
              "        vertical-align: middle;\n",
              "    }\n",
              "\n",
              "    .dataframe tbody tr th {\n",
              "        vertical-align: top;\n",
              "    }\n",
              "\n",
              "    .dataframe thead th {\n",
              "        text-align: right;\n",
              "    }\n",
              "</style>\n",
              "<table border=\"1\" class=\"dataframe\">\n",
              "  <thead>\n",
              "    <tr style=\"text-align: right;\">\n",
              "      <th></th>\n",
              "      <th>proportion</th>\n",
              "    </tr>\n",
              "    <tr>\n",
              "      <th>Class</th>\n",
              "      <th></th>\n",
              "    </tr>\n",
              "  </thead>\n",
              "  <tbody>\n",
              "    <tr>\n",
              "      <th>0</th>\n",
              "      <td>0.998273</td>\n",
              "    </tr>\n",
              "    <tr>\n",
              "      <th>1</th>\n",
              "      <td>0.001727</td>\n",
              "    </tr>\n",
              "  </tbody>\n",
              "</table>\n",
              "</div><br><label><b>dtype:</b> float64</label>"
            ]
          },
          "metadata": {},
          "execution_count": 19
        }
      ]
    },
    {
      "cell_type": "markdown",
      "source": [
        "## Datos cómo arreglos\n",
        "\n",
        "* Los volvemos arreglos de numpy para no generar conflictos con los datos de ingreso en keras"
      ],
      "metadata": {
        "id": "SKp3XdxhSdQI"
      }
    },
    {
      "cell_type": "code",
      "source": [
        "# Get the real data from https://www.kaggle.com/mlg-ulb/creditcardfraud/\n",
        "fname = path + '/creditcard.csv'\n",
        "\n",
        "all_features = []\n",
        "all_targets = []\n",
        "with open(fname) as f:\n",
        "    for i, line in enumerate(f):\n",
        "        if i == 0:\n",
        "            print(\"HEADER:\", line.strip())\n",
        "            continue  # Skip header\n",
        "        fields = line.strip().split(\",\")\n",
        "        all_features.append([float(v.replace('\"', \"\")) for v in fields[:-1]])\n",
        "        all_targets.append([int(fields[-1].replace('\"', \"\"))])\n",
        "        if i == 1:\n",
        "            print(\"EXAMPLE FEATURES:\", all_features[-1])\n",
        "\n",
        "features = np.array(all_features, dtype=\"float32\")\n",
        "targets = np.array(all_targets, dtype=\"uint8\")\n",
        "print(\"features.shape:\", features.shape)\n",
        "print(\"targets.shape:\", targets.shape)"
      ],
      "metadata": {
        "colab": {
          "base_uri": "https://localhost:8080/"
        },
        "id": "R5MiQWtoRyEn",
        "outputId": "6148ae87-7f36-4b00-bc6a-5d2273719203"
      },
      "execution_count": 20,
      "outputs": [
        {
          "output_type": "stream",
          "name": "stdout",
          "text": [
            "HEADER: \"Time\",\"V1\",\"V2\",\"V3\",\"V4\",\"V5\",\"V6\",\"V7\",\"V8\",\"V9\",\"V10\",\"V11\",\"V12\",\"V13\",\"V14\",\"V15\",\"V16\",\"V17\",\"V18\",\"V19\",\"V20\",\"V21\",\"V22\",\"V23\",\"V24\",\"V25\",\"V26\",\"V27\",\"V28\",\"Amount\",\"Class\"\n",
            "EXAMPLE FEATURES: [0.0, -1.3598071336738, -0.0727811733098497, 2.53634673796914, 1.37815522427443, -0.338320769942518, 0.462387777762292, 0.239598554061257, 0.0986979012610507, 0.363786969611213, 0.0907941719789316, -0.551599533260813, -0.617800855762348, -0.991389847235408, -0.311169353699879, 1.46817697209427, -0.470400525259478, 0.207971241929242, 0.0257905801985591, 0.403992960255733, 0.251412098239705, -0.018306777944153, 0.277837575558899, -0.110473910188767, 0.0669280749146731, 0.128539358273528, -0.189114843888824, 0.133558376740387, -0.0210530534538215, 149.62]\n",
            "features.shape: (284807, 30)\n",
            "targets.shape: (284807, 1)\n"
          ]
        }
      ]
    },
    {
      "cell_type": "markdown",
      "source": [
        "### Dividiendo el conjunto de datos en entrenamiento, pruebas y validación"
      ],
      "metadata": {
        "id": "GnTydjzQSv_H"
      }
    },
    {
      "cell_type": "code",
      "source": [
        "num_val_samples = int(len(features) * 0.2)\n",
        "train_features = features[:-num_val_samples]\n",
        "train_targets = targets[:-num_val_samples]\n",
        "val_features = features[-num_val_samples:]\n",
        "val_targets = targets[-num_val_samples:]\n",
        "\n",
        "print(\"Number of training samples:\", len(train_features))\n",
        "print(\"Number of validation samples:\", len(val_features))"
      ],
      "metadata": {
        "colab": {
          "base_uri": "https://localhost:8080/"
        },
        "id": "hZBAsFO4SGZ2",
        "outputId": "3bb04eea-8bb7-416c-e522-1e2d57b86469"
      },
      "execution_count": 21,
      "outputs": [
        {
          "output_type": "stream",
          "name": "stdout",
          "text": [
            "Number of training samples: 227846\n",
            "Number of validation samples: 56961\n"
          ]
        }
      ]
    },
    {
      "cell_type": "code",
      "source": [
        "counts = np.bincount(train_targets[:, 0])\n",
        "print(\n",
        "    \"Number of positive samples in training data: {} ({:.2f}% of total)\".format(\n",
        "        counts[1], 100 * float(counts[1]) / len(train_targets)\n",
        "    )\n",
        ")\n",
        "\n",
        "weight_for_0 = 1.0 / counts[0]\n",
        "weight_for_1 = 1.0 / counts[1]"
      ],
      "metadata": {
        "colab": {
          "base_uri": "https://localhost:8080/"
        },
        "id": "nBcwDCqQSLRP",
        "outputId": "57bd0835-6dc4-49b4-ef8d-763129d1e3af"
      },
      "execution_count": 22,
      "outputs": [
        {
          "output_type": "stream",
          "name": "stdout",
          "text": [
            "Number of positive samples in training data: 417 (0.18% of total)\n"
          ]
        }
      ]
    },
    {
      "cell_type": "markdown",
      "source": [
        "### transfromación de los datos (escalado estándar) por medio de las medidas estadístricas asociadas a los datos"
      ],
      "metadata": {
        "id": "88I2yjEfS8mC"
      }
    },
    {
      "cell_type": "code",
      "source": [
        "mean = np.mean(train_features, axis=0)\n",
        "train_features -= mean\n",
        "val_features -= mean\n",
        "std = np.std(train_features, axis=0)\n",
        "train_features /= std\n",
        "val_features /= std"
      ],
      "metadata": {
        "id": "X9K3wVv9SM5n"
      },
      "execution_count": 23,
      "outputs": []
    },
    {
      "cell_type": "markdown",
      "source": [
        "## Definición de la red neuronal secualcial, asociada al conjunto de datos"
      ],
      "metadata": {
        "id": "0D7d8UbyTHWb"
      }
    },
    {
      "cell_type": "code",
      "source": [
        "import keras\n",
        "\n",
        "model = keras.Sequential(\n",
        "    [\n",
        "        keras.Input(shape=train_features.shape[1:], name='Entrada'),\n",
        "        keras.layers.Dense(256, activation=\"relu\", name='Oculta_1'),\n",
        "        keras.layers.Dense(256, activation=\"relu\", name='Oculta_2'),\n",
        "        keras.layers.Dropout(0.3),\n",
        "        keras.layers.Dense(256, activation=\"relu\", name='Oculta_3'),\n",
        "        keras.layers.Dropout(0.3),\n",
        "        keras.layers.Dense(1, activation=\"sigmoid\", name='Salida'),\n",
        "    ]\n",
        ")\n",
        "model.summary()"
      ],
      "metadata": {
        "colab": {
          "base_uri": "https://localhost:8080/",
          "height": 334
        },
        "id": "4LqJGQJbSO19",
        "outputId": "632ac67d-5597-40a8-bacb-74b02d5f6624"
      },
      "execution_count": 25,
      "outputs": [
        {
          "output_type": "display_data",
          "data": {
            "text/plain": [
              "\u001b[1mModel: \"sequential_2\"\u001b[0m\n"
            ],
            "text/html": [
              "<pre style=\"white-space:pre;overflow-x:auto;line-height:normal;font-family:Menlo,'DejaVu Sans Mono',consolas,'Courier New',monospace\"><span style=\"font-weight: bold\">Model: \"sequential_2\"</span>\n",
              "</pre>\n"
            ]
          },
          "metadata": {}
        },
        {
          "output_type": "display_data",
          "data": {
            "text/plain": [
              "┏━━━━━━━━━━━━━━━━━━━━━━━━━━━━━━━━━━━━━━┳━━━━━━━━━━━━━━━━━━━━━━━━━━━━━┳━━━━━━━━━━━━━━━━━┓\n",
              "┃\u001b[1m \u001b[0m\u001b[1mLayer (type)                        \u001b[0m\u001b[1m \u001b[0m┃\u001b[1m \u001b[0m\u001b[1mOutput Shape               \u001b[0m\u001b[1m \u001b[0m┃\u001b[1m \u001b[0m\u001b[1m        Param #\u001b[0m\u001b[1m \u001b[0m┃\n",
              "┡━━━━━━━━━━━━━━━━━━━━━━━━━━━━━━━━━━━━━━╇━━━━━━━━━━━━━━━━━━━━━━━━━━━━━╇━━━━━━━━━━━━━━━━━┩\n",
              "│ Oculta_1 (\u001b[38;5;33mDense\u001b[0m)                     │ (\u001b[38;5;45mNone\u001b[0m, \u001b[38;5;34m256\u001b[0m)                 │           \u001b[38;5;34m7,936\u001b[0m │\n",
              "├──────────────────────────────────────┼─────────────────────────────┼─────────────────┤\n",
              "│ Oculta_2 (\u001b[38;5;33mDense\u001b[0m)                     │ (\u001b[38;5;45mNone\u001b[0m, \u001b[38;5;34m256\u001b[0m)                 │          \u001b[38;5;34m65,792\u001b[0m │\n",
              "├──────────────────────────────────────┼─────────────────────────────┼─────────────────┤\n",
              "│ dropout_4 (\u001b[38;5;33mDropout\u001b[0m)                  │ (\u001b[38;5;45mNone\u001b[0m, \u001b[38;5;34m256\u001b[0m)                 │               \u001b[38;5;34m0\u001b[0m │\n",
              "├──────────────────────────────────────┼─────────────────────────────┼─────────────────┤\n",
              "│ Oculta_3 (\u001b[38;5;33mDense\u001b[0m)                     │ (\u001b[38;5;45mNone\u001b[0m, \u001b[38;5;34m256\u001b[0m)                 │          \u001b[38;5;34m65,792\u001b[0m │\n",
              "├──────────────────────────────────────┼─────────────────────────────┼─────────────────┤\n",
              "│ dropout_5 (\u001b[38;5;33mDropout\u001b[0m)                  │ (\u001b[38;5;45mNone\u001b[0m, \u001b[38;5;34m256\u001b[0m)                 │               \u001b[38;5;34m0\u001b[0m │\n",
              "├──────────────────────────────────────┼─────────────────────────────┼─────────────────┤\n",
              "│ Salida (\u001b[38;5;33mDense\u001b[0m)                       │ (\u001b[38;5;45mNone\u001b[0m, \u001b[38;5;34m1\u001b[0m)                   │             \u001b[38;5;34m257\u001b[0m │\n",
              "└──────────────────────────────────────┴─────────────────────────────┴─────────────────┘\n"
            ],
            "text/html": [
              "<pre style=\"white-space:pre;overflow-x:auto;line-height:normal;font-family:Menlo,'DejaVu Sans Mono',consolas,'Courier New',monospace\">┏━━━━━━━━━━━━━━━━━━━━━━━━━━━━━━━━━━━━━━┳━━━━━━━━━━━━━━━━━━━━━━━━━━━━━┳━━━━━━━━━━━━━━━━━┓\n",
              "┃<span style=\"font-weight: bold\"> Layer (type)                         </span>┃<span style=\"font-weight: bold\"> Output Shape                </span>┃<span style=\"font-weight: bold\">         Param # </span>┃\n",
              "┡━━━━━━━━━━━━━━━━━━━━━━━━━━━━━━━━━━━━━━╇━━━━━━━━━━━━━━━━━━━━━━━━━━━━━╇━━━━━━━━━━━━━━━━━┩\n",
              "│ Oculta_1 (<span style=\"color: #0087ff; text-decoration-color: #0087ff\">Dense</span>)                     │ (<span style=\"color: #00d7ff; text-decoration-color: #00d7ff\">None</span>, <span style=\"color: #00af00; text-decoration-color: #00af00\">256</span>)                 │           <span style=\"color: #00af00; text-decoration-color: #00af00\">7,936</span> │\n",
              "├──────────────────────────────────────┼─────────────────────────────┼─────────────────┤\n",
              "│ Oculta_2 (<span style=\"color: #0087ff; text-decoration-color: #0087ff\">Dense</span>)                     │ (<span style=\"color: #00d7ff; text-decoration-color: #00d7ff\">None</span>, <span style=\"color: #00af00; text-decoration-color: #00af00\">256</span>)                 │          <span style=\"color: #00af00; text-decoration-color: #00af00\">65,792</span> │\n",
              "├──────────────────────────────────────┼─────────────────────────────┼─────────────────┤\n",
              "│ dropout_4 (<span style=\"color: #0087ff; text-decoration-color: #0087ff\">Dropout</span>)                  │ (<span style=\"color: #00d7ff; text-decoration-color: #00d7ff\">None</span>, <span style=\"color: #00af00; text-decoration-color: #00af00\">256</span>)                 │               <span style=\"color: #00af00; text-decoration-color: #00af00\">0</span> │\n",
              "├──────────────────────────────────────┼─────────────────────────────┼─────────────────┤\n",
              "│ Oculta_3 (<span style=\"color: #0087ff; text-decoration-color: #0087ff\">Dense</span>)                     │ (<span style=\"color: #00d7ff; text-decoration-color: #00d7ff\">None</span>, <span style=\"color: #00af00; text-decoration-color: #00af00\">256</span>)                 │          <span style=\"color: #00af00; text-decoration-color: #00af00\">65,792</span> │\n",
              "├──────────────────────────────────────┼─────────────────────────────┼─────────────────┤\n",
              "│ dropout_5 (<span style=\"color: #0087ff; text-decoration-color: #0087ff\">Dropout</span>)                  │ (<span style=\"color: #00d7ff; text-decoration-color: #00d7ff\">None</span>, <span style=\"color: #00af00; text-decoration-color: #00af00\">256</span>)                 │               <span style=\"color: #00af00; text-decoration-color: #00af00\">0</span> │\n",
              "├──────────────────────────────────────┼─────────────────────────────┼─────────────────┤\n",
              "│ Salida (<span style=\"color: #0087ff; text-decoration-color: #0087ff\">Dense</span>)                       │ (<span style=\"color: #00d7ff; text-decoration-color: #00d7ff\">None</span>, <span style=\"color: #00af00; text-decoration-color: #00af00\">1</span>)                   │             <span style=\"color: #00af00; text-decoration-color: #00af00\">257</span> │\n",
              "└──────────────────────────────────────┴─────────────────────────────┴─────────────────┘\n",
              "</pre>\n"
            ]
          },
          "metadata": {}
        },
        {
          "output_type": "display_data",
          "data": {
            "text/plain": [
              "\u001b[1m Total params: \u001b[0m\u001b[38;5;34m139,777\u001b[0m (546.00 KB)\n"
            ],
            "text/html": [
              "<pre style=\"white-space:pre;overflow-x:auto;line-height:normal;font-family:Menlo,'DejaVu Sans Mono',consolas,'Courier New',monospace\"><span style=\"font-weight: bold\"> Total params: </span><span style=\"color: #00af00; text-decoration-color: #00af00\">139,777</span> (546.00 KB)\n",
              "</pre>\n"
            ]
          },
          "metadata": {}
        },
        {
          "output_type": "display_data",
          "data": {
            "text/plain": [
              "\u001b[1m Trainable params: \u001b[0m\u001b[38;5;34m139,777\u001b[0m (546.00 KB)\n"
            ],
            "text/html": [
              "<pre style=\"white-space:pre;overflow-x:auto;line-height:normal;font-family:Menlo,'DejaVu Sans Mono',consolas,'Courier New',monospace\"><span style=\"font-weight: bold\"> Trainable params: </span><span style=\"color: #00af00; text-decoration-color: #00af00\">139,777</span> (546.00 KB)\n",
              "</pre>\n"
            ]
          },
          "metadata": {}
        },
        {
          "output_type": "display_data",
          "data": {
            "text/plain": [
              "\u001b[1m Non-trainable params: \u001b[0m\u001b[38;5;34m0\u001b[0m (0.00 B)\n"
            ],
            "text/html": [
              "<pre style=\"white-space:pre;overflow-x:auto;line-height:normal;font-family:Menlo,'DejaVu Sans Mono',consolas,'Courier New',monospace\"><span style=\"font-weight: bold\"> Non-trainable params: </span><span style=\"color: #00af00; text-decoration-color: #00af00\">0</span> (0.00 B)\n",
              "</pre>\n"
            ]
          },
          "metadata": {}
        }
      ]
    },
    {
      "cell_type": "markdown",
      "source": [
        "### Cálculo de métricas con respecto a la proyección del modelo calculado"
      ],
      "metadata": {
        "id": "BDWXfoNtTO3o"
      }
    },
    {
      "cell_type": "code",
      "source": [
        "metrics = [\n",
        "    keras.metrics.FalseNegatives(name=\"fn\"),\n",
        "    keras.metrics.FalsePositives(name=\"fp\"),\n",
        "    keras.metrics.TrueNegatives(name=\"tn\"),\n",
        "    keras.metrics.TruePositives(name=\"tp\"),\n",
        "    keras.metrics.Precision(name=\"precision\"),\n",
        "    keras.metrics.Recall(name=\"recall\"),\n",
        "]\n",
        "\n",
        "model.compile(\n",
        "    optimizer=keras.optimizers.Adam(1e-2), loss=\"binary_crossentropy\", metrics=metrics\n",
        ")\n",
        "\n",
        "callbacks = [keras.callbacks.ModelCheckpoint(\"fraud_model_at_epoch_{epoch}.keras\")]\n",
        "class_weight = {0: weight_for_0, 1: weight_for_1}\n",
        "\n",
        "model.fit(\n",
        "    train_features,\n",
        "    train_targets,\n",
        "    batch_size=2048,\n",
        "    epochs=30,\n",
        "    verbose=2,\n",
        "    callbacks=callbacks,\n",
        "    validation_data=(val_features, val_targets),\n",
        "    class_weight=class_weight,\n",
        ")"
      ],
      "metadata": {
        "colab": {
          "base_uri": "https://localhost:8080/"
        },
        "id": "xaCI-z5pSQjg",
        "outputId": "31c4852d-e87e-4eca-b80f-9bd809dcdd27"
      },
      "execution_count": 26,
      "outputs": [
        {
          "output_type": "stream",
          "name": "stdout",
          "text": [
            "Epoch 1/30\n",
            "112/112 - 12s - 104ms/step - fn: 43.0000 - fp: 23930.0000 - loss: 2.2765e-06 - precision: 0.0154 - recall: 0.8969 - tn: 203499.0000 - tp: 374.0000 - val_fn: 4.0000 - val_fp: 6041.0000 - val_loss: 0.3316 - val_precision: 0.0116 - val_recall: 0.9467 - val_tn: 50845.0000 - val_tp: 71.0000\n",
            "Epoch 2/30\n",
            "112/112 - 7s - 63ms/step - fn: 31.0000 - fp: 7603.0000 - loss: 1.3006e-06 - precision: 0.0483 - recall: 0.9257 - tn: 219826.0000 - tp: 386.0000 - val_fn: 10.0000 - val_fp: 1069.0000 - val_loss: 0.0622 - val_precision: 0.0573 - val_recall: 0.8667 - val_tn: 55817.0000 - val_tp: 65.0000\n",
            "Epoch 3/30\n",
            "112/112 - 9s - 81ms/step - fn: 27.0000 - fp: 8232.0000 - loss: 1.2829e-06 - precision: 0.0452 - recall: 0.9353 - tn: 219197.0000 - tp: 390.0000 - val_fn: 7.0000 - val_fp: 781.0000 - val_loss: 0.0700 - val_precision: 0.0801 - val_recall: 0.9067 - val_tn: 56105.0000 - val_tp: 68.0000\n",
            "Epoch 4/30\n",
            "112/112 - 7s - 61ms/step - fn: 21.0000 - fp: 6126.0000 - loss: 9.4452e-07 - precision: 0.0607 - recall: 0.9496 - tn: 221303.0000 - tp: 396.0000 - val_fn: 9.0000 - val_fp: 830.0000 - val_loss: 0.0429 - val_precision: 0.0737 - val_recall: 0.8800 - val_tn: 56056.0000 - val_tp: 66.0000\n",
            "Epoch 5/30\n",
            "112/112 - 10s - 89ms/step - fn: 24.0000 - fp: 8208.0000 - loss: 1.1135e-06 - precision: 0.0457 - recall: 0.9424 - tn: 219221.0000 - tp: 393.0000 - val_fn: 6.0000 - val_fp: 2158.0000 - val_loss: 0.0946 - val_precision: 0.0310 - val_recall: 0.9200 - val_tn: 54728.0000 - val_tp: 69.0000\n",
            "Epoch 6/30\n",
            "112/112 - 11s - 96ms/step - fn: 23.0000 - fp: 9676.0000 - loss: 1.2474e-06 - precision: 0.0391 - recall: 0.9448 - tn: 217753.0000 - tp: 394.0000 - val_fn: 6.0000 - val_fp: 3159.0000 - val_loss: 0.1449 - val_precision: 0.0214 - val_recall: 0.9200 - val_tn: 53727.0000 - val_tp: 69.0000\n",
            "Epoch 7/30\n",
            "112/112 - 6s - 52ms/step - fn: 21.0000 - fp: 6958.0000 - loss: 1.4029e-06 - precision: 0.0538 - recall: 0.9496 - tn: 220471.0000 - tp: 396.0000 - val_fn: 4.0000 - val_fp: 6997.0000 - val_loss: 0.3681 - val_precision: 0.0100 - val_recall: 0.9467 - val_tn: 49889.0000 - val_tp: 71.0000\n",
            "Epoch 8/30\n",
            "112/112 - 7s - 61ms/step - fn: 13.0000 - fp: 6527.0000 - loss: 8.4617e-07 - precision: 0.0583 - recall: 0.9688 - tn: 220902.0000 - tp: 404.0000 - val_fn: 10.0000 - val_fp: 384.0000 - val_loss: 0.0213 - val_precision: 0.1448 - val_recall: 0.8667 - val_tn: 56502.0000 - val_tp: 65.0000\n",
            "Epoch 9/30\n",
            "112/112 - 5s - 48ms/step - fn: 9.0000 - fp: 5007.0000 - loss: 6.5018e-07 - precision: 0.0753 - recall: 0.9784 - tn: 222422.0000 - tp: 408.0000 - val_fn: 5.0000 - val_fp: 2125.0000 - val_loss: 0.0971 - val_precision: 0.0319 - val_recall: 0.9333 - val_tn: 54761.0000 - val_tp: 70.0000\n",
            "Epoch 10/30\n",
            "112/112 - 11s - 94ms/step - fn: 7.0000 - fp: 6362.0000 - loss: 6.0039e-07 - precision: 0.0605 - recall: 0.9832 - tn: 221067.0000 - tp: 410.0000 - val_fn: 8.0000 - val_fp: 1267.0000 - val_loss: 0.0631 - val_precision: 0.0502 - val_recall: 0.8933 - val_tn: 55619.0000 - val_tp: 67.0000\n",
            "Epoch 11/30\n",
            "112/112 - 7s - 63ms/step - fn: 7.0000 - fp: 5531.0000 - loss: 5.6068e-07 - precision: 0.0690 - recall: 0.9832 - tn: 221898.0000 - tp: 410.0000 - val_fn: 11.0000 - val_fp: 582.0000 - val_loss: 0.0373 - val_precision: 0.0991 - val_recall: 0.8533 - val_tn: 56304.0000 - val_tp: 64.0000\n",
            "Epoch 12/30\n",
            "112/112 - 9s - 78ms/step - fn: 9.0000 - fp: 5801.0000 - loss: 5.7476e-07 - precision: 0.0657 - recall: 0.9784 - tn: 221628.0000 - tp: 408.0000 - val_fn: 11.0000 - val_fp: 265.0000 - val_loss: 0.0144 - val_precision: 0.1945 - val_recall: 0.8533 - val_tn: 56621.0000 - val_tp: 64.0000\n",
            "Epoch 13/30\n",
            "112/112 - 10s - 89ms/step - fn: 14.0000 - fp: 6448.0000 - loss: 7.0932e-07 - precision: 0.0588 - recall: 0.9664 - tn: 220981.0000 - tp: 403.0000 - val_fn: 10.0000 - val_fp: 331.0000 - val_loss: 0.0169 - val_precision: 0.1641 - val_recall: 0.8667 - val_tn: 56555.0000 - val_tp: 65.0000\n",
            "Epoch 14/30\n",
            "112/112 - 7s - 63ms/step - fn: 3.0000 - fp: 4690.0000 - loss: 4.6799e-07 - precision: 0.0811 - recall: 0.9928 - tn: 222739.0000 - tp: 414.0000 - val_fn: 10.0000 - val_fp: 476.0000 - val_loss: 0.0311 - val_precision: 0.1201 - val_recall: 0.8667 - val_tn: 56410.0000 - val_tp: 65.0000\n",
            "Epoch 15/30\n",
            "112/112 - 6s - 50ms/step - fn: 6.0000 - fp: 5871.0000 - loss: 5.3938e-07 - precision: 0.0654 - recall: 0.9856 - tn: 221558.0000 - tp: 411.0000 - val_fn: 9.0000 - val_fp: 553.0000 - val_loss: 0.0220 - val_precision: 0.1066 - val_recall: 0.8800 - val_tn: 56333.0000 - val_tp: 66.0000\n",
            "Epoch 16/30\n",
            "112/112 - 11s - 98ms/step - fn: 9.0000 - fp: 6176.0000 - loss: 5.9646e-07 - precision: 0.0620 - recall: 0.9784 - tn: 221253.0000 - tp: 408.0000 - val_fn: 13.0000 - val_fp: 111.0000 - val_loss: 0.0092 - val_precision: 0.3584 - val_recall: 0.8267 - val_tn: 56775.0000 - val_tp: 62.0000\n",
            "Epoch 17/30\n",
            "112/112 - 6s - 50ms/step - fn: 15.0000 - fp: 6314.0000 - loss: 8.4250e-07 - precision: 0.0599 - recall: 0.9640 - tn: 221115.0000 - tp: 402.0000 - val_fn: 10.0000 - val_fp: 497.0000 - val_loss: 0.0285 - val_precision: 0.1157 - val_recall: 0.8667 - val_tn: 56389.0000 - val_tp: 65.0000\n",
            "Epoch 18/30\n",
            "112/112 - 7s - 64ms/step - fn: 5.0000 - fp: 4204.0000 - loss: 4.6264e-07 - precision: 0.0893 - recall: 0.9880 - tn: 223225.0000 - tp: 412.0000 - val_fn: 10.0000 - val_fp: 481.0000 - val_loss: 0.0243 - val_precision: 0.1190 - val_recall: 0.8667 - val_tn: 56405.0000 - val_tp: 65.0000\n",
            "Epoch 19/30\n",
            "112/112 - 10s - 86ms/step - fn: 4.0000 - fp: 3053.0000 - loss: 3.2582e-07 - precision: 0.1192 - recall: 0.9904 - tn: 224376.0000 - tp: 413.0000 - val_fn: 9.0000 - val_fp: 431.0000 - val_loss: 0.0291 - val_precision: 0.1328 - val_recall: 0.8800 - val_tn: 56455.0000 - val_tp: 66.0000\n",
            "Epoch 20/30\n",
            "112/112 - 9s - 79ms/step - fn: 6.0000 - fp: 4167.0000 - loss: 5.7002e-07 - precision: 0.0898 - recall: 0.9856 - tn: 223262.0000 - tp: 411.0000 - val_fn: 11.0000 - val_fp: 372.0000 - val_loss: 0.0371 - val_precision: 0.1468 - val_recall: 0.8533 - val_tn: 56514.0000 - val_tp: 64.0000\n",
            "Epoch 21/30\n",
            "112/112 - 10s - 91ms/step - fn: 11.0000 - fp: 6284.0000 - loss: 1.1205e-06 - precision: 0.0607 - recall: 0.9736 - tn: 221145.0000 - tp: 406.0000 - val_fn: 6.0000 - val_fp: 2616.0000 - val_loss: 0.1485 - val_precision: 0.0257 - val_recall: 0.9200 - val_tn: 54270.0000 - val_tp: 69.0000\n",
            "Epoch 22/30\n",
            "112/112 - 7s - 63ms/step - fn: 9.0000 - fp: 5117.0000 - loss: 9.5480e-07 - precision: 0.0738 - recall: 0.9784 - tn: 222312.0000 - tp: 408.0000 - val_fn: 9.0000 - val_fp: 521.0000 - val_loss: 0.0711 - val_precision: 0.1124 - val_recall: 0.8800 - val_tn: 56365.0000 - val_tp: 66.0000\n",
            "Epoch 23/30\n",
            "112/112 - 5s - 47ms/step - fn: 7.0000 - fp: 3252.0000 - loss: 5.4933e-07 - precision: 0.1120 - recall: 0.9832 - tn: 224177.0000 - tp: 410.0000 - val_fn: 7.0000 - val_fp: 1721.0000 - val_loss: 0.0790 - val_precision: 0.0380 - val_recall: 0.9067 - val_tn: 55165.0000 - val_tp: 68.0000\n",
            "Epoch 24/30\n",
            "112/112 - 6s - 52ms/step - fn: 6.0000 - fp: 3080.0000 - loss: 5.3112e-07 - precision: 0.1177 - recall: 0.9856 - tn: 224349.0000 - tp: 411.0000 - val_fn: 8.0000 - val_fp: 453.0000 - val_loss: 0.0285 - val_precision: 0.1288 - val_recall: 0.8933 - val_tn: 56433.0000 - val_tp: 67.0000\n",
            "Epoch 25/30\n",
            "112/112 - 10s - 88ms/step - fn: 1.0000 - fp: 2646.0000 - loss: 2.9653e-07 - precision: 0.1359 - recall: 0.9976 - tn: 224783.0000 - tp: 416.0000 - val_fn: 10.0000 - val_fp: 966.0000 - val_loss: 0.0593 - val_precision: 0.0630 - val_recall: 0.8667 - val_tn: 55920.0000 - val_tp: 65.0000\n",
            "Epoch 26/30\n",
            "112/112 - 10s - 91ms/step - fn: 1.0000 - fp: 2056.0000 - loss: 2.3322e-07 - precision: 0.1683 - recall: 0.9976 - tn: 225373.0000 - tp: 416.0000 - val_fn: 10.0000 - val_fp: 244.0000 - val_loss: 0.0260 - val_precision: 0.2104 - val_recall: 0.8667 - val_tn: 56642.0000 - val_tp: 65.0000\n",
            "Epoch 27/30\n",
            "112/112 - 10s - 89ms/step - fn: 12.0000 - fp: 3792.0000 - loss: 2.0376e-06 - precision: 0.0965 - recall: 0.9712 - tn: 223637.0000 - tp: 405.0000 - val_fn: 7.0000 - val_fp: 1324.0000 - val_loss: 0.1474 - val_precision: 0.0489 - val_recall: 0.9067 - val_tn: 55562.0000 - val_tp: 68.0000\n",
            "Epoch 28/30\n",
            "112/112 - 6s - 52ms/step - fn: 13.0000 - fp: 5622.0000 - loss: 1.9295e-06 - precision: 0.0670 - recall: 0.9688 - tn: 221807.0000 - tp: 404.0000 - val_fn: 11.0000 - val_fp: 541.0000 - val_loss: 0.0458 - val_precision: 0.1058 - val_recall: 0.8533 - val_tn: 56345.0000 - val_tp: 64.0000\n",
            "Epoch 29/30\n",
            "112/112 - 7s - 62ms/step - fn: 8.0000 - fp: 3296.0000 - loss: 7.7084e-07 - precision: 0.1104 - recall: 0.9808 - tn: 224133.0000 - tp: 409.0000 - val_fn: 9.0000 - val_fp: 720.0000 - val_loss: 0.0487 - val_precision: 0.0840 - val_recall: 0.8800 - val_tn: 56166.0000 - val_tp: 66.0000\n",
            "Epoch 30/30\n",
            "112/112 - 6s - 50ms/step - fn: 5.0000 - fp: 3052.0000 - loss: 5.1107e-07 - precision: 0.1189 - recall: 0.9880 - tn: 224377.0000 - tp: 412.0000 - val_fn: 6.0000 - val_fp: 1146.0000 - val_loss: 0.0787 - val_precision: 0.0568 - val_recall: 0.9200 - val_tn: 55740.0000 - val_tp: 69.0000\n"
          ]
        },
        {
          "output_type": "execute_result",
          "data": {
            "text/plain": [
              "<keras.src.callbacks.history.History at 0x7ecc790fc9a0>"
            ]
          },
          "metadata": {},
          "execution_count": 26
        }
      ]
    },
    {
      "cell_type": "code",
      "source": [
        "model.evaluate(val_features, val_targets, verbose=2)"
      ],
      "metadata": {
        "id": "Y7DJpOTmSUNG",
        "colab": {
          "base_uri": "https://localhost:8080/"
        },
        "outputId": "d06d0450-1454-4ac5-b751-01d8fe743651"
      },
      "execution_count": 28,
      "outputs": [
        {
          "output_type": "stream",
          "name": "stdout",
          "text": [
            "1781/1781 - 4s - 2ms/step - fn: 6.0000 - fp: 1146.0000 - loss: 0.0787 - precision: 0.0568 - recall: 0.9200 - tn: 55740.0000 - tp: 69.0000\n"
          ]
        },
        {
          "output_type": "execute_result",
          "data": {
            "text/plain": [
              "[0.07865195721387863,\n",
              " 6.0,\n",
              " 1146.0,\n",
              " 55740.0,\n",
              " 69.0,\n",
              " 0.056790124624967575,\n",
              " 0.9200000166893005]"
            ]
          },
          "metadata": {},
          "execution_count": 28
        }
      ]
    },
    {
      "cell_type": "code",
      "source": [],
      "metadata": {
        "id": "L8XZ7uLKkk1N"
      },
      "execution_count": null,
      "outputs": []
    }
  ]
}