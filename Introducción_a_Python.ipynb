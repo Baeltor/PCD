{
  "cells": [
    {
      "cell_type": "markdown",
      "metadata": {
        "id": "yLjXLLXri-Ts"
      },
      "source": [
        "## Introducción a Python"
      ]
    },
    {
      "cell_type": "markdown",
      "metadata": {
        "id": "g2YZSs_mi-Tw"
      },
      "source": [
        "Escribir programas (o programar) es una actividad muy creativa y gratificante.\n",
        "Puedes escribir programas por muchas razones, que pueden ir desde mantenerte\n",
        "activo resolviendo un problema de análisis de datos complejo hasta hacerlo por\n",
        "pura diversión ayudando a otros a resolver un enigma.\n",
        "\n",
        "En nuestra vida diaria estamos rodeados de computadoras, desde equipos portátiles\n",
        "(laptops) hasta teléfonos móviles (celulares). Podemos pensar en esas computadoras como nuestros “asistentes personales”, que pueden ocuparse de muchas tareas\n",
        "por nosotros. El hardware en los equipos que usamos cada día está diseñado esencialmente para hacernos la misma pregunta de forma constante, “¿Qué quieres\n",
        "que haga ahora?”\n",
        "\n",
        "Nuestros equipos son rápidos y tienen grandes cantidades de memoria. Podrían\n",
        "resultarnos muy útiles si tan solo supiéramos qué idioma utilizar para explicarle\n",
        "a la computadora qué es lo que queremos que “haga ahora”. Si conociéramos ese\n",
        "idioma, podríamos pedirle al aparato que realizase en nuestro lugar, por ejemplo,\n",
        "tareas repetitivas. Precisamente el tipo de cosas que las computadoras saben hacer\n",
        "mejor suelen ser el tipo de cosas que las personas encontramos pesadas y aburridas.\n",
        "\n",
        "\n",
        "Por ejemplo, mira los primeros tres párrafos de cualquier capitulo de un libro y digame cuál es la palabra que más se repite, y cuántas veces se ha utilizado. Aunque seas capaz de leer\n",
        "y comprender las palabras en pocos segundos, contarlas te resultará casi imposible,\n",
        "porque la mente humana no fue diseñada para resolver ese tipo de problemas. Para\n",
        "una computadora es justo al revés, leer y comprender texto de un trozo de papel\n",
        "le sería difícil, pero contar las palabras y decirte cuántas veces se ha repetido la\n",
        "más utilizada le resulta muy sencillo:\n",
        "\n",
        "\n"
      ]
    },
    {
      "cell_type": "code",
      "execution_count": null,
      "metadata": {
        "scrolled": true,
        "id": "D7WSmOI_i-Tx",
        "outputId": "284834ca-d715-4fc2-cd4f-59e060353bdc",
        "colab": {
          "base_uri": "https://localhost:8080/"
        }
      },
      "outputs": [
        {
          "output_type": "stream",
          "name": "stdout",
          "text": [
            "hola mundo\n"
          ]
        }
      ],
      "source": [
        "print(\"hola mundo\")"
      ]
    },
    {
      "cell_type": "code",
      "execution_count": null,
      "metadata": {
        "scrolled": true,
        "id": "Ntkg4VI_i-Tz",
        "outputId": "f492d0e9-4713-4617-b6d8-e9b58a7f394b",
        "colab": {
          "base_uri": "https://localhost:8080/",
          "height": 132
        }
      },
      "outputs": [
        {
          "output_type": "error",
          "ename": "SyntaxError",
          "evalue": "ignored",
          "traceback": [
            "\u001b[0;36m  File \u001b[0;32m\"<ipython-input-2-f66b87fef5bf>\"\u001b[0;36m, line \u001b[0;32m1\u001b[0m\n\u001b[0;31m    hola mundo\u001b[0m\n\u001b[0m             ^\u001b[0m\n\u001b[0;31mSyntaxError\u001b[0m\u001b[0;31m:\u001b[0m invalid syntax\n"
          ]
        }
      ],
      "source": [
        "hola mundo"
      ]
    },
    {
      "cell_type": "markdown",
      "metadata": {
        "id": "6susHdk1i-T0"
      },
      "source": [
        "En las siguientes lineas le diremos a Python  que recuerde cierto\n",
        "valor para utilizarlo más tarde. Tenemos que escoger un nombre para que ese\n",
        "valor sea recordado y usaremos ese nombre simbólico para recuperar el valor más\n",
        "tarde. Utilizamos el término variable para denominar las etiquetas que usamos\n",
        "para referirnos a esos datos almacenados"
      ]
    },
    {
      "cell_type": "code",
      "execution_count": null,
      "metadata": {
        "id": "end530bWi-T0"
      },
      "outputs": [],
      "source": [
        "x = 7\n",
        "y = 2"
      ]
    },
    {
      "cell_type": "code",
      "execution_count": null,
      "metadata": {
        "id": "uk244_FTi-T1",
        "outputId": "98b9eae6-21ee-4237-ce29-974d2c63ccca",
        "colab": {
          "base_uri": "https://localhost:8080/"
        }
      },
      "outputs": [
        {
          "output_type": "stream",
          "name": "stdout",
          "text": [
            "9\n"
          ]
        }
      ],
      "source": [
        "print(x+y)"
      ]
    },
    {
      "cell_type": "code",
      "execution_count": null,
      "metadata": {
        "id": "ftTWzPjdi-T2"
      },
      "outputs": [],
      "source": [
        "z = x + y"
      ]
    },
    {
      "cell_type": "code",
      "execution_count": null,
      "metadata": {
        "scrolled": true,
        "id": "JvOiaM5Oi-T2",
        "outputId": "cb8e417e-2b23-4b7d-9c66-eabb6b3942e9",
        "colab": {
          "base_uri": "https://localhost:8080/"
        }
      },
      "outputs": [
        {
          "output_type": "stream",
          "name": "stdout",
          "text": [
            "9\n"
          ]
        }
      ],
      "source": [
        "print(z)"
      ]
    },
    {
      "cell_type": "code",
      "execution_count": null,
      "metadata": {
        "id": "X67AWXg9i-T3"
      },
      "outputs": [],
      "source": [
        "zz = x*(5+y)*z-5"
      ]
    },
    {
      "cell_type": "code",
      "execution_count": null,
      "metadata": {
        "scrolled": false,
        "id": "-q8iGk4ci-T3",
        "outputId": "e9f1d395-e471-419b-c646-e6129c8fb89c",
        "colab": {
          "base_uri": "https://localhost:8080/"
        }
      },
      "outputs": [
        {
          "output_type": "stream",
          "name": "stdout",
          "text": [
            "436\n"
          ]
        }
      ],
      "source": [
        "print(zz)"
      ]
    },
    {
      "cell_type": "markdown",
      "metadata": {
        "id": "VixVQ5nKi-T4"
      },
      "source": [
        "### ¿Qué es un programa? \n",
        "Podemos definir un programa, en su forma más básica, como una secuencia de\n",
        "declaraciones o sentencias que han sido diseñadas para hacer algo. Incluso nuestro\n",
        "sencillo script “hola.py” es un programa. Es un programa de una sola línea y no\n",
        "resulta particularmente útil, pero si nos ajustamos estrictamente a la definición, se\n",
        "trata de un programa en Python.\n",
        "Tal vez resulte más fácil comprender qué es un programa pensando en un problema\n",
        "que pudiera ser resuelto a través de un programa, y luego estudiando cómo sería\n",
        "el programa que solucionaría ese problema.\n",
        "Supongamos que estás haciendo una investigación de computación o informática social en mensajes de Facebook, y te interesa conocer cual es la palabra más utilizada\n",
        "en un conjunto de mensajes. Podrías imprimir el flujo de mensajes de Facebook y\n",
        "revisar con atención el texto, buscando la palabra más común, pero sería un proceso largo y muy propenso a errores. Sería más inteligente escribir un programa\n",
        "en Python para encargarse de la tarea con rapidez y precisión, y así poder emplear\n",
        "el fin de semana en hacer otras cosas más divertidas."
      ]
    },
    {
      "cell_type": "markdown",
      "metadata": {
        "id": "JG3uzKOgi-T4"
      },
      "source": [
        "## Valores y tipos\n",
        "\n",
        "Un valor es una de las cosas básicas que utiliza un programa, como una letra o un\n",
        "número. Los valores que hemos visto hasta ahora han sido 1, 2, y “¡Hola, mundo!”\n",
        "Esos valores pertenecen a tipos diferentes: 2 es un entero (int), y “¡Hola, mundo!”\n",
        "es una cadena (string), que recibe ese nombre porque contiene una “cadena” de\n",
        "letras. se pueden identificar las cadenas porque van encerradas\n",
        "entre comillas."
      ]
    },
    {
      "cell_type": "code",
      "execution_count": null,
      "metadata": {
        "id": "hRj0F_vzi-T5"
      },
      "outputs": [],
      "source": [
        "x = \"Hola Mundo\"\n",
        "\n",
        "y = 4\n",
        "\n",
        "z = 3.9"
      ]
    },
    {
      "cell_type": "code",
      "execution_count": null,
      "metadata": {
        "id": "wd6IHAW4i-T5",
        "outputId": "29a5827b-8662-44e7-f4b8-3a948ec6e18a",
        "colab": {
          "base_uri": "https://localhost:8080/"
        }
      },
      "outputs": [
        {
          "output_type": "execute_result",
          "data": {
            "text/plain": [
              "str"
            ]
          },
          "metadata": {},
          "execution_count": 11
        }
      ],
      "source": [
        "type(x)"
      ]
    },
    {
      "cell_type": "code",
      "execution_count": null,
      "metadata": {
        "id": "cJUCRvTqi-T5",
        "outputId": "2941369f-0705-49cf-bc98-925df9922da4",
        "colab": {
          "base_uri": "https://localhost:8080/"
        }
      },
      "outputs": [
        {
          "output_type": "execute_result",
          "data": {
            "text/plain": [
              "int"
            ]
          },
          "metadata": {},
          "execution_count": 12
        }
      ],
      "source": [
        "type(y)"
      ]
    },
    {
      "cell_type": "code",
      "execution_count": null,
      "metadata": {
        "id": "w2x-lUbdi-T6",
        "outputId": "b06fe7d6-a527-4174-8ad6-35fbb73cea30",
        "colab": {
          "base_uri": "https://localhost:8080/"
        }
      },
      "outputs": [
        {
          "output_type": "execute_result",
          "data": {
            "text/plain": [
              "float"
            ]
          },
          "metadata": {},
          "execution_count": 13
        }
      ],
      "source": [
        "type(z)"
      ]
    },
    {
      "cell_type": "code",
      "execution_count": null,
      "metadata": {
        "id": "D5vNjCnki-T6"
      },
      "outputs": [],
      "source": [
        "x = \"2\""
      ]
    },
    {
      "cell_type": "code",
      "execution_count": null,
      "metadata": {
        "id": "PzhNMymWi-T6",
        "outputId": "5d0324e2-746c-459e-e358-e36a36883b92",
        "colab": {
          "base_uri": "https://localhost:8080/"
        }
      },
      "outputs": [
        {
          "output_type": "execute_result",
          "data": {
            "text/plain": [
              "str"
            ]
          },
          "metadata": {},
          "execution_count": 15
        }
      ],
      "source": [
        " ## Aunque es una un numero lo queremos trabajar como una cadena\n",
        "type(x)"
      ]
    },
    {
      "cell_type": "code",
      "execution_count": null,
      "metadata": {
        "id": "YsrGhoy6i-T7"
      },
      "outputs": [],
      "source": [
        "t = '5'"
      ]
    },
    {
      "cell_type": "code",
      "execution_count": null,
      "metadata": {
        "id": "2OvC7z9bi-T7",
        "outputId": "f8083b1c-cacf-4c38-a449-c99812d60226",
        "colab": {
          "base_uri": "https://localhost:8080/"
        }
      },
      "outputs": [
        {
          "output_type": "execute_result",
          "data": {
            "text/plain": [
              "str"
            ]
          },
          "metadata": {},
          "execution_count": 17
        }
      ],
      "source": [
        "type(t)"
      ]
    },
    {
      "cell_type": "markdown",
      "metadata": {
        "id": "2FQD-C3fi-T8"
      },
      "source": [
        "### Variables\n",
        "Una de las características más potentes de un lenguaje de programación es la\n",
        "capacidad de manipular variables. Una variable es un nombre que se refiere a un\n",
        "valor."
      ]
    },
    {
      "cell_type": "code",
      "execution_count": null,
      "metadata": {
        "id": "r5AG6_a-i-T8"
      },
      "outputs": [],
      "source": [
        "mensaje = \"Estamos aprendiendo Python\"\n",
        "n = 2021\n",
        "pi = 3.1415\n"
      ]
    },
    {
      "cell_type": "markdown",
      "metadata": {
        "id": "CCze0fjBi-T9"
      },
      "source": [
        "Este ejemplo hace tres asignaciones. La primera asigna una cadena a una variable\n",
        "nueva llamada mensaje; la segunda asigna el entero 2021 a n; la tercera asigna el\n",
        "valor (aproximado) de π a pi.\n",
        "Para mostrar el valor de una variable, se puede usar la sentencia print:\n"
      ]
    },
    {
      "cell_type": "code",
      "execution_count": null,
      "metadata": {
        "id": "stNEIy-Gi-T9",
        "outputId": "d8e3cdbf-167d-4e67-e3fc-3a51de431fe2",
        "colab": {
          "base_uri": "https://localhost:8080/"
        }
      },
      "outputs": [
        {
          "output_type": "stream",
          "name": "stdout",
          "text": [
            "Estamos aprendiendo Python\n",
            "2021\n",
            "3.1415\n"
          ]
        }
      ],
      "source": [
        "print(mensaje)\n",
        "print(n)\n",
        "print(pi)"
      ]
    },
    {
      "cell_type": "markdown",
      "metadata": {
        "id": "bgWj2Uzgi-T-"
      },
      "source": [
        "## Nombres de variables y palabras claves\n",
        "\n",
        "Los programadores generalmente eligen nombres para sus variables que tengan\n",
        "sentido y documentan para qué se usa esa variable.\n",
        "Los nombres de las variables pueden ser arbitrariamente largos. Pueden contener\n",
        "tanto letras como números, pero no pueden comenzar con un número. Se pueden\n",
        "usar letras mayúsculas, pero es buena idea comenzar los nombres de las variables\n",
        "con una letras minúscula."
      ]
    },
    {
      "cell_type": "code",
      "execution_count": null,
      "metadata": {
        "id": "gKEwQBW4i-T-",
        "outputId": "697efd5c-2e4d-4b78-bdbc-2424a813fd0c",
        "colab": {
          "base_uri": "https://localhost:8080/",
          "height": 132
        }
      },
      "outputs": [
        {
          "output_type": "error",
          "ename": "SyntaxError",
          "evalue": "ignored",
          "traceback": [
            "\u001b[0;36m  File \u001b[0;32m\"<ipython-input-20-7fa92066e6d3>\"\u001b[0;36m, line \u001b[0;32m1\u001b[0m\n\u001b[0;31m    79numero = 25\u001b[0m\n\u001b[0m           ^\u001b[0m\n\u001b[0;31mSyntaxError\u001b[0m\u001b[0;31m:\u001b[0m invalid syntax\n"
          ]
        }
      ],
      "source": [
        "79numero = 25"
      ]
    },
    {
      "cell_type": "code",
      "execution_count": null,
      "metadata": {
        "id": "ml5xxeadi-T-"
      },
      "outputs": [],
      "source": [
        "numero@ = 25"
      ]
    },
    {
      "cell_type": "code",
      "execution_count": null,
      "metadata": {
        "id": "clPXLCd9i-T-"
      },
      "outputs": [],
      "source": [
        "class = 25"
      ]
    },
    {
      "cell_type": "markdown",
      "metadata": {
        "id": "U8wk3qSfi-T_"
      },
      "source": [
        "Palabras resevadas\n",
        "\n",
        "<img src=\"palabras reservadas.JPG\" style=\"width:600px; height:200px;\">\n"
      ]
    },
    {
      "cell_type": "markdown",
      "metadata": {
        "id": "kI92mfjQi-T_"
      },
      "source": [
        "### Operadores y operandos\n",
        "Los operadores son símbolos especiales que representan cálculos, como la suma o\n",
        "la multiplicación. Los valores a los cuales se aplican esos operadores reciben el\n",
        "nombre de operandos.\n",
        "Los operadores +, -, , /, y \\* realizan sumas, restas, multiplicaciones, divisiones y\n",
        "exponenciación (elevar un número a una potencia), como se muestra en los ejemplos\n",
        "siguientes:\n"
      ]
    },
    {
      "cell_type": "code",
      "execution_count": null,
      "metadata": {
        "scrolled": false,
        "id": "cy1hihzSi-T_",
        "outputId": "b96208a2-2022-457c-8d43-75cb917b0ec5",
        "colab": {
          "base_uri": "https://localhost:8080/"
        }
      },
      "outputs": [
        {
          "output_type": "execute_result",
          "data": {
            "text/plain": [
              "70"
            ]
          },
          "metadata": {},
          "execution_count": 21
        }
      ],
      "source": [
        "20 + 50"
      ]
    },
    {
      "cell_type": "code",
      "execution_count": null,
      "metadata": {
        "id": "JB17tsq7i-T_"
      },
      "outputs": [],
      "source": [
        "x = 25"
      ]
    },
    {
      "cell_type": "code",
      "execution_count": null,
      "metadata": {
        "id": "wQDuNlABi-UA",
        "outputId": "2d583930-6e78-45ab-ce94-f8260129ec70",
        "colab": {
          "base_uri": "https://localhost:8080/"
        }
      },
      "outputs": [
        {
          "output_type": "stream",
          "name": "stdout",
          "text": [
            "25\n"
          ]
        }
      ],
      "source": [
        "print(x)"
      ]
    },
    {
      "cell_type": "code",
      "execution_count": null,
      "metadata": {
        "id": "uXksSzJ5i-UA",
        "outputId": "047d5fa0-81e5-4d9d-869b-5c5d8e95ae9d",
        "colab": {
          "base_uri": "https://localhost:8080/"
        }
      },
      "outputs": [
        {
          "output_type": "execute_result",
          "data": {
            "text/plain": [
              "51"
            ]
          },
          "metadata": {},
          "execution_count": 24
        }
      ],
      "source": [
        "2*x+1"
      ]
    },
    {
      "cell_type": "code",
      "execution_count": null,
      "metadata": {
        "id": "Ixtr8Bgci-UA",
        "outputId": "cc5e581b-cce2-4c32-d8be-237a95f35a2f",
        "colab": {
          "base_uri": "https://localhost:8080/"
        }
      },
      "outputs": [
        {
          "output_type": "execute_result",
          "data": {
            "text/plain": [
              "125"
            ]
          },
          "metadata": {},
          "execution_count": 25
        }
      ],
      "source": [
        "\n",
        "5**3"
      ]
    },
    {
      "cell_type": "code",
      "execution_count": null,
      "metadata": {
        "id": "H50mkYNHi-UA",
        "outputId": "77b95d4e-fb74-4531-e5b7-a4e2172dc2b4",
        "colab": {
          "base_uri": "https://localhost:8080/"
        }
      },
      "outputs": [
        {
          "output_type": "execute_result",
          "data": {
            "text/plain": [
              "112"
            ]
          },
          "metadata": {},
          "execution_count": 26
        }
      ],
      "source": [
        "(5+9)*(15-7)\n"
      ]
    },
    {
      "cell_type": "code",
      "execution_count": null,
      "metadata": {
        "id": "V9l8yPPVi-UA",
        "outputId": "581953ec-a2e5-4c1f-eeec-9ff4f2554d2b",
        "colab": {
          "base_uri": "https://localhost:8080/"
        }
      },
      "outputs": [
        {
          "output_type": "execute_result",
          "data": {
            "text/plain": [
              "2"
            ]
          },
          "metadata": {},
          "execution_count": 27
        }
      ],
      "source": [
        "5//2"
      ]
    },
    {
      "cell_type": "markdown",
      "metadata": {
        "id": "mFhBgCTFi-UB"
      },
      "source": [
        "### Expresiones\n",
        "Una expresión es una combinación de valores, variables y operadores. Un valor\n",
        "por si mismo se considera una expresión, y también lo es una variable, así que\n",
        "las siguientes expresiones son todas válidas (asumiendo que la variable x tenga un\n",
        "valor asignado):\n"
      ]
    },
    {
      "cell_type": "code",
      "execution_count": null,
      "metadata": {
        "id": "KGtAiUxgi-UB"
      },
      "outputs": [],
      "source": [
        "x = 2"
      ]
    },
    {
      "cell_type": "code",
      "execution_count": null,
      "metadata": {
        "scrolled": true,
        "id": "laMog3Q5i-UB"
      },
      "outputs": [],
      "source": [
        "z = x + 5"
      ]
    },
    {
      "cell_type": "code",
      "execution_count": null,
      "metadata": {
        "id": "dAqxSsOzi-UB"
      },
      "outputs": [],
      "source": [
        "c = 1+1"
      ]
    },
    {
      "cell_type": "code",
      "execution_count": null,
      "metadata": {
        "id": "dfDbpR7yi-UB",
        "outputId": "3108cc9c-1952-408e-e56f-8b4a802eb8d6",
        "colab": {
          "base_uri": "https://localhost:8080/"
        }
      },
      "outputs": [
        {
          "output_type": "stream",
          "name": "stdout",
          "text": [
            "2\n",
            "7\n",
            "2\n"
          ]
        }
      ],
      "source": [
        "print(x)\n",
        "print(z)\n",
        "print(c)"
      ]
    },
    {
      "cell_type": "markdown",
      "metadata": {
        "id": "WMWifEzpi-UC"
      },
      "source": [
        "### Operador módulo\n",
        "El operador módulo trabaja con enteros y obtiene el resto de la operación consistente en dividir el primer operando por el segundo. En Python, el operador módulo\n",
        "es un signo de porcentaje (%). La sintaxis es la misma que se usa para los demás\n",
        "operadores:\n"
      ]
    },
    {
      "cell_type": "code",
      "execution_count": null,
      "metadata": {
        "scrolled": true,
        "id": "N5jkMZuvi-UC",
        "outputId": "a58dd715-df70-4770-9f59-8ddbce643134",
        "colab": {
          "base_uri": "https://localhost:8080/"
        }
      },
      "outputs": [
        {
          "output_type": "execute_result",
          "data": {
            "text/plain": [
              "1"
            ]
          },
          "metadata": {},
          "execution_count": 32
        }
      ],
      "source": [
        "7%3"
      ]
    },
    {
      "cell_type": "code",
      "execution_count": null,
      "metadata": {
        "id": "-qQWBQoDi-UD",
        "outputId": "22c8e498-2b52-466b-8db3-e9f2f0fce990",
        "colab": {
          "base_uri": "https://localhost:8080/"
        }
      },
      "outputs": [
        {
          "output_type": "execute_result",
          "data": {
            "text/plain": [
              "50"
            ]
          },
          "metadata": {},
          "execution_count": 33
        }
      ],
      "source": [
        "1500%58"
      ]
    },
    {
      "cell_type": "markdown",
      "metadata": {
        "id": "GvExPd40i-UD"
      },
      "source": [
        "## Operaciones con cadenas\n",
        "El operador + funciona con las cadenas, pero no realiza una suma en el sentido\n",
        "matemático. En vez de eso, realiza una concatenación, que quiere decir que une\n",
        "ambas cadenas, enlazando el final de la primera con el principio de la segunda. Por\n",
        "ejemplo:\n"
      ]
    },
    {
      "cell_type": "code",
      "execution_count": null,
      "metadata": {
        "id": "4h_lJWewi-UE"
      },
      "outputs": [],
      "source": [
        "y = 2\n",
        "x = 3"
      ]
    },
    {
      "cell_type": "code",
      "execution_count": null,
      "metadata": {
        "id": "qzSDDVG8i-UE",
        "outputId": "0d0d9026-1235-48bc-e9ac-6a0c517842de",
        "colab": {
          "base_uri": "https://localhost:8080/"
        }
      },
      "outputs": [
        {
          "output_type": "execute_result",
          "data": {
            "text/plain": [
              "5"
            ]
          },
          "metadata": {},
          "execution_count": 35
        }
      ],
      "source": [
        "x+y"
      ]
    },
    {
      "cell_type": "code",
      "execution_count": null,
      "metadata": {
        "id": "dVcEE2zPi-UF"
      },
      "outputs": [],
      "source": [
        "x = \"en bit se imparte el curso\"\n",
        "y = \" ciencia de datos\""
      ]
    },
    {
      "cell_type": "code",
      "execution_count": null,
      "metadata": {
        "scrolled": false,
        "id": "0wr_mAMHi-UF",
        "outputId": "1dc97168-1eb0-4033-e940-8ea4b8cba47a",
        "colab": {
          "base_uri": "https://localhost:8080/",
          "height": 35
        }
      },
      "outputs": [
        {
          "output_type": "execute_result",
          "data": {
            "text/plain": [
              "'en bit se imparte el curso ciencia de datos'"
            ],
            "application/vnd.google.colaboratory.intrinsic+json": {
              "type": "string"
            }
          },
          "metadata": {},
          "execution_count": 37
        }
      ],
      "source": [
        "x + y "
      ]
    },
    {
      "cell_type": "code",
      "execution_count": null,
      "metadata": {
        "id": "uA-XA3F_i-UF"
      },
      "outputs": [],
      "source": [
        "x = \" bit\""
      ]
    },
    {
      "cell_type": "code",
      "execution_count": null,
      "metadata": {
        "id": "IxVioSHni-UG",
        "outputId": "4db5eda0-0e2c-46fb-daef-2ca7cb9d4168",
        "colab": {
          "base_uri": "https://localhost:8080/",
          "height": 35
        }
      },
      "outputs": [
        {
          "output_type": "execute_result",
          "data": {
            "text/plain": [
              "' bit bit bit'"
            ],
            "application/vnd.google.colaboratory.intrinsic+json": {
              "type": "string"
            }
          },
          "metadata": {},
          "execution_count": 39
        }
      ],
      "source": [
        "x*3"
      ]
    },
    {
      "cell_type": "markdown",
      "metadata": {
        "id": "flJGsZeqi-UG"
      },
      "source": [
        "## Petición de información al usuario \n",
        "\n",
        "A veces necesitaremos que sea el usuario quien nos proporcione el valor para una\n",
        "variable, a través del teclado. Python proporciona una función interna llamada\n",
        "input que recibe la entrada desde el teclado. Cuando se llama a esa función, el\n",
        "programa se detiene y espera a que el usuario escriba algo. Cuando el usuario\n",
        "pulsa Retorno o Intro, el programa continúa y input devuelve como una cadena\n",
        "aquello que el usuario escribió.\n"
      ]
    },
    {
      "cell_type": "code",
      "execution_count": null,
      "metadata": {
        "id": "IyvG87i3i-UH",
        "outputId": "f9be18ac-fec4-4ac9-be58-4527173f5298",
        "colab": {
          "base_uri": "https://localhost:8080/"
        }
      },
      "outputs": [
        {
          "name": "stdout",
          "output_type": "stream",
          "text": [
            "Cuanto es 5+10\n",
            "\n"
          ]
        }
      ],
      "source": [
        "x = input(\"Cuanto es 5+10\\n\")"
      ]
    },
    {
      "cell_type": "markdown",
      "metadata": {
        "id": "6GwOCQA6i-UH"
      },
      "source": [
        "### Expresiones booleanas\n",
        "Una expresión booleana es aquella que puede ser verdadera (True) o falsa (False).\n",
        "Los ejemplos siguientes usan el operador ==, que compara dos operandos y devuelve\n",
        "True si son iguales y False en caso contrario:"
      ]
    },
    {
      "cell_type": "code",
      "execution_count": null,
      "metadata": {
        "id": "gCzqDZili-UH",
        "outputId": "04bb65f1-8062-456e-d21c-d0a9f4227ee3",
        "colab": {
          "base_uri": "https://localhost:8080/"
        }
      },
      "outputs": [
        {
          "output_type": "execute_result",
          "data": {
            "text/plain": [
              "True"
            ]
          },
          "metadata": {},
          "execution_count": 41
        }
      ],
      "source": [
        "5 == 5"
      ]
    },
    {
      "cell_type": "code",
      "execution_count": null,
      "metadata": {
        "scrolled": true,
        "id": "6JSyNfJ8i-UI",
        "outputId": "5baa9cea-bda9-40e4-8bc7-1ba9a4935b01",
        "colab": {
          "base_uri": "https://localhost:8080/"
        }
      },
      "outputs": [
        {
          "output_type": "execute_result",
          "data": {
            "text/plain": [
              "False"
            ]
          },
          "metadata": {},
          "execution_count": 42
        }
      ],
      "source": [
        "5== 9"
      ]
    },
    {
      "cell_type": "code",
      "execution_count": null,
      "metadata": {
        "scrolled": true,
        "id": "9lfmW462i-UI",
        "outputId": "55ac6b2c-3885-47c8-9845-4aabf1077d94",
        "colab": {
          "base_uri": "https://localhost:8080/"
        }
      },
      "outputs": [
        {
          "output_type": "execute_result",
          "data": {
            "text/plain": [
              "True"
            ]
          },
          "metadata": {},
          "execution_count": 43
        }
      ],
      "source": [
        "\"Bogota\"== \"Bogota\""
      ]
    },
    {
      "cell_type": "code",
      "execution_count": null,
      "metadata": {
        "id": "0sDE2N37i-UJ",
        "outputId": "33e07a8a-3650-4358-a887-e509660e7b3b",
        "colab": {
          "base_uri": "https://localhost:8080/"
        }
      },
      "outputs": [
        {
          "output_type": "execute_result",
          "data": {
            "text/plain": [
              "False"
            ]
          },
          "metadata": {},
          "execution_count": 44
        }
      ],
      "source": [
        "\"Bogota\"== \"Bogot\""
      ]
    },
    {
      "cell_type": "markdown",
      "metadata": {
        "id": "n2_2Fa6gi-UJ"
      },
      "source": [
        "True y False son valores especiales que pertenecen al tipo bool (booleano); no\n",
        "son cadenas:"
      ]
    },
    {
      "cell_type": "code",
      "execution_count": null,
      "metadata": {
        "id": "qRANfiQ5i-UK",
        "outputId": "5c6e28ca-df6e-4aa0-d872-c421c9102afe",
        "colab": {
          "base_uri": "https://localhost:8080/"
        }
      },
      "outputs": [
        {
          "output_type": "execute_result",
          "data": {
            "text/plain": [
              "bool"
            ]
          },
          "metadata": {},
          "execution_count": 45
        }
      ],
      "source": [
        "type(True)\n"
      ]
    },
    {
      "cell_type": "code",
      "execution_count": null,
      "metadata": {
        "id": "pJumSlr5i-UK",
        "outputId": "0cefef92-e5c3-4faf-fa09-fb360f0bea9d",
        "colab": {
          "base_uri": "https://localhost:8080/"
        }
      },
      "outputs": [
        {
          "output_type": "execute_result",
          "data": {
            "text/plain": [
              "bool"
            ]
          },
          "metadata": {},
          "execution_count": 46
        }
      ],
      "source": [
        "\n",
        "type(False)"
      ]
    },
    {
      "cell_type": "markdown",
      "metadata": {
        "id": "46F0D7GTi-UL"
      },
      "source": [
        "El operador == es uno de los operadores de comparación; los demás son:\n",
        "\n",
        "<img src=\"comparativos.JPG\" style=\"width:600px; height:200px;\">"
      ]
    },
    {
      "cell_type": "code",
      "execution_count": null,
      "metadata": {
        "scrolled": true,
        "id": "XTJ_xkLSi-UL",
        "outputId": "377671ee-f55a-491e-fe8d-5ce17a711331",
        "colab": {
          "base_uri": "https://localhost:8080/"
        }
      },
      "outputs": [
        {
          "output_type": "execute_result",
          "data": {
            "text/plain": [
              "True"
            ]
          },
          "metadata": {},
          "execution_count": 47
        }
      ],
      "source": [
        "2!=3"
      ]
    },
    {
      "cell_type": "code",
      "execution_count": null,
      "metadata": {
        "id": "w0Ta9S8Ui-UL",
        "outputId": "789ac736-36f2-4faf-b4ba-21427800be2e",
        "colab": {
          "base_uri": "https://localhost:8080/"
        }
      },
      "outputs": [
        {
          "output_type": "execute_result",
          "data": {
            "text/plain": [
              "False"
            ]
          },
          "metadata": {},
          "execution_count": 48
        }
      ],
      "source": [
        "3<2"
      ]
    },
    {
      "cell_type": "markdown",
      "metadata": {
        "id": "KguCT2g0i-UM"
      },
      "source": [
        "###  Operadores lógicos\n",
        "Existen tres operadores lógicos: and (y), or (o), y not (no). El significado\n",
        "semántico de estas operaciones es similar a su significado en inglés. Por ejemplo,"
      ]
    },
    {
      "cell_type": "code",
      "execution_count": null,
      "metadata": {
        "id": "rtAa7aNmi-UM"
      },
      "outputs": [],
      "source": [
        "x = 5"
      ]
    },
    {
      "cell_type": "code",
      "execution_count": null,
      "metadata": {
        "id": "a6aKgZbHi-UN",
        "outputId": "dfe7a227-91c1-49c0-ec80-625c4b48e7e9",
        "colab": {
          "base_uri": "https://localhost:8080/"
        }
      },
      "outputs": [
        {
          "output_type": "execute_result",
          "data": {
            "text/plain": [
              "True"
            ]
          },
          "metadata": {},
          "execution_count": 50
        }
      ],
      "source": [
        "x>0 and x<10"
      ]
    },
    {
      "cell_type": "code",
      "execution_count": null,
      "metadata": {
        "id": "zO7UFzddi-UN",
        "outputId": "987371b4-f879-4bcb-8a2d-c0aa83162b27",
        "colab": {
          "base_uri": "https://localhost:8080/"
        }
      },
      "outputs": [
        {
          "output_type": "execute_result",
          "data": {
            "text/plain": [
              "True"
            ]
          },
          "metadata": {},
          "execution_count": 51
        }
      ],
      "source": [
        "x >0 or x <4"
      ]
    },
    {
      "cell_type": "code",
      "execution_count": null,
      "metadata": {
        "id": "3Lhhiz_ci-UN",
        "outputId": "acfc8209-fde2-4a85-b2a4-69e6d2919eaf",
        "colab": {
          "base_uri": "https://localhost:8080/"
        }
      },
      "outputs": [
        {
          "output_type": "execute_result",
          "data": {
            "text/plain": [
              "False"
            ]
          },
          "metadata": {},
          "execution_count": 52
        }
      ],
      "source": [
        "x = 11\n",
        "x>0 and x<10"
      ]
    },
    {
      "cell_type": "markdown",
      "metadata": {
        "id": "JL6iNl3Wi-UO"
      },
      "source": [
        "## Ejecución condicional\n",
        "Para poder escribir programas útiles, casi siempre vamos a necesitar la capacidad\n",
        "de comprobar condiciones y cambiar el comportamiento del programa de acuerdo a\n",
        "ellas. Las sentencias condicionales nos proporcionan esa capacidad. La forma\n",
        "más sencilla es la sentencia if:\n"
      ]
    },
    {
      "cell_type": "code",
      "execution_count": null,
      "metadata": {
        "id": "aWQWKLk2i-UO"
      },
      "outputs": [],
      "source": [
        "x = -2"
      ]
    },
    {
      "cell_type": "code",
      "execution_count": null,
      "metadata": {
        "scrolled": true,
        "id": "dPE7mLeii-UP"
      },
      "outputs": [],
      "source": [
        "if x >0:\n",
        "    print(\"x es positivo\")"
      ]
    },
    {
      "cell_type": "markdown",
      "metadata": {
        "id": "MKom8aNti-UP"
      },
      "source": [
        "La expresión booleana después de la sentencia if recibe el nombre de condición.\n",
        "La sentencia if se finaliza con un carácter de dos-puntos (:) y la(s) línea(s) que\n",
        "van detrás de la sentencia if van indentadas\n",
        "(es decir, llevan una tabulación o\n",
        "varios espacios en blanco al principio)."
      ]
    },
    {
      "cell_type": "markdown",
      "metadata": {
        "id": "z3kirqpBi-UP"
      },
      "source": [
        "### Ejecución alternativa\n",
        "La segunda forma de la sentencia if es la ejecución alternativa, en la cual existen\n",
        "dos posibilidades y la condición determina cual de ellas será ejecutada. La sintaxis\n",
        "es similar a ésta:\n"
      ]
    },
    {
      "cell_type": "code",
      "execution_count": null,
      "metadata": {
        "id": "qi_jJg7Si-UQ"
      },
      "outputs": [],
      "source": [
        "x = 15"
      ]
    },
    {
      "cell_type": "code",
      "execution_count": null,
      "metadata": {
        "id": "etqGiobLi-UQ",
        "outputId": "4660e8f7-54f2-4f99-d96c-dd4deefdb2b8",
        "colab": {
          "base_uri": "https://localhost:8080/"
        }
      },
      "outputs": [
        {
          "output_type": "stream",
          "name": "stdout",
          "text": [
            "x es numero impar\n"
          ]
        }
      ],
      "source": [
        "if x%2 == 0:\n",
        "    print(\" x es un numero par\")\n",
        "else :\n",
        "    print(\"x es numero impar\")\n"
      ]
    },
    {
      "cell_type": "markdown",
      "metadata": {
        "id": "surUl26pi-UR"
      },
      "source": [
        "### Condicionales encadenados\n",
        "Algunas veces hay más de dos posibilidades, de modo que necesitamos más de dos\n",
        "ramas. Una forma de expresar una operación como ésa es usar un condicional\n",
        "encadenado:"
      ]
    },
    {
      "cell_type": "code",
      "execution_count": null,
      "metadata": {
        "id": "kEA_bxisi-UR"
      },
      "outputs": [],
      "source": [
        "x = 5\n",
        "y = 5"
      ]
    },
    {
      "cell_type": "code",
      "execution_count": null,
      "metadata": {
        "id": "nywqd4vmi-UR",
        "outputId": "482638cf-6601-469c-bbe2-113f898dba0e",
        "colab": {
          "base_uri": "https://localhost:8080/"
        }
      },
      "outputs": [
        {
          "output_type": "stream",
          "name": "stdout",
          "text": [
            "x es igual a y\n"
          ]
        }
      ],
      "source": [
        "if x < y:\n",
        "    print(\"x es menor que y\")\n",
        "elif x > y:\n",
        "    print(\"x es mayor que y\")\n",
        "else:\n",
        "    print(\"x es igual a y\")\n"
      ]
    },
    {
      "cell_type": "markdown",
      "metadata": {
        "id": "yz2p090Ki-US"
      },
      "source": [
        "elif es una abreviatura para “else if”. En este caso también será ejecutada únicamente una de las ramas.\n",
        "No hay un límite para el número de sentencias elif. Si hay una clausula else,\n",
        "debe ir al final, pero tampoco es obligatorio que ésta exista"
      ]
    },
    {
      "cell_type": "markdown",
      "metadata": {
        "id": "6n1yYNi-i-US"
      },
      "source": [
        "## Condicionales anidados\n",
        "Un condicional puede también estar anidado dentro de otro. Podríamos haber\n",
        "escrito el ejemplo anterior de las tres ramas de este modo:"
      ]
    },
    {
      "cell_type": "code",
      "execution_count": null,
      "metadata": {
        "id": "pceO-YHOi-UT"
      },
      "outputs": [],
      "source": [
        "x = 5\n",
        "y = 7"
      ]
    },
    {
      "cell_type": "code",
      "execution_count": null,
      "metadata": {
        "id": "Baqiw69oi-UT",
        "outputId": "2ca6d7cc-7c67-4233-f52f-63d198ff3825",
        "colab": {
          "base_uri": "https://localhost:8080/"
        }
      },
      "outputs": [
        {
          "output_type": "stream",
          "name": "stdout",
          "text": [
            "x es menor que y\n"
          ]
        }
      ],
      "source": [
        "if x == y:\n",
        "    print(\" x e y son iguales\")\n",
        "else:\n",
        "    if x < y:\n",
        "        print(\"x es menor que y\")\n",
        "    else:\n",
        "        print(\"x es mayor que y\")"
      ]
    },
    {
      "cell_type": "markdown",
      "metadata": {
        "id": "XtVJ3ZUVi-UU"
      },
      "source": [
        "El condicional exterior contiene dos ramas. La primera rama ejecuta una sentencia\n",
        "simple. La segunda contiene otra sentencia if, que tiene a su vez sus propias dos\n",
        "ramas. Esas dos ramas son ambas sentencias simples, pero podrían haber sido\n",
        "sentencias condicionales también."
      ]
    },
    {
      "cell_type": "markdown",
      "metadata": {
        "id": "plSRAIiwi-UU"
      },
      "source": [
        "# Funciones\n",
        "\n",
        "### Llamadas a funciones\n",
        "En el contexto de la programación, una función es una secuencia de sentencias que\n",
        "realizan una operación y que reciben un nombre. Cuando se define una función, se\n",
        "especifica el nombre y la secuencia de sentencias. Más adelante, se puede “llamar”\n",
        "a la función por ese nombre. Ya hemos visto un ejemplo de una llamada a una\n",
        "función:"
      ]
    },
    {
      "cell_type": "code",
      "execution_count": null,
      "metadata": {
        "id": "5TRMDDSai-UU",
        "outputId": "31503713-4991-40b6-eb7f-3cac12e50ab9",
        "colab": {
          "base_uri": "https://localhost:8080/"
        }
      },
      "outputs": [
        {
          "output_type": "execute_result",
          "data": {
            "text/plain": [
              "int"
            ]
          },
          "metadata": {},
          "execution_count": 61
        }
      ],
      "source": [
        "type(2021)"
      ]
    },
    {
      "cell_type": "markdown",
      "metadata": {
        "id": "9SSA0Gxbi-UV"
      },
      "source": [
        "El nombre de la función es type. La expresión entre paréntesis recibe el nombre\n",
        "de argumento de la función. El argumento es un valor o variable que se pasa a la\n",
        "función como parámetro de entrada. El resultado de la función type es el tipo del\n",
        "argumento.\n",
        "Es habitual decir que una función “toma” (o recibe) un argumento y “retorna” (o\n",
        "devuelve) un resultado. El resultado se llama valor de retorno."
      ]
    },
    {
      "cell_type": "markdown",
      "metadata": {
        "id": "CYLkenN1i-UV"
      },
      "source": [
        "## Funciones internas\n",
        "Python proporciona un número importante de funciones internas, que pueden ser\n",
        "usadas sin necesidad de tener que definirlas previamente. Los creadores de Python\n",
        "han escrito un conjunto de funciones para resolver problemas comunes y las han\n",
        "incluido en Python para que las podamos utilizar.\n",
        "Las funciones max y min nos darán respectivamente el valor mayor y menor de una\n",
        "lista:\n"
      ]
    },
    {
      "cell_type": "code",
      "execution_count": null,
      "metadata": {
        "scrolled": true,
        "id": "7paGLGiii-UW",
        "outputId": "507a38d8-677c-4371-9419-6cff58f22227",
        "colab": {
          "base_uri": "https://localhost:8080/"
        }
      },
      "outputs": [
        {
          "output_type": "stream",
          "name": "stdout",
          "text": [
            "4\n",
            "1\n"
          ]
        }
      ],
      "source": [
        "x = [1,2,3,4]\n",
        "print(max(x))\n",
        "print(min(x))"
      ]
    },
    {
      "cell_type": "code",
      "execution_count": null,
      "metadata": {
        "id": "xPkUouixi-UW"
      },
      "outputs": [],
      "source": [
        "x = \"Hola mundo\""
      ]
    },
    {
      "cell_type": "code",
      "execution_count": null,
      "metadata": {
        "scrolled": true,
        "id": "WK-LONZji-UX",
        "outputId": "c6de059e-d680-49d6-852e-23e01c7ca190",
        "colab": {
          "base_uri": "https://localhost:8080/",
          "height": 35
        }
      },
      "outputs": [
        {
          "output_type": "execute_result",
          "data": {
            "text/plain": [
              "'u'"
            ],
            "application/vnd.google.colaboratory.intrinsic+json": {
              "type": "string"
            }
          },
          "metadata": {},
          "execution_count": 64
        }
      ],
      "source": [
        "max(x) "
      ]
    },
    {
      "cell_type": "code",
      "execution_count": null,
      "metadata": {
        "id": "S2V3KlFKi-UX",
        "outputId": "b22036c2-bba7-444f-d2c6-db205cbfc5be",
        "colab": {
          "base_uri": "https://localhost:8080/",
          "height": 35
        }
      },
      "outputs": [
        {
          "output_type": "execute_result",
          "data": {
            "text/plain": [
              "' '"
            ],
            "application/vnd.google.colaboratory.intrinsic+json": {
              "type": "string"
            }
          },
          "metadata": {},
          "execution_count": 65
        }
      ],
      "source": [
        "min(x) "
      ]
    },
    {
      "cell_type": "markdown",
      "metadata": {
        "id": "WmdH0gtei-UY"
      },
      "source": [
        "La función max nos dice cuál es el “carácter más grande” de la cadena (que resulta\n",
        "ser la letra “u”), mientras que la función min nos muestra el carácter más pequeño\n",
        "(que en ese caso es un espacio)."
      ]
    },
    {
      "cell_type": "code",
      "execution_count": null,
      "metadata": {
        "id": "VNU8ZEmVi-UY",
        "outputId": "1c1bbe1b-2336-4439-e618-9eb9ab93a4c6",
        "colab": {
          "base_uri": "https://localhost:8080/"
        }
      },
      "outputs": [
        {
          "output_type": "execute_result",
          "data": {
            "text/plain": [
              "10"
            ]
          },
          "metadata": {},
          "execution_count": 66
        }
      ],
      "source": [
        "len(x)"
      ]
    },
    {
      "cell_type": "markdown",
      "metadata": {
        "id": "6xwjrFmli-UZ"
      },
      "source": [
        "## Funciones de conversión de tipos\n",
        "Python también proporciona funciones internas que convierten valores de un tipo\n",
        "a otro. La función int toma cualquier valor y lo convierte en un entero, si puede,\n",
        "o se queja si no puede:\n"
      ]
    },
    {
      "cell_type": "code",
      "execution_count": null,
      "metadata": {
        "id": "ZEKM3j19i-UZ",
        "outputId": "08f2f45b-5276-49b0-ad28-94a0bdf44ce9",
        "colab": {
          "base_uri": "https://localhost:8080/"
        }
      },
      "outputs": [
        {
          "output_type": "stream",
          "name": "stdout",
          "text": [
            "<class 'str'>\n",
            "<class 'int'>\n"
          ]
        }
      ],
      "source": [
        "x = \"32\"\n",
        "print(type(x))\n",
        "x = int(x)\n",
        "print(type(x))\n",
        "\n"
      ]
    },
    {
      "cell_type": "code",
      "execution_count": null,
      "metadata": {
        "id": "ShtLAywJi-UZ",
        "outputId": "6495d92b-bf4f-4243-9e46-8488d0c04669",
        "colab": {
          "base_uri": "https://localhost:8080/"
        }
      },
      "outputs": [
        {
          "output_type": "stream",
          "name": "stdout",
          "text": [
            "5\n",
            "-2\n"
          ]
        }
      ],
      "source": [
        "print(int(5.222222222))\n",
        "print(int(-2.333333333))"
      ]
    },
    {
      "cell_type": "markdown",
      "metadata": {
        "id": "7Efdx6_0i-Ua"
      },
      "source": [
        "float convierte enteros y cadenas en números de punto flotante:"
      ]
    },
    {
      "cell_type": "code",
      "execution_count": null,
      "metadata": {
        "id": "d5n4ZFx-i-Ua",
        "outputId": "60701b7e-eeb5-49e5-894e-6a3ab63f8028",
        "colab": {
          "base_uri": "https://localhost:8080/"
        }
      },
      "outputs": [
        {
          "output_type": "stream",
          "name": "stdout",
          "text": [
            "<class 'int'>\n",
            "<class 'float'>\n",
            "32.0\n"
          ]
        }
      ],
      "source": [
        "y = 32\n",
        "print(type(y))\n",
        "y = float(y)\n",
        "print(type(y))\n",
        "print(y)"
      ]
    },
    {
      "cell_type": "markdown",
      "metadata": {
        "id": "JMOyBtjci-Ub"
      },
      "source": [
        "Finalmente, str convierte su argumento en una cadena:"
      ]
    },
    {
      "cell_type": "code",
      "execution_count": null,
      "metadata": {
        "scrolled": true,
        "id": "QcNZMWLhi-Uf",
        "outputId": "ed113569-996e-48f8-a893-f201a4046b95",
        "colab": {
          "base_uri": "https://localhost:8080/"
        }
      },
      "outputs": [
        {
          "output_type": "stream",
          "name": "stdout",
          "text": [
            "<class 'int'>\n",
            "2021\n",
            "<class 'str'>\n"
          ]
        }
      ],
      "source": [
        "x = 2021\n",
        "print(type(x))\n",
        "x = str(x)\n",
        "print(x)\n",
        "print(type(x))\n",
        "\n"
      ]
    },
    {
      "cell_type": "code",
      "execution_count": null,
      "metadata": {
        "id": "DvlvhAe9i-Ug",
        "outputId": "0c5f91db-8594-4e5b-ca2b-7036a425058f",
        "colab": {
          "base_uri": "https://localhost:8080/",
          "height": 35
        }
      },
      "outputs": [
        {
          "output_type": "execute_result",
          "data": {
            "text/plain": [
              "'2021'"
            ],
            "application/vnd.google.colaboratory.intrinsic+json": {
              "type": "string"
            }
          },
          "metadata": {},
          "execution_count": 71
        }
      ],
      "source": [
        "x"
      ]
    },
    {
      "cell_type": "markdown",
      "metadata": {
        "id": "t8n2kwT2i-Ug"
      },
      "source": [
        " ## Números aleatorios\n",
        "A partir de las mismas entradas, la mayoría de los programas generarán las mismas\n",
        "salidas cada vez, que es lo que llamamos comportamiento determinista. El determinismo normalmente es algo bueno, ya que esperamos que la misma operación nos\n",
        "proporcione siempre el mismo resultado. Para ciertas aplicaciones, sin embargo,\n",
        "se desea que el resultado sea impredecible. Los juegos son el ejemplo obvio, pero\n",
        "hay más.\n",
        "\n",
        "Conseguir que un programa sea realmente no-determinista no resulta tan fácil,\n",
        "pero hay modos de hacer que al menos lo parezca. Una de ellos es usar algoritmos que generen números pseudoaleatorios.\n"
      ]
    },
    {
      "cell_type": "code",
      "execution_count": null,
      "metadata": {
        "id": "81_vi48Ei-Uh",
        "outputId": "8d424578-ff14-4250-83d1-ee16bed6198e",
        "colab": {
          "base_uri": "https://localhost:8080/"
        }
      },
      "outputs": [
        {
          "output_type": "stream",
          "name": "stdout",
          "text": [
            "0\n",
            "1\n",
            "2\n",
            "3\n",
            "4\n",
            "5\n",
            "6\n",
            "7\n",
            "8\n",
            "9\n"
          ]
        }
      ],
      "source": [
        "for i in range(10):\n",
        "    print(i)"
      ]
    },
    {
      "cell_type": "code",
      "execution_count": null,
      "metadata": {
        "scrolled": true,
        "id": "lXrE7SGDi-Uh",
        "outputId": "85a0eb73-a6ee-4f20-eb98-1191fa090abd",
        "colab": {
          "base_uri": "https://localhost:8080/"
        }
      },
      "outputs": [
        {
          "output_type": "stream",
          "name": "stdout",
          "text": [
            "0.04449913515749737\n",
            "0.19629786010812145\n",
            "0.6664512737768502\n",
            "0.9250341557104838\n",
            "0.17211206325837536\n",
            "0.7883163586428852\n",
            "0.4791227995967945\n",
            "0.6079748046189174\n",
            "0.7665087035843742\n",
            "0.8190959429106207\n"
          ]
        }
      ],
      "source": [
        "import random\n",
        "for i in range(10):\n",
        "    x = random.random()\n",
        "    print(x)"
      ]
    },
    {
      "cell_type": "markdown",
      "metadata": {
        "id": "CwQC2lc4i-Ui"
      },
      "source": [
        "### Añadiendo funciones nuevas\n",
        "Hasta ahora, sólo hemos estado usando las funciones que vienen incorporadas en\n",
        "Python, pero es posible añadir también funciones nuevas. Una definición de función especifica el nombre de una función nueva y la secuencia de sentencias que se\n",
        "ejecutan cuando esa función es llamada. Una vez definida una función, se puede\n",
        "reutilizar una y otra vez a lo largo de todo el programa.\n"
      ]
    },
    {
      "cell_type": "code",
      "execution_count": null,
      "metadata": {
        "id": "V05ZECgOi-Uj"
      },
      "outputs": [],
      "source": [
        "def suma_numero (x,y,v,i):\n",
        "    z = x+y+v\n",
        "    return z"
      ]
    },
    {
      "cell_type": "code",
      "execution_count": null,
      "metadata": {
        "id": "OuoD8kD2i-Uj",
        "outputId": "cef40e0c-45b2-473c-96ad-333e32b30fc2",
        "colab": {
          "base_uri": "https://localhost:8080/"
        }
      },
      "outputs": [
        {
          "output_type": "execute_result",
          "data": {
            "text/plain": [
              "100"
            ]
          },
          "metadata": {},
          "execution_count": 75
        }
      ],
      "source": [
        "suma_numero(10,85,5,9)"
      ]
    },
    {
      "cell_type": "markdown",
      "metadata": {
        "id": "oqaGgaJni-Uj"
      },
      "source": [
        "def es una palabra clave que indica que se trata de una definición de función. El\n",
        "nombre de la función es suma_numeros. Las reglas para los nombres de las\n",
        "funciones son los mismos que para las variables: se pueden usar letras, números y\n",
        "algunos signos de puntuación, pero el primer carácter no puede ser un número. No\n",
        "se puede usar una palabra clave como nombre de una función, y se debería evitar\n",
        "también tener una variable y una función con el mismo nombre."
      ]
    },
    {
      "cell_type": "code",
      "execution_count": null,
      "metadata": {
        "id": "7y0bISBwi-Uk"
      },
      "outputs": [],
      "source": [
        "def ejemplo():\n",
        "    x = \"Estamos aprendiendo Python\"\n",
        "    y = \"Estamos viendo funciones\"\n",
        "    return x, y"
      ]
    },
    {
      "cell_type": "code",
      "execution_count": null,
      "metadata": {
        "id": "9dCVfp7Ri-Uk",
        "outputId": "c59cf016-2624-4ddf-f0b0-76e9e1679ff6",
        "colab": {
          "base_uri": "https://localhost:8080/"
        }
      },
      "outputs": [
        {
          "output_type": "execute_result",
          "data": {
            "text/plain": [
              "('Estamos aprendiendo Python', 'Estamos viendo funciones')"
            ]
          },
          "metadata": {},
          "execution_count": 77
        }
      ],
      "source": [
        "ejemplo()"
      ]
    },
    {
      "cell_type": "markdown",
      "metadata": {
        "id": "Sz2tA2JJi-Ul"
      },
      "source": [
        "# Iteración\n",
        "### Actualización de variables\n",
        "Uno de los usos habituales de las sentencias de asignación consiste en realizar una\n",
        "actualización sobre una variable – en la cual el valor nuevo de esa variable depende\n",
        "del antiguo.\n"
      ]
    },
    {
      "cell_type": "code",
      "execution_count": null,
      "metadata": {
        "id": "uOq1dqiBi-Ul"
      },
      "outputs": [],
      "source": [
        "x = 5"
      ]
    },
    {
      "cell_type": "code",
      "execution_count": null,
      "metadata": {
        "id": "4r5JeXwui-Um",
        "outputId": "5fc18bda-be7a-44fb-befe-86b60c746695",
        "colab": {
          "base_uri": "https://localhost:8080/"
        }
      },
      "outputs": [
        {
          "output_type": "stream",
          "name": "stdout",
          "text": [
            "5\n"
          ]
        }
      ],
      "source": [
        "print(x)"
      ]
    },
    {
      "cell_type": "code",
      "execution_count": null,
      "metadata": {
        "id": "TyrOktiGi-Um"
      },
      "outputs": [],
      "source": [
        "x = x+2"
      ]
    },
    {
      "cell_type": "code",
      "execution_count": null,
      "metadata": {
        "id": "EkufF-E6i-Um",
        "outputId": "c0fd1a0e-66f7-4431-a0bf-2a5b92e9804e",
        "colab": {
          "base_uri": "https://localhost:8080/"
        }
      },
      "outputs": [
        {
          "output_type": "stream",
          "name": "stdout",
          "text": [
            "7\n"
          ]
        }
      ],
      "source": [
        "print(x)"
      ]
    },
    {
      "cell_type": "markdown",
      "metadata": {
        "id": "6vqiN83Yi-Un"
      },
      "source": [
        "Esto quiere decir “‘toma el valor actual de x, añádele 2, y luego actualiza x con el\n",
        "nuevo valor”"
      ]
    },
    {
      "cell_type": "markdown",
      "metadata": {
        "id": "5v-ruk6zi-Un"
      },
      "source": [
        "### La sentencia while\n",
        "Los computadores se suelen utilizar a menudo para automatizar tareas repetitivas. Repetir\n",
        "tareas idénticas o muy similares sin cometer errores es algo que a las máquinas\n",
        "se les da bien y en cambio a las personas no. Como las iteraciones resultan tan habituales, Python proporciona varias características en su lenguaje para hacerlas\n",
        "más sencillas.\n",
        "Una forma de iteración en Python es la sentencia while. He aquí un programa\n",
        "sencillo que cuenta hacia atrás desde diez y luego dice  '¡Arranque!'"
      ]
    },
    {
      "cell_type": "code",
      "execution_count": null,
      "metadata": {
        "id": "fqKuqNfri-Un",
        "outputId": "b072cf72-5b7d-418d-acc6-ef2243eb66a1",
        "colab": {
          "base_uri": "https://localhost:8080/"
        }
      },
      "outputs": [
        {
          "output_type": "stream",
          "name": "stdout",
          "text": [
            "10\n",
            "9\n",
            "8\n",
            "7\n",
            "6\n",
            "5\n",
            "4\n",
            "3\n",
            "2\n",
            "1\n",
            "¡Arranque!\n"
          ]
        }
      ],
      "source": [
        "n = 10\n",
        "while n >0:\n",
        "    print(n)\n",
        "    n = n-1\n",
        "print(\"¡Arranque!\")\n"
      ]
    },
    {
      "cell_type": "markdown",
      "metadata": {
        "id": "pWUrq2aji-Uo"
      },
      "source": [
        "### Bucles infinitos\n",
        "A veces no se sabe si hay que terminar un bucle hasta que se ha recorrido la mitad\n",
        "del cuerpo del mismo. En ese caso se puede crear un bucle infinito a propósito y\n",
        "usar la sentencia break para salir fuera de él cuando se desee.\n"
      ]
    },
    {
      "cell_type": "code",
      "execution_count": null,
      "metadata": {
        "id": "YMDtXd6ei-Uo",
        "outputId": "597e666d-36dc-4ec0-e79e-bf9e1c37c8f1",
        "colab": {
          "base_uri": "https://localhost:8080/",
          "height": 35
        }
      },
      "outputs": [
        {
          "output_type": "execute_result",
          "data": {
            "text/plain": [
              "\"\\nn = 10\\nwhile True:\\n    print(n, end=' ')\\n    n = n - 1\\nprint('¡Terminado!')\\n\""
            ],
            "application/vnd.google.colaboratory.intrinsic+json": {
              "type": "string"
            }
          },
          "metadata": {},
          "execution_count": 83
        }
      ],
      "source": [
        "\"\"\"\n",
        "n = 10\n",
        "while True:\n",
        "    print(n, end=' ')\n",
        "    n = n - 1\n",
        "print('¡Terminado!')\n",
        "\"\"\""
      ]
    },
    {
      "cell_type": "code",
      "execution_count": null,
      "metadata": {
        "id": "KLQuNvRbi-Uo",
        "colab": {
          "base_uri": "https://localhost:8080/"
        },
        "outputId": "a78a4bc3-b5ef-4af8-b167-dc16411bbd09"
      },
      "outputs": [
        {
          "output_type": "stream",
          "name": "stdout",
          "text": [
            "> \n",
            "\n",
            "> \n",
            "\n",
            "> fin\n",
            "Terminado\n"
          ]
        }
      ],
      "source": [
        "while True:\n",
        "    linea = input(\"> \")\n",
        "    if linea == \"fin\":\n",
        "        break\n",
        "    print(linea)\n",
        "print(\"Terminado\")\n"
      ]
    },
    {
      "cell_type": "markdown",
      "metadata": {
        "id": "GQKdrbC4i-Up"
      },
      "source": [
        "### Finalizar iteraciones con continue\n",
        "Algunas veces, estando dentro de un bucle se necesita terminar con la iteración\n",
        "actual y saltar a la siguiente de forma inmediata. En ese caso se puede utilizar\n",
        "la sentencia continue para pasar a la siguiente iteración sin terminar la ejecución\n",
        "del cuerpo del bucle para la actual.\n",
        "A continuación se muestra un ejemplo de un bucle que repite lo que recibe como\n",
        "entrada hasta que el usuario escribe “fin”, pero trata las líneas que empiezan por el\n",
        "carácter almohadilla como líneas que no deben mostrarse en pantalla (algo parecido\n",
        "a lo que hace Python con los comentarios).\n"
      ]
    },
    {
      "cell_type": "code",
      "execution_count": null,
      "metadata": {
        "scrolled": true,
        "id": "ypDKogFJi-Up",
        "outputId": "bf127951-cc24-432f-ab63-845596a8a588",
        "colab": {
          "base_uri": "https://localhost:8080/"
        }
      },
      "outputs": [
        {
          "name": "stdout",
          "output_type": "stream",
          "text": [
            "> fin\n"
          ]
        }
      ],
      "source": [
        "while True:\n",
        "    linea = input(\"> \")\n",
        "    if linea[0] == \"#\":\n",
        "        continue\n",
        "    if linea == \"fin\":\n",
        "        break\n",
        "    print(linea)\n"
      ]
    },
    {
      "cell_type": "markdown",
      "metadata": {
        "id": "oP6qElsqi-Uq"
      },
      "source": [
        "### Bucles definidos usando for\n",
        "A veces se desea repetir un bucle a través de un conjunto de cosas, como una\n",
        "lista de palabras, las líneas de un archivo, o una lista de números. Cuando se tiene una lista de cosas para recorrer, se puede construir un bucle definido usando\n",
        "una sentencia for. A la sentencia while se la llama un bucle indefinido, porque\n",
        "simplemente se repite hasta que cierta condición se hace Falsa, mientras que el\n",
        "bucle for se repite a través de un conjunto conocido de elementos, de modo que\n",
        "ejecuta tantas iteraciones como elementos hay en el conjunto.\n",
        "La sintaxis de un bucle for es similar a la del bucle while, en ella hay una sentencia\n",
        "for y un cuerpo que se repite:\n"
      ]
    },
    {
      "cell_type": "code",
      "execution_count": null,
      "metadata": {
        "scrolled": true,
        "id": "Vw8ry4x2i-Uq",
        "outputId": "03ae079d-3b65-4659-bfd8-10e4f818473a",
        "colab": {
          "base_uri": "https://localhost:8080/"
        }
      },
      "outputs": [
        {
          "output_type": "stream",
          "name": "stdout",
          "text": [
            "Departamento Colombia: Cundinamarca\n",
            "Departamento Colombia: Vichada\n",
            "Departamento Colombia: Boyaca\n",
            "Departamento Colombia: Amazonas\n",
            "Departamento Colombia: Putumayo\n",
            "Departamento Colombia: Antioquia\n",
            "Departamento Colombia: Arauca\n",
            "Terminado\n"
          ]
        }
      ],
      "source": [
        "departamentos = [\"Cundinamarca\", \"Vichada\", \"Boyaca\", \"Amazonas\", \"Putumayo\", \"Antioquia\", \"Arauca\"]\n",
        "\n",
        "for depto in departamentos:\n",
        "    print(\"Departamento Colombia:\", depto)\n",
        "print(\"Terminado\")"
      ]
    },
    {
      "cell_type": "markdown",
      "metadata": {
        "id": "PNqy3zHdi-Ur"
      },
      "source": [
        "Por ejemplo, para contar el número de elementos en una lista, podemos escribir el\n",
        "siguiente bucle for:\n"
      ]
    },
    {
      "cell_type": "code",
      "execution_count": null,
      "metadata": {
        "id": "jt19LcR3i-Ur",
        "outputId": "8df37c89-706c-4e8e-e22a-91a6fa0fcc75",
        "colab": {
          "base_uri": "https://localhost:8080/"
        }
      },
      "outputs": [
        {
          "output_type": "stream",
          "name": "stdout",
          "text": [
            "Numero de elementos 7\n"
          ]
        }
      ],
      "source": [
        "contador = 0\n",
        "for valor in departamentos:\n",
        "    contador = contador + 1\n",
        "print(\"Numero de elementos\", contador)\n",
        "    \n"
      ]
    },
    {
      "cell_type": "markdown",
      "metadata": {
        "id": "R7tTJZNEi-Ur"
      },
      "source": [
        "Ajustamos la variable contador a cero antes de que el bucle comience, después\n",
        "escribimos un bucle for para movernos a través de la lista de números. Nuestra\n",
        "variable de iteración se llama valor, y dado que no usamos valor dentro del\n",
        "bucle, lo único que hace es controlar el bucle y hacer que el cuerpo del mismo sea\n",
        "ejecutado una vez para cada uno de los valores de la lista."
      ]
    },
    {
      "cell_type": "markdown",
      "metadata": {
        "id": "3Bh0UGg4i-Us"
      },
      "source": [
        "Otro bucle similar, que calcula el total de un conjunto de números, se muestra a\n",
        "continuación:\n"
      ]
    },
    {
      "cell_type": "code",
      "execution_count": null,
      "metadata": {
        "id": "ElkmbYihi-Us",
        "outputId": "088fb66d-15cb-49e5-941f-99b782f8f869",
        "colab": {
          "base_uri": "https://localhost:8080/"
        }
      },
      "outputs": [
        {
          "output_type": "stream",
          "name": "stdout",
          "text": [
            "total 50\n"
          ]
        }
      ],
      "source": [
        "total = 0\n",
        "for valor in [3,5,7,12,6,9,8]:\n",
        "    total = total + valor\n",
        "print(\"total\", total)\n",
        "\n"
      ]
    },
    {
      "cell_type": "markdown",
      "metadata": {
        "id": "5VLQMuSsi-Ut"
      },
      "source": [
        "# Cadenas\n",
        "\n",
        "Una cadena es una secuencia de caracteres. Puedes acceder a los caracteres de uno\n",
        "en uno con el operador corchete:\n"
      ]
    },
    {
      "cell_type": "code",
      "execution_count": null,
      "metadata": {
        "id": "UTyJnLBBi-Ut"
      },
      "outputs": [],
      "source": [
        "ciudad = \"Bogota\"\n",
        "letra1 = ciudad[0]"
      ]
    },
    {
      "cell_type": "code",
      "execution_count": null,
      "metadata": {
        "id": "QbTLG6PPi-Ut",
        "outputId": "7d8fcb83-0421-4118-a2e2-0f85bf9e2f69",
        "colab": {
          "base_uri": "https://localhost:8080/"
        }
      },
      "outputs": [
        {
          "output_type": "stream",
          "name": "stdout",
          "text": [
            "B\n"
          ]
        }
      ],
      "source": [
        "print(letra1)"
      ]
    },
    {
      "cell_type": "markdown",
      "metadata": {
        "id": "XPJKZEJli-Uu"
      },
      "source": [
        "La segunda sentencia extrae el carácter en la posición del indice 0 de la variable\n",
        "fruta y la asigna a la variable letra.\n",
        "La expresión en los corchetes es llamada índice. El índice indica qué carácter de\n",
        "la secuencia quieres (de ahí el nombre)."
      ]
    },
    {
      "cell_type": "markdown",
      "metadata": {
        "id": "pBX2-eoFi-Uu"
      },
      "source": [
        "#### Hasta aqui va lo que hay en el curso\n",
        "##  Obtener el tamaño de una cadena"
      ]
    },
    {
      "cell_type": "code",
      "execution_count": null,
      "metadata": {
        "id": "CbRTM9Hfi-Uu"
      },
      "outputs": [],
      "source": [
        "ciudad_2 = \"Amazonas\""
      ]
    },
    {
      "cell_type": "code",
      "execution_count": null,
      "metadata": {
        "id": "9nPmcyv7i-Uu"
      },
      "outputs": [],
      "source": [
        "tamano = len(ciudad_2)"
      ]
    },
    {
      "cell_type": "code",
      "execution_count": null,
      "metadata": {
        "id": "x9hYwDBYi-Uv",
        "outputId": "57652d60-b686-4dd3-89d9-7f5149ce4bb4",
        "colab": {
          "base_uri": "https://localhost:8080/"
        }
      },
      "outputs": [
        {
          "output_type": "stream",
          "name": "stdout",
          "text": [
            "8\n"
          ]
        }
      ],
      "source": [
        "print(tamano)"
      ]
    },
    {
      "cell_type": "code",
      "execution_count": null,
      "metadata": {
        "id": "oPFL7zQri-Uv",
        "outputId": "b48312ea-28dc-42b0-c09a-d64db727ac6b",
        "colab": {
          "base_uri": "https://localhost:8080/",
          "height": 35
        }
      },
      "outputs": [
        {
          "output_type": "execute_result",
          "data": {
            "text/plain": [
              "'s'"
            ],
            "application/vnd.google.colaboratory.intrinsic+json": {
              "type": "string"
            }
          },
          "metadata": {},
          "execution_count": 101
        }
      ],
      "source": [
        "ciudad_2[tamano-1]"
      ]
    },
    {
      "cell_type": "code",
      "execution_count": null,
      "metadata": {
        "id": "soLMjiDri-Uv",
        "outputId": "4510fee9-1551-419c-c526-2ff5e8f9813f",
        "colab": {
          "base_uri": "https://localhost:8080/",
          "height": 35
        }
      },
      "outputs": [
        {
          "output_type": "execute_result",
          "data": {
            "text/plain": [
              "'s'"
            ],
            "application/vnd.google.colaboratory.intrinsic+json": {
              "type": "string"
            }
          },
          "metadata": {},
          "execution_count": 102
        }
      ],
      "source": [
        "ciudad_2[-1]"
      ]
    },
    {
      "cell_type": "code",
      "execution_count": null,
      "metadata": {
        "id": "FWgP1eCpi-Uv",
        "outputId": "00cb1aae-cb50-401c-c4d2-032bdf4e380d",
        "colab": {
          "base_uri": "https://localhost:8080/",
          "height": 35
        }
      },
      "outputs": [
        {
          "output_type": "execute_result",
          "data": {
            "text/plain": [
              "'a'"
            ],
            "application/vnd.google.colaboratory.intrinsic+json": {
              "type": "string"
            }
          },
          "metadata": {},
          "execution_count": 103
        }
      ],
      "source": [
        "ciudad_2[-2]"
      ]
    },
    {
      "cell_type": "markdown",
      "metadata": {
        "id": "94eimNXGi-Uw"
      },
      "source": [
        "### Rebanado de cadenas\n",
        "Un segmento de una cadena es llamado rebanado. Seleccionar un rebanado es\n",
        "similar a seleccionar un carácter"
      ]
    },
    {
      "cell_type": "code",
      "execution_count": null,
      "metadata": {
        "id": "uUeKLQlyi-Uw",
        "outputId": "a2c706b3-fdf7-4b57-e7f3-bb2c43485d62",
        "colab": {
          "base_uri": "https://localhost:8080/"
        }
      },
      "outputs": [
        {
          "output_type": "stream",
          "name": "stdout",
          "text": [
            "Procesamiento de texto\n"
          ]
        }
      ],
      "source": [
        "cadena = \"Procesamiento de texto\"\n",
        "print(cadena[0:])"
      ]
    },
    {
      "cell_type": "markdown",
      "metadata": {
        "id": "YuC4sU-gi-Uw"
      },
      "source": [
        "El operador [n:m] retorna la parte de la cadena desde el “n-ésimo” carácter hasta\n",
        "el “m-ésimo” carácter, incluyendo el primero pero excluyendo el último.\n",
        "Si omites el primer índice (antes de los dos puntos), el rebanado comienza desde\n",
        "el inicio de la cadena. Si se omite el segundo índice, el rebanado va hasta el final de\n",
        "la cadena:\n"
      ]
    },
    {
      "cell_type": "code",
      "execution_count": null,
      "metadata": {
        "id": "PnEXWkodi-Uw",
        "outputId": "122c5fcf-29ca-43c3-91f2-9a32e3ff8ba6",
        "colab": {
          "base_uri": "https://localhost:8080/",
          "height": 35
        }
      },
      "outputs": [
        {
          "output_type": "execute_result",
          "data": {
            "text/plain": [
              "'Pro'"
            ],
            "application/vnd.google.colaboratory.intrinsic+json": {
              "type": "string"
            }
          },
          "metadata": {},
          "execution_count": 105
        }
      ],
      "source": [
        "cadena[:3]"
      ]
    },
    {
      "cell_type": "code",
      "execution_count": null,
      "metadata": {
        "id": "103uCUUIi-Uw",
        "outputId": "c243b850-3b19-466d-be54-f010cf564238",
        "colab": {
          "base_uri": "https://localhost:8080/",
          "height": 35
        }
      },
      "outputs": [
        {
          "output_type": "execute_result",
          "data": {
            "text/plain": [
              "'cesamiento de texto'"
            ],
            "application/vnd.google.colaboratory.intrinsic+json": {
              "type": "string"
            }
          },
          "metadata": {},
          "execution_count": 106
        }
      ],
      "source": [
        "cadena[3:]"
      ]
    },
    {
      "cell_type": "code",
      "execution_count": null,
      "metadata": {
        "id": "e38XcHz0i-Uw",
        "outputId": "d269a09a-8ea8-47a3-dcde-9eec84bbb628",
        "colab": {
          "base_uri": "https://localhost:8080/",
          "height": 35
        }
      },
      "outputs": [
        {
          "output_type": "execute_result",
          "data": {
            "text/plain": [
              "''"
            ],
            "application/vnd.google.colaboratory.intrinsic+json": {
              "type": "string"
            }
          },
          "metadata": {},
          "execution_count": 107
        }
      ],
      "source": [
        "cadena[3:3]"
      ]
    },
    {
      "cell_type": "code",
      "execution_count": null,
      "metadata": {
        "id": "rmVRuETRi-Ux",
        "outputId": "d8f08f29-edd9-479c-b82f-5c21fa1573c6",
        "colab": {
          "base_uri": "https://localhost:8080/",
          "height": 35
        }
      },
      "outputs": [
        {
          "output_type": "execute_result",
          "data": {
            "text/plain": [
              "'Procesamiento de texto'"
            ],
            "application/vnd.google.colaboratory.intrinsic+json": {
              "type": "string"
            }
          },
          "metadata": {},
          "execution_count": 108
        }
      ],
      "source": [
        "cadena[:]"
      ]
    },
    {
      "cell_type": "markdown",
      "metadata": {
        "id": "Cza7_J7Ji-Ux"
      },
      "source": [
        "### Los cadenas son inmutables\n",
        "Puede ser tentador utilizar el operador [] en el lado izquierdo de una asignación,\n",
        "con la intención de cambiar un carácter en una cadena. Por ejemplo:\n"
      ]
    },
    {
      "cell_type": "code",
      "execution_count": null,
      "metadata": {
        "id": "cbW_H1uUi-Ux",
        "outputId": "29844ec3-21ff-4020-80ab-7218b70177fc",
        "colab": {
          "base_uri": "https://localhost:8080/",
          "height": 167
        }
      },
      "outputs": [
        {
          "output_type": "error",
          "ename": "TypeError",
          "evalue": "ignored",
          "traceback": [
            "\u001b[0;31m---------------------------------------------------------------------------\u001b[0m",
            "\u001b[0;31mTypeError\u001b[0m                                 Traceback (most recent call last)",
            "\u001b[0;32m<ipython-input-109-32ad0f829027>\u001b[0m in \u001b[0;36m<module>\u001b[0;34m()\u001b[0m\n\u001b[0;32m----> 1\u001b[0;31m \u001b[0mcadena\u001b[0m\u001b[0;34m[\u001b[0m\u001b[0;36m0\u001b[0m\u001b[0;34m]\u001b[0m \u001b[0;34m=\u001b[0m \u001b[0;34m\"M\"\u001b[0m\u001b[0;34m\u001b[0m\u001b[0;34m\u001b[0m\u001b[0m\n\u001b[0m",
            "\u001b[0;31mTypeError\u001b[0m: 'str' object does not support item assignment"
          ]
        }
      ],
      "source": [
        "cadena[0] = \"M\""
      ]
    },
    {
      "cell_type": "markdown",
      "metadata": {
        "id": "AkmlouApi-Ux"
      },
      "source": [
        "El “objeto” en este caso es la cadena y el “ítem” es el carácter que tratamos de\n",
        "asignar. Por ahora, un objeto es la misma cosa que un valor. Un ítem es uno de los valores en una secuencia.\n",
        "La razón por la cual ocurre el error es que las cadenas son inmutables, lo cual\n",
        "significa que no se peude modificar una cadena existente. Lo mejor que se puede\n",
        "hacer es crear una nueva cadena que sea una variación de la original:\n"
      ]
    },
    {
      "cell_type": "code",
      "execution_count": null,
      "metadata": {
        "id": "tRHJ_KM4i-Uy",
        "outputId": "d73a7f63-beec-40d0-d698-889df3e9a44d",
        "colab": {
          "base_uri": "https://localhost:8080/"
        }
      },
      "outputs": [
        {
          "output_type": "stream",
          "name": "stdout",
          "text": [
            "Mrocesamiento de texto\n"
          ]
        }
      ],
      "source": [
        "cadena = \"Procesamiento de texto\"\n",
        "nueva_cadena = \"M\" + cadena[1:]\n",
        "print(nueva_cadena)"
      ]
    },
    {
      "cell_type": "markdown",
      "metadata": {
        "id": "AdW62DGwi-Uy"
      },
      "source": [
        "###  Analizando cadenas\n",
        "\n",
        "Frecuentemente, queremos examinar una cadena para encontrar una subcadena.\n",
        "Por ejemplo, si se nos presentaran una serie de líneas con el siguiente formato:\n",
        "\n",
        "From stephen.marquard@uandes.eud.co Sat Jan 5 09:14:16 2008\n",
        "\n",
        "From jason.marquard@uct.ac.za Sat Jan 5 09:14:16 2006\n",
        "\n",
        "y quisiéramos obtener únicamente la segunda parte de la dirección de correo (esto\n",
        "es, uct.ac.za) de cada línea, podemos hacer esto utilizando el método find y una\n",
        "parte de la cadena.\n",
        "\n",
        "Primero tenemos que encontrar la posición de la arroba en la cadena. Después,\n",
        "tenemos que encontrar la posición del primer espacio después de la arroba. Y\n",
        "después partiremos la cadena para extraer la porción de la cadena que estamos\n",
        "buscando."
      ]
    },
    {
      "cell_type": "code",
      "execution_count": null,
      "metadata": {
        "id": "eX-FkAXpi-Uy",
        "outputId": "6049fdea-18b7-4e6a-95ec-32436befd05c",
        "colab": {
          "base_uri": "https://localhost:8080/"
        }
      },
      "outputs": [
        {
          "output_type": "stream",
          "name": "stdout",
          "text": [
            "16\n"
          ]
        }
      ],
      "source": [
        "dato = \"stephen.marquard@uandes.edu.co Sat Jan 5 09:14:16 2008\"\n",
        "arrobapos = dato.find(\"@\")\n",
        "print(arrobapos)"
      ]
    },
    {
      "cell_type": "code",
      "execution_count": null,
      "metadata": {
        "id": "KbYzUBTli-Uy"
      },
      "outputs": [],
      "source": [
        "espos = dato.find(\" \", arrobapos)"
      ]
    },
    {
      "cell_type": "code",
      "execution_count": null,
      "metadata": {
        "id": "a4HHlQPBi-Uy",
        "outputId": "7d726c58-56ad-4eee-ccab-5ca7b1338a4c",
        "colab": {
          "base_uri": "https://localhost:8080/"
        }
      },
      "outputs": [
        {
          "output_type": "stream",
          "name": "stdout",
          "text": [
            "30\n"
          ]
        }
      ],
      "source": [
        "print(espos)"
      ]
    },
    {
      "cell_type": "code",
      "execution_count": null,
      "metadata": {
        "id": "ac6HexZai-Uz"
      },
      "outputs": [],
      "source": [
        "dominio = dato[arrobapos+1:espos]"
      ]
    },
    {
      "cell_type": "code",
      "execution_count": null,
      "metadata": {
        "id": "0uFsDao0i-Uz",
        "outputId": "b7778575-c6af-47a7-f1a0-ae3155c51d2c",
        "colab": {
          "base_uri": "https://localhost:8080/"
        }
      },
      "outputs": [
        {
          "output_type": "stream",
          "name": "stdout",
          "text": [
            "uandes.edu.co\n"
          ]
        }
      ],
      "source": [
        "print(dominio)"
      ]
    },
    {
      "cell_type": "markdown",
      "metadata": {
        "id": "VAx0D33vi-Uz"
      },
      "source": [
        "Utilizamos una versión del método find que nos permite especificar la posición en\n",
        "la cadena desde donde queremos que find comience a buscar. Cuando recortamos\n",
        "una parte de una cadena, extraemos los caracteres desde “uno después de la arroba\n",
        "hasta, pero no incluyendo, el carácter de espacio”."
      ]
    },
    {
      "cell_type": "markdown",
      "metadata": {
        "id": "ZceOdNV6i-Uz"
      },
      "source": [
        "###  El operador de formato\n",
        "\n",
        "El operador de formato % nos permite construir cadenas, reemplazando partes de\n",
        "las cadenas con datos almacenados en variables. Cuando lo aplicamos a enteros, %\n",
        "es el operador módulo. Pero cuando es aplicado a una cadena, % es el operador de\n",
        "formato.\n",
        "El primer operando es la cadena a formatear, la cual contiene una o más secuencias\n",
        "de formato que especifican cómo el segundo operando es formateado. El resultado\n",
        "es una cadena.\n",
        "Por ejemplo, la secuencia de formato %d significa que el segundo operando debería\n",
        "ser formateado como un numero (“d” significa “decimal”):"
      ]
    },
    {
      "cell_type": "code",
      "execution_count": null,
      "metadata": {
        "id": "XXRNtj5wi-Uz"
      },
      "outputs": [],
      "source": [
        "numero = 25"
      ]
    },
    {
      "cell_type": "code",
      "execution_count": null,
      "metadata": {
        "id": "DaxpWOCti-U0",
        "outputId": "dbf2df42-f6ae-4112-8cb0-88ae9030348c",
        "colab": {
          "base_uri": "https://localhost:8080/",
          "height": 35
        }
      },
      "outputs": [
        {
          "output_type": "execute_result",
          "data": {
            "text/plain": [
              "'25'"
            ],
            "application/vnd.google.colaboratory.intrinsic+json": {
              "type": "string"
            }
          },
          "metadata": {},
          "execution_count": 117
        }
      ],
      "source": [
        "\"%d\"% numero"
      ]
    },
    {
      "cell_type": "code",
      "execution_count": null,
      "metadata": {
        "id": "wMOiWkTpi-U0",
        "outputId": "03634c2f-4846-46b9-cc0f-4208c7b48bac",
        "colab": {
          "base_uri": "https://localhost:8080/",
          "height": 35
        }
      },
      "outputs": [
        {
          "output_type": "execute_result",
          "data": {
            "text/plain": [
              "'tengo 25 de reces en mi finca'"
            ],
            "application/vnd.google.colaboratory.intrinsic+json": {
              "type": "string"
            }
          },
          "metadata": {},
          "execution_count": 118
        }
      ],
      "source": [
        "\"tengo %d de reces en mi finca\" %numero"
      ]
    },
    {
      "cell_type": "markdown",
      "metadata": {
        "id": "1B0yWePAi-U0"
      },
      "source": [
        "Si hay más de una secuencia de formato en la cadena, el segundo argumento tiene\n",
        "que ser una tupla1\n",
        ". Cada secuencia de formato es relacionada con un elemento de\n",
        "la tupla, en orden.\n",
        "El siguiente ejemplo usa %d para formatear un entero, %g para formatear un número\n",
        "de punto flotante , y %s para formatear una cadena:\n"
      ]
    },
    {
      "cell_type": "code",
      "execution_count": null,
      "metadata": {
        "colab": {
          "base_uri": "https://localhost:8080/",
          "height": 35
        },
        "id": "F8R8BRrfi-U0",
        "outputId": "607844f2-e4d1-457b-f836-3b31b71d86cc"
      },
      "outputs": [
        {
          "output_type": "execute_result",
          "data": {
            "text/plain": [
              "'En 3 años de trabajo en New York se me han pagado 5.3  veces mas'"
            ],
            "application/vnd.google.colaboratory.intrinsic+json": {
              "type": "string"
            }
          },
          "metadata": {},
          "execution_count": 119
        }
      ],
      "source": [
        "\"En %d años de trabajo en New York se me han pagado %g  %s mas\" %(3,5.3,\"veces\")"
      ]
    },
    {
      "cell_type": "markdown",
      "metadata": {
        "id": "o_3PQx-li-U0"
      },
      "source": [
        "### Archivos\n",
        "\n",
        "Cuando queremos abrir o escribir un archivo (digamos, en el disco duro), primero\n",
        "debemos abrir el archivo. Al abrir el archivo nos comunicamos con el sistema\n",
        "operativo, el cual sabe dónde están almacenados los datos de cada archivo.\n",
        "Cuando abres un archivo, le estás pidiendo al sistema operativo que encuentre\n",
        "el archivo por su nombre y se asegure de que existe. En este ejemplo, abrimos\n",
        "el archivo mbox.txt, el cual debería estar almacenado en el mismo directorio en\n",
        "que estás localizado cuando inicias Python. "
      ]
    },
    {
      "cell_type": "code",
      "execution_count": null,
      "metadata": {
        "id": "1i-nNZDEi-U0",
        "outputId": "ec1a789f-6258-4ae6-b497-d740caf94e56",
        "colab": {
          "base_uri": "https://localhost:8080/"
        }
      },
      "outputs": [
        {
          "output_type": "stream",
          "name": "stdout",
          "text": [
            "<_io.TextIOWrapper name='mbox-short.txt' mode='r' encoding='UTF-8'>\n"
          ]
        }
      ],
      "source": [
        "manejador_archivo = open(\"mbox-short.txt\")\n",
        "print(manejador_archivo)\n"
      ]
    },
    {
      "cell_type": "code",
      "execution_count": null,
      "metadata": {
        "scrolled": true,
        "id": "DL4w5JsEi-U1",
        "outputId": "c4c6fc7a-bf0d-4771-df49-0a7b3733d5fb",
        "colab": {
          "base_uri": "https://localhost:8080/",
          "height": 185
        }
      },
      "outputs": [
        {
          "output_type": "error",
          "ename": "FileNotFoundError",
          "evalue": "ignored",
          "traceback": [
            "\u001b[0;31m---------------------------------------------------------------------------\u001b[0m",
            "\u001b[0;31mFileNotFoundError\u001b[0m                         Traceback (most recent call last)",
            "\u001b[0;32m<ipython-input-121-747d41b9e9c0>\u001b[0m in \u001b[0;36m<module>\u001b[0;34m()\u001b[0m\n\u001b[0;32m----> 1\u001b[0;31m \u001b[0mmanejador_archivo\u001b[0m \u001b[0;34m=\u001b[0m \u001b[0mopen\u001b[0m\u001b[0;34m(\u001b[0m\u001b[0;34m\"mbox-shortgggg.txt\"\u001b[0m\u001b[0;34m)\u001b[0m\u001b[0;34m\u001b[0m\u001b[0;34m\u001b[0m\u001b[0m\n\u001b[0m\u001b[1;32m      2\u001b[0m \u001b[0mprint\u001b[0m\u001b[0;34m(\u001b[0m\u001b[0mmanejador_archivo\u001b[0m\u001b[0;34m)\u001b[0m\u001b[0;34m\u001b[0m\u001b[0;34m\u001b[0m\u001b[0m\n",
            "\u001b[0;31mFileNotFoundError\u001b[0m: [Errno 2] No such file or directory: 'mbox-shortgggg.txt'"
          ]
        }
      ],
      "source": [
        "manejador_archivo = open(\"mbox-shortgggg.txt\")\n",
        "print(manejador_archivo)"
      ]
    },
    {
      "cell_type": "markdown",
      "metadata": {
        "id": "_0_ywdUni-U1"
      },
      "source": [
        "## Archivos de texto y líneas\n",
        "Un archivo de texto puede ser considerado como una secuencia de líneas, así como\n",
        "una cadena de Python puede ser considerada como una secuencia de caracteres.\n",
        "Por ejemplo, este es un ejemplo de un archivo de texto que registra la actividad\n",
        "de correos de varias personas en un equipo de desarrollo de un proyecto de código\n",
        "abierto (open source):"
      ]
    },
    {
      "cell_type": "code",
      "execution_count": null,
      "metadata": {
        "id": "RCphfWOZi-U1",
        "outputId": "83c05145-1f72-4da3-8f11-89c1bb0da5a4",
        "colab": {
          "base_uri": "https://localhost:8080/"
        }
      },
      "outputs": [
        {
          "output_type": "stream",
          "name": "stdout",
          "text": [
            "numero de lineas en el archivo 1910\n"
          ]
        }
      ],
      "source": [
        "man_archivo = open(\"mbox-short.txt\")\n",
        "contador = 0\n",
        "for linea in man_archivo:\n",
        "    contador = contador +1 \n",
        "print(\"numero de lineas en el archivo\", contador)"
      ]
    },
    {
      "cell_type": "markdown",
      "metadata": {
        "id": "gHkcSGbri-U1"
      },
      "source": [
        "La razón por la cual la función open no lee el archivo completo es porque el archivo\n",
        "puede ser muy grande, incluso con muchos gigabytes de datos. La sentencia open\n",
        "emplea la misma cantidad de tiempo sin importar el tamaño del archivo. De hecho,\n",
        "es el bucle for el que hace que los datos sean leídos desde el archivo"
      ]
    },
    {
      "cell_type": "code",
      "execution_count": null,
      "metadata": {
        "id": "uUpFGQuCi-U1",
        "outputId": "83e9f33c-f512-4b46-d9f2-032f73422e4e",
        "colab": {
          "base_uri": "https://localhost:8080/"
        }
      },
      "outputs": [
        {
          "output_type": "stream",
          "name": "stdout",
          "text": [
            "94626\n",
            "From stephen.marquard@uct.ac.za Sat Jan  5 09:14:16 2008\n",
            "Return-Path: <postmaste\n"
          ]
        }
      ],
      "source": [
        "manejador_archivo = open(\"mbox-short.txt\")\n",
        "lecture = manejador_archivo.read()\n",
        "print(len(lecture))\n",
        "print(lecture[:80])\n"
      ]
    },
    {
      "cell_type": "code",
      "execution_count": null,
      "metadata": {
        "id": "6CxSIsZ0i-U2",
        "outputId": "32f85079-c0bb-4965-c0d7-58db954d8656",
        "colab": {
          "base_uri": "https://localhost:8080/",
          "height": 35
        }
      },
      "outputs": [
        {
          "output_type": "execute_result",
          "data": {
            "text/plain": [
              "'hola mundo'"
            ],
            "application/vnd.google.colaboratory.intrinsic+json": {
              "type": "string"
            }
          },
          "metadata": {},
          "execution_count": 124
        }
      ],
      "source": [
        "variable = \"hola mundo    \"\n",
        "variable_2 = variable.rstrip()\n",
        "variable_2"
      ]
    },
    {
      "cell_type": "code",
      "execution_count": null,
      "metadata": {
        "scrolled": true,
        "id": "GkK4-elri-U2",
        "outputId": "8d967974-eb19-40a8-d360-a82502c2e708",
        "colab": {
          "base_uri": "https://localhost:8080/"
        }
      },
      "outputs": [
        {
          "output_type": "stream",
          "name": "stdout",
          "text": [
            "From: stephen.marquard@uct.ac.za\n",
            "From: louis@media.berkeley.edu\n",
            "From: zqian@umich.edu\n",
            "From: rjlowe@iupui.edu\n",
            "From: zqian@umich.edu\n",
            "From: rjlowe@iupui.edu\n",
            "From: cwen@iupui.edu\n",
            "From: cwen@iupui.edu\n",
            "From: gsilver@umich.edu\n",
            "From: gsilver@umich.edu\n",
            "From: zqian@umich.edu\n",
            "From: gsilver@umich.edu\n",
            "From: wagnermr@iupui.edu\n",
            "From: zqian@umich.edu\n",
            "From: antranig@caret.cam.ac.uk\n",
            "From: gopal.ramasammycook@gmail.com\n",
            "From: david.horwitz@uct.ac.za\n",
            "From: david.horwitz@uct.ac.za\n",
            "From: david.horwitz@uct.ac.za\n",
            "From: david.horwitz@uct.ac.za\n",
            "From: stephen.marquard@uct.ac.za\n",
            "From: louis@media.berkeley.edu\n",
            "From: louis@media.berkeley.edu\n",
            "From: ray@media.berkeley.edu\n",
            "From: cwen@iupui.edu\n",
            "From: cwen@iupui.edu\n",
            "From: cwen@iupui.edu\n"
          ]
        }
      ],
      "source": [
        "manejador_archivo = open(\"mbox-short.txt\")\n",
        "for linea in manejador_archivo:\n",
        "    linea = linea.rstrip()\n",
        "    if linea.startswith(\"From:\"):\n",
        "        print(linea)\n",
        "    "
      ]
    },
    {
      "cell_type": "code",
      "execution_count": null,
      "metadata": {
        "id": "edNjK-Uvi-U2",
        "outputId": "8aedfb8d-67d6-414f-d2a3-70bbd501aa3e",
        "colab": {
          "base_uri": "https://localhost:8080/"
        }
      },
      "outputs": [
        {
          "output_type": "stream",
          "name": "stdout",
          "text": [
            "21\n"
          ]
        }
      ],
      "source": [
        "var = \" Estamos hoy a 28 de enero\"\n",
        "print(var.find(\"enero\"))"
      ]
    },
    {
      "cell_type": "markdown",
      "metadata": {
        "id": "iCeNdsuei-U3"
      },
      "source": [
        "## Listas\n",
        "Así como una cadena, una lista es una secuencia de valores. En una cadena, los\n",
        "valores son caracteres; en una lista, pueden ser cualquier tipo. Los valores en una\n",
        "lista son llamados elementos o a veces ítems.\n",
        "\n",
        "Hay varias formas de crear una nueva lista; la más simple es encerrar los elementos\n",
        "en corchetes (“[\" y “]”):"
      ]
    },
    {
      "cell_type": "code",
      "execution_count": null,
      "metadata": {
        "id": "CFlyeARQi-U3"
      },
      "outputs": [],
      "source": [
        "lista_1 = [1,2,3]\n",
        "lista_2 = [\"Jorge\", \"Yesid\", \"María\"]"
      ]
    },
    {
      "cell_type": "code",
      "execution_count": null,
      "metadata": {
        "id": "_fDsWasRi-U3"
      },
      "outputs": [],
      "source": [
        "lista_3 = [1,2,3, \"Jorge\", \"Yesid\", \"María\"]"
      ]
    },
    {
      "cell_type": "code",
      "execution_count": null,
      "metadata": {
        "scrolled": true,
        "id": "fqXsjyj4i-U3",
        "outputId": "dd22c8f2-1c77-49ea-8da5-2f414c1887d2",
        "colab": {
          "base_uri": "https://localhost:8080/"
        }
      },
      "outputs": [
        {
          "output_type": "stream",
          "name": "stdout",
          "text": [
            "[1, 2, 3, 'Jorge', 'Yesid', 'María']\n"
          ]
        }
      ],
      "source": [
        "print(lista_3)"
      ]
    },
    {
      "cell_type": "code",
      "execution_count": null,
      "metadata": {
        "id": "S_PT-aTui-U4",
        "outputId": "6e4da37b-48bf-42a2-f4ee-d20e2ebe38eb",
        "colab": {
          "base_uri": "https://localhost:8080/"
        }
      },
      "outputs": [
        {
          "output_type": "execute_result",
          "data": {
            "text/plain": [
              "list"
            ]
          },
          "metadata": {},
          "execution_count": 130
        }
      ],
      "source": [
        "type(lista_3)"
      ]
    },
    {
      "cell_type": "markdown",
      "metadata": {
        "id": "8F1ijnoPi-U4"
      },
      "source": [
        "El primer ejemplo es una lista de 4 enteros. La segunda es una lista de tres cadenas.\n",
        "Los elementos de una lista no tienen que ser del mismo tipo. La siguiente lista\n",
        "contiene una cadena, un flotante, un entero:"
      ]
    },
    {
      "cell_type": "code",
      "execution_count": null,
      "metadata": {
        "id": "fECkzSEZi-U4"
      },
      "outputs": [],
      "source": [
        "lista_4 = [1,2,3,\"Jorge\", \"Yesid\", \"María\", [\"colombia\", 1,2,3] ]"
      ]
    },
    {
      "cell_type": "code",
      "execution_count": null,
      "metadata": {
        "id": "uR1CKojLi-U4",
        "outputId": "c4ae22c3-a8a8-4451-f6aa-d1ce8dbd1017",
        "colab": {
          "base_uri": "https://localhost:8080/"
        }
      },
      "outputs": [
        {
          "output_type": "execute_result",
          "data": {
            "text/plain": [
              "list"
            ]
          },
          "metadata": {},
          "execution_count": 132
        }
      ],
      "source": [
        "type(lista_4)"
      ]
    },
    {
      "cell_type": "markdown",
      "metadata": {
        "id": "UajH5OMei-U4"
      },
      "source": [
        "Una lista dentro de otra lista está anidada.\n",
        "\n",
        "### Las listas son mutables\n",
        "\n",
        "La sintaxis para accesar elementos de una lista es la misma que para accesar\n",
        "los caracteres de una cadena: el operador corchete. La expresión dentro de los\n",
        "corchetes especifíca el índice. Recordemos que los índices empiezan en 0:\n"
      ]
    },
    {
      "cell_type": "code",
      "execution_count": null,
      "metadata": {
        "id": "bulHi1Lii-U5",
        "outputId": "b36dadb5-648c-496a-9dec-3f5bd70f4674",
        "colab": {
          "base_uri": "https://localhost:8080/"
        }
      },
      "outputs": [
        {
          "output_type": "execute_result",
          "data": {
            "text/plain": [
              "2"
            ]
          },
          "metadata": {},
          "execution_count": 133
        }
      ],
      "source": [
        "lista_4[6][2]"
      ]
    },
    {
      "cell_type": "markdown",
      "metadata": {
        "id": "N1X9Xe6mi-U5"
      },
      "source": [
        "A diferencia de las cadenas, las listas son mutables porque pueden cambiar el\n",
        "orden de los elementos en una lista o reasignar un elemento en una lista. Cuando\n",
        "el operador corchete aparece en el lado izquierdo de una asignación, éste identifica\n",
        "el elemento de la lista que será asignado."
      ]
    },
    {
      "cell_type": "code",
      "execution_count": null,
      "metadata": {
        "id": "AXEzAerMi-U5"
      },
      "outputs": [],
      "source": [
        "numeros = [17, 123, 56]"
      ]
    },
    {
      "cell_type": "code",
      "execution_count": null,
      "metadata": {
        "id": "Fj3l358Vi-U5"
      },
      "outputs": [],
      "source": [
        "numeros[1] = 99999"
      ]
    },
    {
      "cell_type": "code",
      "execution_count": null,
      "metadata": {
        "id": "NH2BPO72i-U5",
        "outputId": "e427c020-b639-4ba8-8861-3b9d76a11b37",
        "colab": {
          "base_uri": "https://localhost:8080/"
        }
      },
      "outputs": [
        {
          "output_type": "stream",
          "name": "stdout",
          "text": [
            "[17, 99999, 56]\n"
          ]
        }
      ],
      "source": [
        "print(numeros)"
      ]
    },
    {
      "cell_type": "markdown",
      "metadata": {
        "id": "BndCxmlui-U5"
      },
      "source": [
        "Puedes pensar en una lista como una relación entre índices y elementos. Esta\n",
        "relación es llamada mapeo; cada índice “mapea a” uno de los elementos."
      ]
    },
    {
      "cell_type": "markdown",
      "metadata": {
        "id": "Q1ywd25Di-U6"
      },
      "source": [
        "### Recorriendo una lista\n",
        "\n",
        "La forma más común de recorrer los elementos de una lista es con un bucle for.\n",
        "La sintaxis es la misma que para las cadenas:"
      ]
    },
    {
      "cell_type": "code",
      "execution_count": null,
      "metadata": {
        "id": "VK9XmF5Li-U6"
      },
      "outputs": [],
      "source": [
        "#Se genera lista de paises\n",
        "paises = [\"Colombia\", \"Peru\", \"Venezuela\", \"Bolivia\"]"
      ]
    },
    {
      "cell_type": "code",
      "execution_count": null,
      "metadata": {
        "id": "ch9tlLEYi-U6",
        "outputId": "8c149358-f3aa-49cf-9865-2e76328ef1ab",
        "colab": {
          "base_uri": "https://localhost:8080/"
        }
      },
      "outputs": [
        {
          "output_type": "stream",
          "name": "stdout",
          "text": [
            "Colombia\n",
            "Peru\n",
            "Venezuela\n",
            "Bolivia\n"
          ]
        }
      ],
      "source": [
        "for pais in paises:\n",
        "    print(pais)"
      ]
    },
    {
      "cell_type": "markdown",
      "metadata": {
        "id": "buSdTbUxi-U6"
      },
      "source": [
        "Esto funciona bien si solamente necesitas leer los elementos de la lista. Pero si\n",
        "quieres escribir o actualizar los elementos, necesitas los índices. Una forma común\n",
        "de hacer eso es combinando las funciones range y len:\n"
      ]
    },
    {
      "cell_type": "code",
      "execution_count": null,
      "metadata": {
        "id": "T6SPFJ47i-U6",
        "outputId": "0cce1252-4377-4ca9-d7a1-b16efda045bb",
        "colab": {
          "base_uri": "https://localhost:8080/"
        }
      },
      "outputs": [
        {
          "output_type": "stream",
          "name": "stdout",
          "text": [
            "5\n"
          ]
        }
      ],
      "source": [
        "example = [1,2,3,4, \"Colombia\"]\n",
        "print(len(example))"
      ]
    },
    {
      "cell_type": "code",
      "execution_count": null,
      "metadata": {
        "scrolled": false,
        "id": "30xoJStQi-U7",
        "outputId": "7d5e1eae-6039-4b9e-d1a5-bf01250ab1bb",
        "colab": {
          "base_uri": "https://localhost:8080/"
        }
      },
      "outputs": [
        {
          "output_type": "stream",
          "name": "stdout",
          "text": [
            "0\n",
            "1\n",
            "2\n",
            "3\n",
            "4\n",
            "5\n",
            "6\n",
            "7\n"
          ]
        }
      ],
      "source": [
        "for i in range(8):\n",
        "    print(i)"
      ]
    },
    {
      "cell_type": "code",
      "execution_count": null,
      "metadata": {
        "id": "ruK8U1hBi-U7",
        "outputId": "bd4da2c8-0904-4fe6-aa0c-7fd2c65a3a96",
        "colab": {
          "base_uri": "https://localhost:8080/"
        }
      },
      "outputs": [
        {
          "output_type": "stream",
          "name": "stdout",
          "text": [
            "0\n",
            "1\n",
            "2\n",
            "3\n"
          ]
        }
      ],
      "source": [
        "for i in range(len(paises)):\n",
        "    print(i)"
      ]
    },
    {
      "cell_type": "code",
      "execution_count": null,
      "metadata": {
        "scrolled": true,
        "id": "QrLhYmN3i-U7",
        "outputId": "abc9352a-5620-453f-d126-337ed26d96ba",
        "colab": {
          "base_uri": "https://localhost:8080/"
        }
      },
      "outputs": [
        {
          "output_type": "stream",
          "name": "stdout",
          "text": [
            "['Colombia Es de sur America', 'Peru Es de sur America', 'Venezuela Es de sur America', 'Bolivia Es de sur America']\n"
          ]
        }
      ],
      "source": [
        "for i in range(len(paises)):\n",
        "    paises[i] = paises[i]+ \" Es de sur America\"\n",
        "print(paises)"
      ]
    },
    {
      "cell_type": "markdown",
      "metadata": {
        "id": "WDjc_Lh8i-U7"
      },
      "source": [
        "## Operaciones de listas\n",
        "\n",
        "El operador + concatena listas:"
      ]
    },
    {
      "cell_type": "code",
      "execution_count": null,
      "metadata": {
        "id": "Otp9tdEUi-U7"
      },
      "outputs": [],
      "source": [
        "lista_1 = [1,2,3]\n",
        "lista_2 = [\"Casa\", \"Carro\"]"
      ]
    },
    {
      "cell_type": "code",
      "execution_count": null,
      "metadata": {
        "id": "uQhLzG9mi-U8",
        "outputId": "637d6c81-732c-4e4a-9df3-307f8dfcde6b",
        "colab": {
          "base_uri": "https://localhost:8080/"
        }
      },
      "outputs": [
        {
          "output_type": "stream",
          "name": "stdout",
          "text": [
            "[1, 2, 3, 'Casa', 'Carro']\n"
          ]
        }
      ],
      "source": [
        "lista_3 = lista_1 + lista_2\n",
        "print(lista_3)"
      ]
    },
    {
      "cell_type": "markdown",
      "metadata": {
        "id": "YrMy6VMNi-U8"
      },
      "source": [
        "De igual forma, el operador * repite una lista un determinado número de veces:\n"
      ]
    },
    {
      "cell_type": "code",
      "execution_count": null,
      "metadata": {
        "id": "DHKTFOLJi-U8",
        "outputId": "8bf80a08-98f7-4576-8dd0-eb30abebabc2",
        "colab": {
          "base_uri": "https://localhost:8080/"
        }
      },
      "outputs": [
        {
          "output_type": "execute_result",
          "data": {
            "text/plain": [
              "[1, 2, 3, 1, 2, 3, 1, 2, 3]"
            ]
          },
          "metadata": {},
          "execution_count": 145
        }
      ],
      "source": [
        "lista_1*3"
      ]
    },
    {
      "cell_type": "markdown",
      "metadata": {
        "id": "NH2tegRji-U8"
      },
      "source": [
        "### Rebanado de listas"
      ]
    },
    {
      "cell_type": "code",
      "execution_count": null,
      "metadata": {
        "id": "tP4XeAs6i-U8",
        "outputId": "351c31cd-498b-4991-8ab1-c78e88631423",
        "colab": {
          "base_uri": "https://localhost:8080/"
        }
      },
      "outputs": [
        {
          "output_type": "execute_result",
          "data": {
            "text/plain": [
              "['b', 'c']"
            ]
          },
          "metadata": {},
          "execution_count": 146
        }
      ],
      "source": [
        "lista_4 = [\"a\", \"b\",\"c\", \"d\", \"e\", \"f\"]\n",
        "lista_4[1:3]"
      ]
    },
    {
      "cell_type": "code",
      "execution_count": null,
      "metadata": {
        "id": "kZNn8xBXi-U8",
        "outputId": "e2bad5b0-d1c0-4ac1-b1ea-53717d03b126",
        "colab": {
          "base_uri": "https://localhost:8080/"
        }
      },
      "outputs": [
        {
          "output_type": "execute_result",
          "data": {
            "text/plain": [
              "['d', 'e', 'f']"
            ]
          },
          "metadata": {},
          "execution_count": 147
        }
      ],
      "source": [
        "lista_4[3:]"
      ]
    },
    {
      "cell_type": "code",
      "execution_count": null,
      "metadata": {
        "id": "1BGuMRHJi-U9",
        "outputId": "5b169b3b-04c3-4563-e6ec-08fe32ce1576",
        "colab": {
          "base_uri": "https://localhost:8080/"
        }
      },
      "outputs": [
        {
          "output_type": "execute_result",
          "data": {
            "text/plain": [
              "['d', 'e', 'f']"
            ]
          },
          "metadata": {},
          "execution_count": 148
        }
      ],
      "source": [
        "lista_4[-3:]\n"
      ]
    },
    {
      "cell_type": "code",
      "execution_count": null,
      "metadata": {
        "scrolled": true,
        "id": "rL7tsxjei-U9",
        "outputId": "7a41f43e-7d75-4653-d23b-406c4df29595",
        "colab": {
          "base_uri": "https://localhost:8080/"
        }
      },
      "outputs": [
        {
          "output_type": "execute_result",
          "data": {
            "text/plain": [
              "['a', 'b', 'c', 'd', 'e', 'f']"
            ]
          },
          "metadata": {},
          "execution_count": 149
        }
      ],
      "source": [
        "lista_4[:]"
      ]
    },
    {
      "cell_type": "code",
      "execution_count": null,
      "metadata": {
        "id": "qesTmwvgi-U9",
        "outputId": "edd56569-7cdf-4b7d-f113-50b0f3212e1d",
        "colab": {
          "base_uri": "https://localhost:8080/"
        }
      },
      "outputs": [
        {
          "output_type": "execute_result",
          "data": {
            "text/plain": [
              "[]"
            ]
          },
          "metadata": {},
          "execution_count": 150
        }
      ],
      "source": [
        "lista_4[2:2]"
      ]
    },
    {
      "cell_type": "markdown",
      "metadata": {
        "id": "RJCb7075i-U9"
      },
      "source": [
        "### Métodos de listas\n",
        "Python provee métodos que operan en listas. Por ejemplo, append agrega un nuevo\n",
        "elemento al final de una lista:"
      ]
    },
    {
      "cell_type": "code",
      "execution_count": null,
      "metadata": {
        "id": "4LmBeIYQi-U9"
      },
      "outputs": [],
      "source": [
        "lista_5 = [\"a\", \"b\", \"c\"]\n",
        "lista_5.append(\"d\")"
      ]
    },
    {
      "cell_type": "code",
      "execution_count": null,
      "metadata": {
        "id": "uHXUCdlVi-U9",
        "outputId": "bd6cbf50-1b58-4561-ea8f-1fd75e170a0d",
        "colab": {
          "base_uri": "https://localhost:8080/"
        }
      },
      "outputs": [
        {
          "output_type": "stream",
          "name": "stdout",
          "text": [
            "['a', 'b', 'c', 'd']\n"
          ]
        }
      ],
      "source": [
        "print(lista_5)"
      ]
    },
    {
      "cell_type": "code",
      "execution_count": null,
      "metadata": {
        "id": "UxUE7uyNi-U-"
      },
      "outputs": [],
      "source": [
        "lista_6 = [\"a\", \"b\", \"c\"]\n",
        "lista_7 = [1,2]\n",
        "lista_6.extend(lista_7)"
      ]
    },
    {
      "cell_type": "code",
      "execution_count": null,
      "metadata": {
        "id": "KpfbT2fyi-U-",
        "outputId": "f84f924c-bf1e-42b8-a98e-3f11db5f178f",
        "colab": {
          "base_uri": "https://localhost:8080/"
        }
      },
      "outputs": [
        {
          "output_type": "execute_result",
          "data": {
            "text/plain": [
              "['a', 'b', 'c', 1, 2]"
            ]
          },
          "metadata": {},
          "execution_count": 154
        }
      ],
      "source": [
        "lista_6"
      ]
    },
    {
      "cell_type": "code",
      "execution_count": null,
      "metadata": {
        "id": "UUnVDht1i-U-",
        "outputId": "dcc40217-262b-4c97-ec21-d4c146456db7",
        "colab": {
          "base_uri": "https://localhost:8080/"
        }
      },
      "outputs": [
        {
          "output_type": "execute_result",
          "data": {
            "text/plain": [
              "[1, 2]"
            ]
          },
          "metadata": {},
          "execution_count": 155
        }
      ],
      "source": [
        "lista_7"
      ]
    },
    {
      "cell_type": "code",
      "execution_count": null,
      "metadata": {
        "id": "IqKlplJIi-U-"
      },
      "outputs": [],
      "source": [
        "lista_8 = [\"d\", \"e\", \"c\", \"b\", \"j\"]\n",
        "lista_8.sort(reverse = True)"
      ]
    },
    {
      "cell_type": "code",
      "execution_count": null,
      "metadata": {
        "id": "G-YiXnQMi-U-",
        "outputId": "180228d2-fb8a-40e1-a966-e484e60a2c87",
        "colab": {
          "base_uri": "https://localhost:8080/"
        }
      },
      "outputs": [
        {
          "output_type": "execute_result",
          "data": {
            "text/plain": [
              "['j', 'e', 'd', 'c', 'b']"
            ]
          },
          "metadata": {},
          "execution_count": 157
        }
      ],
      "source": [
        "lista_8"
      ]
    },
    {
      "cell_type": "markdown",
      "metadata": {
        "id": "pPRbLrKdi-U-"
      },
      "source": [
        "Hay varias formas de eliminar elementos de una lista. Si sabes el índice del elemento\n",
        "que quieres, puedes usar pop:"
      ]
    },
    {
      "cell_type": "code",
      "execution_count": null,
      "metadata": {
        "id": "-Aw5uIsFi-U-",
        "outputId": "75abee9b-19ce-47f3-ae1b-acde7cfc76b0",
        "colab": {
          "base_uri": "https://localhost:8080/"
        }
      },
      "outputs": [
        {
          "output_type": "execute_result",
          "data": {
            "text/plain": [
              "['a', 'c']"
            ]
          },
          "metadata": {},
          "execution_count": 158
        }
      ],
      "source": [
        "lista_9 = [\"a\", \"b\", \"c\"]\n",
        "lista_9.pop(1)\n",
        "lista_9"
      ]
    },
    {
      "cell_type": "code",
      "execution_count": null,
      "metadata": {
        "id": "bzpt9_x4i-U_",
        "outputId": "2c1751ac-a4fb-4ffe-e93a-87901ed0f8c9",
        "colab": {
          "base_uri": "https://localhost:8080/"
        }
      },
      "outputs": [
        {
          "output_type": "execute_result",
          "data": {
            "text/plain": [
              "['a', 'c']"
            ]
          },
          "metadata": {},
          "execution_count": 159
        }
      ],
      "source": [
        "lista_10 = [\"a\", \"b\", \"c\"]\n",
        "del lista_10[1]\n",
        "lista_10"
      ]
    },
    {
      "cell_type": "code",
      "execution_count": null,
      "metadata": {
        "id": "wD4X55zhi-U_",
        "outputId": "bd37204e-04e7-4f60-b969-3378e1afa30a",
        "colab": {
          "base_uri": "https://localhost:8080/"
        }
      },
      "outputs": [
        {
          "output_type": "stream",
          "name": "stdout",
          "text": [
            "['a', 'b', 'c', 'jota']\n",
            "['a', 'b', 'c']\n"
          ]
        }
      ],
      "source": [
        "#Si conocemos  elemento que se quiere  remover (pero no conocemos el índice), se puede usar remove\n",
        "lista_11 = [\"a\", \"b\", \"c\", \"jota\"]\n",
        "print(lista_11)\n",
        "lista_11.remove(\"jota\")\n",
        "print(lista_11)"
      ]
    },
    {
      "cell_type": "code",
      "execution_count": null,
      "metadata": {
        "id": "wk8UH0L8i-U_",
        "outputId": "b7b6d9c5-37e9-4048-ec27-5a7992383b57",
        "colab": {
          "base_uri": "https://localhost:8080/"
        }
      },
      "outputs": [
        {
          "output_type": "stream",
          "name": "stdout",
          "text": [
            "['a', 'e', 'f']\n"
          ]
        }
      ],
      "source": [
        "lista_12 = [\"a\", \"b\", \"c\", \"d\", \"e\", \"f\"]\n",
        "del lista_12[1:4]\n",
        "print(lista_12)"
      ]
    },
    {
      "cell_type": "markdown",
      "metadata": {
        "id": "ClQ7HL9vi-U_"
      },
      "source": [
        "## Listas y funciones\n",
        "\n",
        "Hay un cierto número funciones internas que pueden ser utilizadas en las listas que\n",
        "te permiten mirar rápidamente a través de una lista sin escribir tus propios bucles:"
      ]
    },
    {
      "cell_type": "code",
      "execution_count": null,
      "metadata": {
        "id": "8RAu-UYPi-U_",
        "outputId": "c5d88ee6-9cfa-4793-b49d-c27f4d2dbd64",
        "colab": {
          "base_uri": "https://localhost:8080/"
        }
      },
      "outputs": [
        {
          "output_type": "stream",
          "name": "stdout",
          "text": [
            "8\n"
          ]
        }
      ],
      "source": [
        "numeros =[1,2,5,6,9,3,6,5]\n",
        "print(len(numeros))\n"
      ]
    },
    {
      "cell_type": "code",
      "execution_count": null,
      "metadata": {
        "id": "Y487c5xVi-U_",
        "outputId": "68cbea3c-0cd7-4a6e-cacf-645b608426a9",
        "colab": {
          "base_uri": "https://localhost:8080/"
        }
      },
      "outputs": [
        {
          "output_type": "stream",
          "name": "stdout",
          "text": [
            "9\n"
          ]
        }
      ],
      "source": [
        "print(max(numeros))\n"
      ]
    },
    {
      "cell_type": "code",
      "execution_count": null,
      "metadata": {
        "id": "qIKZUe3vi-VA",
        "outputId": "88fa9449-e1e5-47ba-c706-674698941525",
        "colab": {
          "base_uri": "https://localhost:8080/"
        }
      },
      "outputs": [
        {
          "output_type": "stream",
          "name": "stdout",
          "text": [
            "1\n"
          ]
        }
      ],
      "source": [
        "print(min(numeros))\n"
      ]
    },
    {
      "cell_type": "code",
      "execution_count": null,
      "metadata": {
        "id": "tQdT4-q-i-VA",
        "outputId": "d3111660-91d4-40dd-ecd4-672542005d9a",
        "colab": {
          "base_uri": "https://localhost:8080/"
        }
      },
      "outputs": [
        {
          "output_type": "stream",
          "name": "stdout",
          "text": [
            "37\n"
          ]
        }
      ],
      "source": [
        "print(sum(numeros))"
      ]
    },
    {
      "cell_type": "code",
      "execution_count": null,
      "metadata": {
        "scrolled": true,
        "id": "p5fmRxsvi-VA",
        "outputId": "9d61207b-ba2a-4d40-8cf5-094e8019271d",
        "colab": {
          "base_uri": "https://localhost:8080/"
        }
      },
      "outputs": [
        {
          "output_type": "stream",
          "name": "stdout",
          "text": [
            "4.625\n"
          ]
        }
      ],
      "source": [
        "print(sum(numeros)/len(numeros))"
      ]
    },
    {
      "cell_type": "markdown",
      "metadata": {
        "id": "5a-eQKtMi-VA"
      },
      "source": [
        "### Listas y cadenas\n",
        "\n",
        "Una cadena es una secuencia de caracteres y una lista es una secuencia de valores,\n",
        "pero una lista de caracteres no es lo mismo que una cadena. Para convertir una\n",
        "cadena en una lista de caracteres, puedes usar list:\n"
      ]
    },
    {
      "cell_type": "code",
      "execution_count": null,
      "metadata": {
        "id": "Op0N9Irvi-VA",
        "outputId": "edf73db8-f83a-4b70-955f-a54bb0948e97",
        "colab": {
          "base_uri": "https://localhost:8080/"
        }
      },
      "outputs": [
        {
          "output_type": "stream",
          "name": "stdout",
          "text": [
            "['S', 'p', 'a', 'm']\n"
          ]
        }
      ],
      "source": [
        "s = \"Spam\"\n",
        "l = list(s)\n",
        "print(l)"
      ]
    },
    {
      "cell_type": "code",
      "execution_count": null,
      "metadata": {
        "scrolled": true,
        "id": "Dq1Q7b8qi-VA",
        "outputId": "8a150796-9e11-43ea-e139-3b850e3bc3a6",
        "colab": {
          "base_uri": "https://localhost:8080/"
        }
      },
      "outputs": [
        {
          "output_type": "stream",
          "name": "stdout",
          "text": [
            "['Estamos', 'aprendiendo', 'Machine', 'Learning']\n"
          ]
        }
      ],
      "source": [
        "s = \"Estamos aprendiendo Machine Learning\"\n",
        "l = s.split()\n",
        "print(l)"
      ]
    },
    {
      "cell_type": "code",
      "execution_count": null,
      "metadata": {
        "id": "PRzWfr86i-VA",
        "outputId": "b3b61431-4740-4696-903c-896021ecaf60",
        "colab": {
          "base_uri": "https://localhost:8080/"
        }
      },
      "outputs": [
        {
          "output_type": "stream",
          "name": "stdout",
          "text": [
            "['Estamos', 'aprendiendo', 'Machine', 'Learning']\n"
          ]
        }
      ],
      "source": [
        "s = \"Estamos-aprendiendo-Machine-Learning\"\n",
        "l = s.split(\"-\")\n",
        "print(l)"
      ]
    },
    {
      "cell_type": "markdown",
      "metadata": {
        "id": "kh_cOw88i-VB"
      },
      "source": [
        "join es el inverso de split. Este toma una lista de cadenas y concatena los\n",
        "elementos. join es un método de cadenas, así que tienes que invocarlo en el\n",
        "delimitador y pasar la lista como un parámetro:\n"
      ]
    },
    {
      "cell_type": "code",
      "execution_count": null,
      "metadata": {
        "id": "KhxE9leXi-VB",
        "outputId": "fa45a28a-7b1e-457b-ddf7-96c040fabcd6",
        "colab": {
          "base_uri": "https://localhost:8080/",
          "height": 35
        }
      },
      "outputs": [
        {
          "output_type": "execute_result",
          "data": {
            "text/plain": [
              "'Estamos aprendiendo Machine Learning 2021'"
            ],
            "application/vnd.google.colaboratory.intrinsic+json": {
              "type": "string"
            }
          },
          "metadata": {},
          "execution_count": 170
        }
      ],
      "source": [
        "l = ['Estamos', 'aprendiendo', 'Machine', 'Learning', \"2021\"]\n",
        "delimitador = \" \"\n",
        "delimitador.join(l)"
      ]
    },
    {
      "cell_type": "markdown",
      "metadata": {
        "id": "j-o-I1mFi-VB"
      },
      "source": [
        "### Diccionarios\n",
        "Un diccionario es como una lista, pero más general. En una lista, los índices de\n",
        "posiciones tienen que ser enteros; en un diccionario, los índices pueden ser (casi)\n",
        "cualquier tipo.\n",
        "Puedes pensar en un diccionario como una asociación entre un conjunto de índices\n",
        "(que son llamados claves) y un conjunto de valores. Cada clave apunta a un valor.\n",
        "La asociación de una clave y un valor es llamada par clave-valor o a veces elemento.\n",
        "Como ejemplo, vamos a construir un diccionario que asocia palabras de Inglés a\n",
        "Español, así que todas las claves y los valores son cadenas.\n",
        "\n"
      ]
    },
    {
      "cell_type": "code",
      "execution_count": null,
      "metadata": {
        "scrolled": true,
        "id": "8RLxT-j5i-VB",
        "outputId": "059bc5a6-daf5-4c53-f943-877d91b5d9f0",
        "colab": {
          "base_uri": "https://localhost:8080/"
        }
      },
      "outputs": [
        {
          "output_type": "stream",
          "name": "stdout",
          "text": [
            "{}\n"
          ]
        }
      ],
      "source": [
        "eng2sp = dict()\n",
        "print(eng2sp)"
      ]
    },
    {
      "cell_type": "markdown",
      "metadata": {
        "id": "USkVPMo7i-VB"
      },
      "source": [
        "Las llaves, {}, representan un diccionario vacío. Para agregar elementos a un\n",
        "diccionario, puedes utilizar corchetes:"
      ]
    },
    {
      "cell_type": "code",
      "execution_count": null,
      "metadata": {
        "id": "sFYAxgkdi-VC"
      },
      "outputs": [],
      "source": [
        "eng2sp[\"one\"] = \"uno\""
      ]
    },
    {
      "cell_type": "markdown",
      "metadata": {
        "id": "GGm7KXvei-VC"
      },
      "source": [
        "Esta línea crea un elemento asociando a la clave 'one' el valor “uno”. Si imprimimos el diccionario de nuevo, vamos a ver un par clave-valor con dos puntos entre\n",
        "la clave y el valor:\n"
      ]
    },
    {
      "cell_type": "code",
      "execution_count": null,
      "metadata": {
        "id": "UvJkUpzvi-VC",
        "outputId": "f9bea5ae-5732-4f64-a8a4-e962e08ccdbc",
        "colab": {
          "base_uri": "https://localhost:8080/"
        }
      },
      "outputs": [
        {
          "output_type": "stream",
          "name": "stdout",
          "text": [
            "{'one': 'uno'}\n"
          ]
        }
      ],
      "source": [
        "print(eng2sp)"
      ]
    },
    {
      "cell_type": "code",
      "execution_count": null,
      "metadata": {
        "id": "9CuYnlz8i-VD",
        "outputId": "0887d79c-dac7-40da-fb23-d038ae3fdeed",
        "colab": {
          "base_uri": "https://localhost:8080/"
        }
      },
      "outputs": [
        {
          "output_type": "stream",
          "name": "stdout",
          "text": [
            "{'one': 'uno', 'two': 'dos', 'three': 'tres'}\n"
          ]
        }
      ],
      "source": [
        "eng = {\"one\":\"uno\", \"two\":\"dos\", \"three\": \"tres\"}\n",
        "print(eng)"
      ]
    },
    {
      "cell_type": "markdown",
      "metadata": {
        "id": "iyWWsZrRi-VD"
      },
      "source": [
        "El orden de los pares clave-elemento no es el mismo. De hecho, si tu escribes este\n",
        "mismo ejemplo en tu computadora, podrías obtener un resultado diferente. En\n",
        "general, el orden de los elementos en un diccionario es impredecible.\n",
        "Pero ese no es un problema porque los elementos de un diccionario nunca son\n",
        "indexados con índices enteros. En vez de eso, utilizas las claves para encontrar los\n",
        "valores correspondientes:"
      ]
    },
    {
      "cell_type": "code",
      "execution_count": null,
      "metadata": {
        "id": "6Fx99Pu_i-VD",
        "outputId": "4e5a0b38-2c55-4ec9-d7be-909b8c6d21bc",
        "colab": {
          "base_uri": "https://localhost:8080/"
        }
      },
      "outputs": [
        {
          "output_type": "stream",
          "name": "stdout",
          "text": [
            "dos\n"
          ]
        }
      ],
      "source": [
        "print(eng[\"two\"])\n"
      ]
    },
    {
      "cell_type": "code",
      "execution_count": null,
      "metadata": {
        "id": "Ex3Je31Ri-VD",
        "outputId": "a99dd0a5-6b5c-486f-f8fa-d0eddcb411e8",
        "colab": {
          "base_uri": "https://localhost:8080/"
        }
      },
      "outputs": [
        {
          "output_type": "stream",
          "name": "stdout",
          "text": [
            "dos\n"
          ]
        }
      ],
      "source": [
        "print(eng.get(\"two\"))"
      ]
    },
    {
      "cell_type": "code",
      "execution_count": null,
      "metadata": {
        "id": "CIQ9ke0qi-VD",
        "outputId": "88e46d0e-8fc6-4ea6-c057-757851974b06",
        "colab": {
          "base_uri": "https://localhost:8080/"
        }
      },
      "outputs": [
        {
          "output_type": "execute_result",
          "data": {
            "text/plain": [
              "3"
            ]
          },
          "metadata": {},
          "execution_count": 177
        }
      ],
      "source": [
        "\n",
        "len(eng)"
      ]
    },
    {
      "cell_type": "markdown",
      "metadata": {
        "id": "UarOHYCEi-VE"
      },
      "source": [
        "El operador in funciona en diccionarios; éste te dice si algo aparece como una clave\n",
        "en el diccionario (aparecer como valor no es suficiente)."
      ]
    },
    {
      "cell_type": "code",
      "execution_count": null,
      "metadata": {
        "id": "j2x-EmYki-VE",
        "outputId": "b2d8c8fe-0053-410e-e098-64bbac07c8c9",
        "colab": {
          "base_uri": "https://localhost:8080/"
        }
      },
      "outputs": [
        {
          "output_type": "stream",
          "name": "stdout",
          "text": [
            "True\n",
            "False\n"
          ]
        }
      ],
      "source": [
        "print(\"one\" in eng)\n",
        "print(\"uno\" in eng)\n"
      ]
    },
    {
      "cell_type": "markdown",
      "metadata": {
        "id": "uUXYtIyYi-VE"
      },
      "source": [
        "Para ver si algo aparece como valor en un diccionario, puedes usar el método\n",
        "values, el cual retorna los valores como una lista, y después puedes usar el operador\n",
        "in:"
      ]
    },
    {
      "cell_type": "code",
      "execution_count": null,
      "metadata": {
        "id": "TufMyy4Fi-VE",
        "outputId": "94573964-b715-4081-eafe-f72472dcf506",
        "colab": {
          "base_uri": "https://localhost:8080/"
        }
      },
      "outputs": [
        {
          "output_type": "execute_result",
          "data": {
            "text/plain": [
              "dict_values(['uno', 'dos', 'tres'])"
            ]
          },
          "metadata": {},
          "execution_count": 179
        }
      ],
      "source": [
        "eng.values()"
      ]
    },
    {
      "cell_type": "code",
      "execution_count": null,
      "metadata": {
        "scrolled": false,
        "id": "htjnpLZKi-VE",
        "outputId": "cec43d59-5d0b-465c-af3c-584f61e7e1bd",
        "colab": {
          "base_uri": "https://localhost:8080/"
        }
      },
      "outputs": [
        {
          "output_type": "stream",
          "name": "stdout",
          "text": [
            "True\n"
          ]
        }
      ],
      "source": [
        "values = list(eng.values())\n",
        "print(\"uno\" in values)"
      ]
    },
    {
      "cell_type": "code",
      "execution_count": null,
      "metadata": {
        "id": "IRA7buYfi-VE"
      },
      "outputs": [],
      "source": [
        "palabra = \"brontosaurio\"\n",
        "d = dict()"
      ]
    },
    {
      "cell_type": "code",
      "execution_count": null,
      "metadata": {
        "id": "N_uaaG5Ri-VE",
        "outputId": "04a9bf5f-ce15-4395-a7af-be5d9f0b9e2d",
        "colab": {
          "base_uri": "https://localhost:8080/"
        }
      },
      "outputs": [
        {
          "output_type": "stream",
          "name": "stdout",
          "text": [
            "{'b': 1, 'r': 2, 'o': 3, 'n': 1, 't': 1, 's': 1, 'a': 1, 'u': 1, 'i': 1}\n"
          ]
        }
      ],
      "source": [
        "for c in palabra:\n",
        "    if c not in d:\n",
        "        d[c] = 1\n",
        "    else:\n",
        "        d[c] = d[c]+1\n",
        "print(d)"
      ]
    },
    {
      "cell_type": "markdown",
      "metadata": {
        "id": "BToyREhki-VF"
      },
      "source": [
        "El conteo indica que las letras “a” y “b” aparecen solo una vez; “o” aparece\n",
        "dos, y así sucesivamente."
      ]
    },
    {
      "cell_type": "code",
      "execution_count": null,
      "metadata": {
        "id": "9Q5tvGQOi-VF"
      },
      "outputs": [],
      "source": [
        "cuentas = {\"Jose\":1, \"Carmen\":42, \"Juan\":5}"
      ]
    },
    {
      "cell_type": "code",
      "execution_count": null,
      "metadata": {
        "scrolled": false,
        "id": "XFelJSkHi-VF",
        "outputId": "c75b20cc-51cf-41f4-b579-e3b78745be9f",
        "colab": {
          "base_uri": "https://localhost:8080/"
        }
      },
      "outputs": [
        {
          "output_type": "stream",
          "name": "stdout",
          "text": [
            "None\n"
          ]
        }
      ],
      "source": [
        "#cuentas.get(\"Jose\")\n",
        "print(cuentas.get(\"Armando\"))"
      ]
    },
    {
      "cell_type": "markdown",
      "metadata": {
        "id": "d-LXh5S0i-VF"
      },
      "source": [
        "### Diccionarios y archivos\n",
        "Uno de los usos más comunes de un diccionario es contar las ocurrencias de palabras\n",
        "en un archivo con algún texto escrito. Vamos comenzando con un archivo de\n",
        "palabras muy simple tomado del texto de Romeo y Julieta.\n",
        "Para el primer conjunto de ejemplos, vamos a usar una versión más corta y más\n",
        "simplificada del texto sin signos de puntuación."
      ]
    },
    {
      "cell_type": "code",
      "execution_count": null,
      "metadata": {
        "id": "OOyDt1-xi-VF"
      },
      "outputs": [],
      "source": [
        "texto = [\"But soft what light through yonder window breaks\\n\",\" It is the east and Juliet is the sun Arise fair sun\\n \",\"and kill the envious moon\\n\" ,\"Who is already sick and pale with grief\"]"
      ]
    },
    {
      "cell_type": "code",
      "execution_count": null,
      "metadata": {
        "id": "qHanlAQui-VF",
        "outputId": "8daa544b-b01d-4b0d-e6f8-c911a012fea2",
        "colab": {
          "base_uri": "https://localhost:8080/"
        }
      },
      "outputs": [
        {
          "output_type": "stream",
          "name": "stdout",
          "text": [
            "['But soft what light through yonder window breaks\\n', ' It is the east and Juliet is the sun Arise fair sun\\n ', 'and kill the envious moon\\n', 'Who is already sick and pale with grief']\n"
          ]
        }
      ],
      "source": [
        "print(texto)"
      ]
    },
    {
      "cell_type": "code",
      "execution_count": null,
      "metadata": {
        "id": "OvwRFRrii-VG",
        "outputId": "8efe54ec-09db-4bd1-f775-2925cff4f34f",
        "colab": {
          "base_uri": "https://localhost:8080/"
        }
      },
      "outputs": [
        {
          "output_type": "stream",
          "name": "stdout",
          "text": [
            "{'But': 1, 'soft': 1, 'what': 1, 'light': 1, 'through': 1, 'yonder': 1, 'window': 1, 'breaks': 1, 'It': 1, 'is': 3, 'the': 3, 'east': 1, 'and': 3, 'Juliet': 1, 'sun': 2, 'Arise': 1, 'fair': 1, 'kill': 1, 'envious': 1, 'moon': 1, 'Who': 1, 'already': 1, 'sick': 1, 'pale': 1, 'with': 1, 'grief': 1}\n"
          ]
        }
      ],
      "source": [
        "counts = dict()\n",
        "for line in texto:\n",
        "    words = line.split()\n",
        "    for word in words:\n",
        "        if word not in counts:\n",
        "            counts[word] = 1\n",
        "        else:\n",
        "            counts[word] = counts[word] +1\n",
        "print(counts)\n",
        "    \n"
      ]
    },
    {
      "cell_type": "markdown",
      "metadata": {
        "id": "ezJ5CCP7i-VG"
      },
      "source": [
        "Si utilizas un diccionario como una secuencia para una sentencia for, esta recorre\n",
        "las claves del diccionario. Este bucle imprime cada clave y su valor correspondiente:\n"
      ]
    },
    {
      "cell_type": "markdown",
      "source": [
        "## Tuplas\n",
        "\n",
        "Las tuplas en Python son un tipo o estructura de datos que permite almacenar datos de una manera muy parecida a las listas, con la salvedad de que son inmutables.\n",
        "\n",
        "\n",
        "Las tuplas en Python  son muy similares a las listas, pero con dos diferencias. Son inmutables, lo que significa que no pueden ser modificadas una vez declaradas, y en vez de inicializarse con corchetes se hace con (). Dependiendo de lo que queramos hacer, las tuplas pueden ser más rápidas."
      ],
      "metadata": {
        "id": "TeRVguJfpKoC"
      }
    },
    {
      "cell_type": "code",
      "source": [
        "tupla = (1, 2, 3)\n",
        "print(tupla)"
      ],
      "metadata": {
        "colab": {
          "base_uri": "https://localhost:8080/"
        },
        "id": "7k2ZCGGSpl-v",
        "outputId": "6837086e-3ed5-4b77-890c-0e816a6e2fb5"
      },
      "execution_count": null,
      "outputs": [
        {
          "output_type": "stream",
          "name": "stdout",
          "text": [
            "(1, 2, 3)\n"
          ]
        }
      ]
    },
    {
      "cell_type": "markdown",
      "source": [
        "También pueden declararse sin (), separando por , todos sus elementos."
      ],
      "metadata": {
        "id": "sAQ81jQiprjw"
      }
    },
    {
      "cell_type": "code",
      "source": [
        "tupla = 1, 2, 3\n",
        "print(type(tupla)) #<class 'tuple'>\n",
        "print(tupla)"
      ],
      "metadata": {
        "colab": {
          "base_uri": "https://localhost:8080/"
        },
        "id": "jr8eADkxpoeN",
        "outputId": "93906b44-fb3f-453b-904d-04729b2c2a3a"
      },
      "execution_count": null,
      "outputs": [
        {
          "output_type": "stream",
          "name": "stdout",
          "text": [
            "<class 'tuple'>\n",
            "(1, 2, 3)\n"
          ]
        }
      ]
    },
    {
      "cell_type": "markdown",
      "source": [
        "## Operaciones con tuplas\n",
        "Como hemos comentado, las tuplas son tipos inmutables, lo que significa que una vez asignado su valor, no puede ser modificado. Si se intenta, tendremos un TypeError."
      ],
      "metadata": {
        "id": "WHEFo5yIrL__"
      }
    },
    {
      "cell_type": "code",
      "source": [
        "tupla = (1, 2, 3)\n",
        "tupla[0] = 5 # Error! TypeError"
      ],
      "metadata": {
        "colab": {
          "base_uri": "https://localhost:8080/",
          "height": 185
        },
        "id": "BmcnJorxpvCk",
        "outputId": "ebdf1942-6b6e-486b-f4cd-811bd127413c"
      },
      "execution_count": null,
      "outputs": [
        {
          "output_type": "error",
          "ename": "TypeError",
          "evalue": "ignored",
          "traceback": [
            "\u001b[0;31m---------------------------------------------------------------------------\u001b[0m",
            "\u001b[0;31mTypeError\u001b[0m                                 Traceback (most recent call last)",
            "\u001b[0;32m<ipython-input-190-71a43cf352ad>\u001b[0m in \u001b[0;36m<module>\u001b[0;34m()\u001b[0m\n\u001b[1;32m      1\u001b[0m \u001b[0mtupla\u001b[0m \u001b[0;34m=\u001b[0m \u001b[0;34m(\u001b[0m\u001b[0;36m1\u001b[0m\u001b[0;34m,\u001b[0m \u001b[0;36m2\u001b[0m\u001b[0;34m,\u001b[0m \u001b[0;36m3\u001b[0m\u001b[0;34m)\u001b[0m\u001b[0;34m\u001b[0m\u001b[0;34m\u001b[0m\u001b[0m\n\u001b[0;32m----> 2\u001b[0;31m \u001b[0mtupla\u001b[0m\u001b[0;34m[\u001b[0m\u001b[0;36m0\u001b[0m\u001b[0;34m]\u001b[0m \u001b[0;34m=\u001b[0m \u001b[0;36m5\u001b[0m \u001b[0;31m# Error! TypeError\u001b[0m\u001b[0;34m\u001b[0m\u001b[0;34m\u001b[0m\u001b[0m\n\u001b[0m",
            "\u001b[0;31mTypeError\u001b[0m: 'tuple' object does not support item assignment"
          ]
        }
      ]
    },
    {
      "cell_type": "markdown",
      "source": [
        "Al igual que las listas, las tuplas también pueden ser anidadas."
      ],
      "metadata": {
        "id": "BoGDJ3PBsdk7"
      }
    },
    {
      "cell_type": "code",
      "source": [
        "tupla = 1, 2, ('a', 'b'), 3\n",
        "print(tupla)       #(1, 2, ('a', 'b'), 3)\n",
        "print(tupla[2][0]) #a"
      ],
      "metadata": {
        "colab": {
          "base_uri": "https://localhost:8080/"
        },
        "id": "N5Cf4IchsaXV",
        "outputId": "2792f99b-62c6-4c78-9df9-b18556f6731c"
      },
      "execution_count": null,
      "outputs": [
        {
          "output_type": "stream",
          "name": "stdout",
          "text": [
            "(1, 2, ('a', 'b'), 3)\n",
            "a\n"
          ]
        }
      ]
    },
    {
      "cell_type": "markdown",
      "source": [
        "Y también es posible convertir una lista en tupla haciendo uso de al función tuple()."
      ],
      "metadata": {
        "id": "TgT6r6zAsm1W"
      }
    },
    {
      "cell_type": "code",
      "source": [
        "lista = [1, 2, 3]\n",
        "tupla = tuple(lista)\n",
        "print(type(tupla)) #<class 'tuple'>\n",
        "print(tupla)       #(1, 2, 3)"
      ],
      "metadata": {
        "colab": {
          "base_uri": "https://localhost:8080/"
        },
        "id": "P-otC41ZsjLs",
        "outputId": "778be8b8-8e91-49ae-e99c-7e3d4fe72e97"
      },
      "execution_count": null,
      "outputs": [
        {
          "output_type": "stream",
          "name": "stdout",
          "text": [
            "<class 'tuple'>\n",
            "(1, 2, 3)\n"
          ]
        }
      ]
    },
    {
      "cell_type": "markdown",
      "source": [
        "Se puede iterar una tupla de la misma forma que se hacía con las listas."
      ],
      "metadata": {
        "id": "oQN3lrSIssEq"
      }
    },
    {
      "cell_type": "code",
      "source": [
        "tupla = [1, 2, 3]\n",
        "for t in tupla:\n",
        "    print(t) #1, 2, 3"
      ],
      "metadata": {
        "colab": {
          "base_uri": "https://localhost:8080/"
        },
        "id": "Q7yQDQwVso56",
        "outputId": "721c08c9-6a31-4e79-8122-dfe2d683132f"
      },
      "execution_count": null,
      "outputs": [
        {
          "output_type": "stream",
          "name": "stdout",
          "text": [
            "1\n",
            "2\n",
            "3\n"
          ]
        }
      ]
    },
    {
      "cell_type": "markdown",
      "source": [
        "Y se puede también asignar el valor de una tupla con n elementos a n variables."
      ],
      "metadata": {
        "id": "_HJO_gakswqP"
      }
    },
    {
      "cell_type": "code",
      "source": [
        "l = (1, 2, 3)\n",
        "x, y, z = l\n",
        "print(x, y, z) #1 2 3"
      ],
      "metadata": {
        "colab": {
          "base_uri": "https://localhost:8080/"
        },
        "id": "Ctn30XT1suNr",
        "outputId": "5483f66d-1cec-4aab-d66d-db804e251e80"
      },
      "execution_count": null,
      "outputs": [
        {
          "output_type": "stream",
          "name": "stdout",
          "text": [
            "1 2 3\n"
          ]
        }
      ]
    },
    {
      "cell_type": "markdown",
      "source": [
        "Aunque tal vez no tenga mucho sentido a nivel práctico, es posible crear una tupla de un solo elemento. Para ello debes usar , antes del paréntesis, porque de lo contrario (2) sería interpretado como int."
      ],
      "metadata": {
        "id": "PWxHDt54s5er"
      }
    },
    {
      "cell_type": "code",
      "source": [
        "tupla = (2,)\n",
        "print(type(tupla)) #<class 'tuple'>"
      ],
      "metadata": {
        "colab": {
          "base_uri": "https://localhost:8080/"
        },
        "id": "5zwGtWOZsy8q",
        "outputId": "82f8622b-7dc2-4c76-a6dc-6f882b4aeb92"
      },
      "execution_count": null,
      "outputs": [
        {
          "output_type": "stream",
          "name": "stdout",
          "text": [
            "<class 'tuple'>\n"
          ]
        }
      ]
    },
    {
      "cell_type": "code",
      "source": [],
      "metadata": {
        "id": "d-jBRa9xs877"
      },
      "execution_count": null,
      "outputs": []
    },
    {
      "cell_type": "markdown",
      "source": [
        "El método count() cuenta el número de veces que el objeto pasado como parámetro se ha encontrado en la lista."
      ],
      "metadata": {
        "id": "lyZARa9NtB4n"
      }
    },
    {
      "cell_type": "code",
      "source": [
        "l = (1, 1, 1, 3, 5)\n",
        "print(l.count(1)) #3"
      ],
      "metadata": {
        "colab": {
          "base_uri": "https://localhost:8080/"
        },
        "id": "awqzWZZdtCss",
        "outputId": "671c89da-5b15-4ef4-ca01-3ba1e3622ebf"
      },
      "execution_count": null,
      "outputs": [
        {
          "output_type": "stream",
          "name": "stdout",
          "text": [
            "3\n"
          ]
        }
      ]
    },
    {
      "cell_type": "markdown",
      "source": [
        "El método index() busca el objeto que se le pasa como parámetro y devuelve el índice en el que se ha encontrado."
      ],
      "metadata": {
        "id": "M20vTKH9tK51"
      }
    },
    {
      "cell_type": "code",
      "source": [
        "l = (7, 7, 7, 3, 5)\n",
        "print(l.index(5)) #4"
      ],
      "metadata": {
        "colab": {
          "base_uri": "https://localhost:8080/"
        },
        "id": "m8R8ngD5tFlr",
        "outputId": "e1bf86ab-8c88-4b8e-d76f-19e5fb469652"
      },
      "execution_count": null,
      "outputs": [
        {
          "output_type": "stream",
          "name": "stdout",
          "text": [
            "4\n"
          ]
        }
      ]
    },
    {
      "cell_type": "code",
      "source": [
        "l[0]"
      ],
      "metadata": {
        "colab": {
          "base_uri": "https://localhost:8080/"
        },
        "id": "CJQUd_RNtMxZ",
        "outputId": "e9ebad25-863f-4e0c-90cb-3c58c2aac5ee"
      },
      "execution_count": null,
      "outputs": [
        {
          "output_type": "execute_result",
          "data": {
            "text/plain": [
              "7"
            ]
          },
          "metadata": {},
          "execution_count": 198
        }
      ]
    },
    {
      "cell_type": "code",
      "source": [
        "l[0:2]"
      ],
      "metadata": {
        "id": "73vDQfACtZFP",
        "outputId": "6cb3444d-258b-4c20-dfd2-b5d2914657e4",
        "colab": {
          "base_uri": "https://localhost:8080/"
        }
      },
      "execution_count": null,
      "outputs": [
        {
          "output_type": "execute_result",
          "data": {
            "text/plain": [
              "(7, 7)"
            ]
          },
          "metadata": {},
          "execution_count": 199
        }
      ]
    },
    {
      "cell_type": "code",
      "source": [
        "l[3:5]"
      ],
      "metadata": {
        "id": "q3X8N_ZAtabk",
        "outputId": "18cee4fc-8183-4467-b136-89f2e304ef32",
        "colab": {
          "base_uri": "https://localhost:8080/"
        }
      },
      "execution_count": null,
      "outputs": [
        {
          "output_type": "execute_result",
          "data": {
            "text/plain": [
              "(3, 5)"
            ]
          },
          "metadata": {},
          "execution_count": 200
        }
      ]
    },
    {
      "cell_type": "code",
      "source": [],
      "metadata": {
        "id": "CMOeUSSdtcpM"
      },
      "execution_count": null,
      "outputs": []
    }
  ],
  "metadata": {
    "kernelspec": {
      "display_name": "Python 3",
      "language": "python",
      "name": "python3"
    },
    "language_info": {
      "codemirror_mode": {
        "name": "ipython",
        "version": 3
      },
      "file_extension": ".py",
      "mimetype": "text/x-python",
      "name": "python",
      "nbconvert_exporter": "python",
      "pygments_lexer": "ipython3",
      "version": "3.7.3"
    },
    "colab": {
      "provenance": []
    }
  },
  "nbformat": 4,
  "nbformat_minor": 0
}